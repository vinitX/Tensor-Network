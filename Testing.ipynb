{
  "nbformat": 4,
  "nbformat_minor": 0,
  "metadata": {
    "colab": {
      "name": "Testing",
      "provenance": [],
      "collapsed_sections": []
    },
    "kernelspec": {
      "display_name": "Python 3",
      "name": "python3"
    },
    "language_info": {
      "name": "python"
    }
  },
  "cells": [
    {
      "cell_type": "code",
      "metadata": {
        "colab": {
          "base_uri": "https://localhost:8080/"
        },
        "id": "1ZlaHijXzY9a",
        "outputId": "ce818bc5-8db7-4fcd-c87c-6e17c98d4ae8"
      },
      "source": [
        "!pip install mpnum"
      ],
      "execution_count": null,
      "outputs": [
        {
          "output_type": "stream",
          "name": "stdout",
          "text": [
            "Collecting mpnum\n",
            "  Downloading mpnum-1.0.2-py2.py3-none-any.whl (78 kB)\n",
            "\u001b[?25l\r\u001b[K     |████▏                           | 10 kB 19.9 MB/s eta 0:00:01\r\u001b[K     |████████▍                       | 20 kB 23.2 MB/s eta 0:00:01\r\u001b[K     |████████████▌                   | 30 kB 15.4 MB/s eta 0:00:01\r\u001b[K     |████████████████▊               | 40 kB 10.9 MB/s eta 0:00:01\r\u001b[K     |█████████████████████           | 51 kB 5.5 MB/s eta 0:00:01\r\u001b[K     |█████████████████████████       | 61 kB 5.5 MB/s eta 0:00:01\r\u001b[K     |█████████████████████████████▎  | 71 kB 5.6 MB/s eta 0:00:01\r\u001b[K     |████████████████████████████████| 78 kB 3.3 MB/s \n",
            "\u001b[?25hRequirement already satisfied: SciPy>=0.15 in /usr/local/lib/python3.7/dist-packages (from mpnum) (1.4.1)\n",
            "Requirement already satisfied: NumPy>=1.5.1 in /usr/local/lib/python3.7/dist-packages (from mpnum) (1.19.5)\n",
            "Requirement already satisfied: six>=1.0 in /usr/local/lib/python3.7/dist-packages (from mpnum) (1.15.0)\n",
            "Installing collected packages: mpnum\n",
            "Successfully installed mpnum-1.0.2\n"
          ]
        }
      ]
    },
    {
      "cell_type": "code",
      "metadata": {
        "id": "MQ6PXLJgzdqL"
      },
      "source": [
        "import numpy as np\n",
        "import scipy as sp\n",
        "import functools as ft\n",
        "import numpy.linalg as la\n",
        "from scipy.sparse import lil_matrix, kron, identity, csr_matrix, random\n",
        "from scipy.sparse.linalg import eigsh, norm, svds\n",
        "from scipy.stats import unitary_group\n",
        "import mpnum\n",
        "import time\n",
        "import matplotlib.pyplot as plt\n",
        "import pickle\n",
        "from scipy.optimize import curve_fit\n",
        "from mpl_toolkits.mplot3d import Axes3D\n",
        "from decimal import Decimal"
      ],
      "execution_count": null,
      "outputs": []
    },
    {
      "cell_type": "markdown",
      "metadata": {
        "id": "Q14u97wbLQf-"
      },
      "source": [
        "### Addition of States"
      ]
    },
    {
      "cell_type": "code",
      "metadata": {
        "colab": {
          "base_uri": "https://localhost:8080/",
          "height": 283
        },
        "id": "qTFAasrfLOku",
        "outputId": "70084d7d-a769-4b78-d616-6c0b125caf32"
      },
      "source": [
        "def Entropy(p):\n",
        "  return -np.sum(p*np.log(p))\n",
        "\n",
        "n=10000\n",
        "p1=np.random.rand(n)\n",
        "p2=np.random.rand(n)\n",
        "\n",
        "p1=p1/np.sum(p1)\n",
        "p2=p2/np.sum(p2)\n",
        "p12=p1+p2 #(np.sqrt(p1)+np.sqrt(p2))**2\n",
        "p12=p12/np.sum(p12)\n",
        "\n",
        "p1=np.sort(p1)\n",
        "p2=np.sort(p2)\n",
        "\n",
        "plt.plot(p1)\n",
        "plt.plot(p2)\n",
        "plt.plot(np.sort(p12))\n",
        "\n",
        "print(Entropy(p1),Entropy(p2),Entropy(p12))"
      ],
      "execution_count": null,
      "outputs": [
        {
          "output_type": "stream",
          "name": "stdout",
          "text": [
            "9.01726989648089 9.014124173436631 9.117984247915956\n"
          ]
        },
        {
          "output_type": "display_data",
          "data": {
            "image/png": "[encoded data removed]",
            "text/plain": [
              "<Figure size 432x288 with 1 Axes>"
            ]
          },
          "metadata": {
            "needs_background": "light"
          }
        }
      ]
    },
    {
      "cell_type": "code",
      "metadata": {
        "id": "XGmbIuvNWGfs"
      },
      "source": [
        "N=64\n",
        "d=2\n",
        "max_rank=256"
      ],
      "execution_count": null,
      "outputs": []
    },
    {
      "cell_type": "markdown",
      "metadata": {
        "id": "wfFKM3RivY0l"
      },
      "source": [
        "### SVD"
      ]
    },
    {
      "cell_type": "code",
      "metadata": {
        "id": "DpnDS5x_3hDd"
      },
      "source": [
        "def Entangle(mpa,method='mps'):\n",
        "  N=len(mpa)\n",
        "  rank=max(mpa.ranks)\n",
        "\n",
        "  if method=='full':\n",
        "    #Warning: Full method can lead to memory run-offs. \n",
        "    psi=mpa.to_array()\n",
        "\n",
        "  else:\n",
        "    mpa.canonicalize(left=N//2-1, right=N//2)\n",
        "    #print(mpa.canonical_form)\n",
        "\n",
        "    M=mpa.lt\n",
        "    psi=np.tensordot(M[N//2-1],M[N//2],axes=(-1,0))\n",
        "  \n",
        "  psi_shape=int(np.sqrt(psi.size))\n",
        "  psi=np.reshape(psi,(psi_shape,psi_shape))\n",
        "  \n",
        "  S=la.svd(psi,compute_uv=False)\n",
        "  #print(la.norm(S))\n",
        "  S=S/la.norm(S)\n",
        "\n",
        "  S2=np.abs(S)\n",
        "  EE=-np.sum(S2**2*np.log2(S2**2+1e-32)) #Add eps=1e-32 to avoid log(0) error.\n",
        "  return EE, S"
      ],
      "execution_count": null,
      "outputs": []
    },
    {
      "cell_type": "code",
      "metadata": {
        "id": "w6G-3H5e3f9e"
      },
      "source": [
        "rank1=10\n",
        "rank2=10\n",
        "N=64\n",
        "d=2\n",
        "\n",
        "EE_hist=[]\n",
        "EE1_hist=[]\n",
        "EE2_hist=[]\n",
        "\n",
        "for i in range(10):\n",
        "  mpa1 = mpnum.random_mps(sites=N, ldim=d, rank=rank1)\n",
        "  mpa2 = mpnum.random_mps(sites=N, ldim=d, rank=rank2)\n",
        "\n",
        "  mpa= mpnum.sumup([mpa1,mpa2])\n",
        "  mpa=mpa/mpnum.norm(mpa)\n",
        "\n",
        "  EE,S=Entangle(mpa)\n",
        "  EE_hist.append(EE)\n",
        "  EE1,S1=Entangle(mpa1)\n",
        "  EE1_hist.append(EE1)\n",
        "  EE2,S2=Entangle(mpa2)\n",
        "  EE2_hist.append(EE2)"
      ],
      "execution_count": null,
      "outputs": []
    },
    {
      "cell_type": "code",
      "metadata": {
        "id": "ewBCPC7RAYR_",
        "colab": {
          "base_uri": "https://localhost:8080/",
          "height": 283
        },
        "outputId": "f701a0da-c4cc-4251-966c-49eefe36992e"
      },
      "source": [
        "#plt.plot(S1)\n",
        "#plt.plot(S2)\n",
        "plt.plot(S)\n",
        "alpha = np.flip(np.sort(np.append(S1,S2)))/np.sqrt(2)\n",
        "plt.plot(alpha)"
      ],
      "execution_count": null,
      "outputs": [
        {
          "output_type": "execute_result",
          "data": {
            "text/plain": [
              "[<matplotlib.lines.Line2D at 0x7f6aad205c10>]"
            ]
          },
          "metadata": {},
          "execution_count": 27
        },
        {
          "output_type": "display_data",
          "data": {
            "image/png": "[encoded data removed]",
            "text/plain": [
              "<Figure size 432x288 with 1 Axes>"
            ]
          },
          "metadata": {
            "needs_background": "light"
          }
        }
      ]
    },
    {
      "cell_type": "markdown",
      "metadata": {
        "id": "shMCq9NQAESS"
      },
      "source": [
        "$$S_T \\leq \\frac{(S_A + S_B)}{2} + log_2(2)$$\n",
        "\n",
        "$$S_T \\leq [aS_A + (1-a)S_B] + alog_2(a) + (1-a)log_2(1-a)$$\n"
      ]
    },
    {
      "cell_type": "code",
      "metadata": {
        "colab": {
          "base_uri": "https://localhost:8080/",
          "height": 283
        },
        "id": "kuu58IQs30zr",
        "outputId": "3b2bfa24-fe55-4f90-fd17-2a8f0b435010"
      },
      "source": [
        "EE1_hist=np.array(EE1_hist)\n",
        "EE2_hist=np.array(EE2_hist)\n",
        "\n",
        "plt.scatter(EE1_hist+EE2_hist,EE_hist,s=10)\n",
        "x0=np.arange(4,5,0.01)\n",
        "plt.plot(x0,x0/2+1,'r--')\n",
        "plt.show()\n",
        "\n",
        "x=EE1_hist+EE2_hist\n",
        "y=EE_hist\n",
        "\n",
        "np.polyfit(x,y,1)"
      ],
      "execution_count": null,
      "outputs": [
        {
          "output_type": "display_data",
          "data": {
            "image/png": "[encoded data removed]",
            "text/plain": [
              "<Figure size 432x288 with 1 Axes>"
            ]
          },
          "metadata": {
            "needs_background": "light"
          }
        },
        {
          "output_type": "execute_result",
          "data": {
            "text/plain": [
              "array([0.5, 1. ])"
            ]
          },
          "metadata": {},
          "execution_count": 19
        }
      ]
    },
    {
      "cell_type": "code",
      "metadata": {
        "id": "MCreU0AUEqBo"
      },
      "source": [
        ""
      ],
      "execution_count": null,
      "outputs": []
    },
    {
      "cell_type": "code",
      "metadata": {
        "id": "wM8P2r3eT7jk"
      },
      "source": [
        ""
      ],
      "execution_count": null,
      "outputs": []
    },
    {
      "cell_type": "code",
      "metadata": {
        "id": "q9azd53KT7mn"
      },
      "source": [
        ""
      ],
      "execution_count": null,
      "outputs": []
    },
    {
      "cell_type": "code",
      "metadata": {
        "id": "IZn9cEPRT7qP"
      },
      "source": [
        ""
      ],
      "execution_count": null,
      "outputs": []
    },
    {
      "cell_type": "markdown",
      "metadata": {
        "id": "6YPzcZhUHjKl"
      },
      "source": [
        "### AGSP"
      ]
    },
    {
      "cell_type": "code",
      "metadata": {
        "id": "C5YK923yQt24"
      },
      "source": [
        "def AGSP():\n",
        "  def loc_op():\n",
        "    U = unitary_group.rvs(4)\n",
        "    D=np.diag([1,1,0,0])\n",
        "    A = U@D@U.T.conj()\n",
        "\n",
        "    A=A.reshape((2,2,2,2))\n",
        "\n",
        "    return mpnum.MPArray.from_array_global(A,ndims=2)\n",
        "\n",
        "  DL_even = mpnum.factory.eye(sites=1, ldim=d)\n",
        "  DL_odd = loc_op()\n",
        "\n",
        "  for i in range(N//2-1):\n",
        "    DL_odd = mpnum.chain([DL_odd, loc_op()])\n",
        "    DL_even = mpnum.chain([DL_even, loc_op()])\n",
        "\n",
        "  DL_even=mpnum.chain([DL_even, mpnum.factory.eye(sites=1, ldim=d)])\n",
        "\n",
        "  A = mpnum.dot(DL_odd, DL_even)\n",
        "\n",
        "  EE,S=Entangle(A,method='mpo')\n",
        "\n",
        "  #print('square of singular values:', (S[:4]**2).round(3))\n",
        "\n",
        "  return A"
      ],
      "execution_count": null,
      "outputs": []
    },
    {
      "cell_type": "code",
      "metadata": {
        "colab": {
          "base_uri": "https://localhost:8080/"
        },
        "id": "-NDijixuT7g9",
        "outputId": "eed5e83a-2518-4f50-f782-9516a3d4bd6c"
      },
      "source": [
        "rank1=10\n",
        "rank2=10\n",
        "N=16\n",
        "S1_hist=[]\n",
        "S2_hist=[]\n",
        "SO_hist=[]\n",
        "norm_hist=[]\n",
        "\n",
        "for i in range(100):\n",
        "  mpa = mpnum.random_mps(sites=N, ldim=d, rank=rank1)\n",
        "  EE1,S1=Entangle(mpa)\n",
        "  S1_hist.append(EE1)\n",
        "\n",
        "  mpo = AGSP()\n",
        "  EE,S=Entangle(mpo)\n",
        "  SO_hist.append(EE)\n",
        "\n",
        "  mpa = mpnum.dot(mpo,mpa)\n",
        "  norm=mpnum.norm(mpa)\n",
        "\n",
        "  norm_hist.append(norm)\n",
        "  EE2,S2=Entangle(mpa)\n",
        "  S2_hist.append(EE2)"
      ],
      "execution_count": null,
      "outputs": [
        {
          "output_type": "stream",
          "name": "stdout",
          "text": [
            "square of singular values: [0.691 0.287 0.015 0.006]\n",
            "square of singular values: [0.817 0.147 0.03  0.005]\n",
            "square of singular values: [0.553 0.444 0.002 0.002]\n",
            "square of singular values: [0.829 0.149 0.019 0.003]\n",
            "square of singular values: [0.838 0.137 0.022 0.004]\n",
            "square of singular values: [0.865 0.112 0.02  0.003]\n",
            "square of singular values: [0.603 0.388 0.005 0.004]\n",
            "square of singular values: [0.758 0.231 0.008 0.002]\n",
            "square of singular values: [0.658 0.333 0.006 0.003]\n",
            "square of singular values: [0.825 0.173 0.002 0.   ]\n",
            "square of singular values: [0.659 0.335 0.004 0.002]\n",
            "square of singular values: [0.605 0.395 0.    0.   ]\n",
            "square of singular values: [0.761 0.204 0.028 0.008]\n",
            "square of singular values: [0.858 0.105 0.033 0.004]\n",
            "square of singular values: [0.832 0.143 0.021 0.004]\n",
            "square of singular values: [0.837 0.114 0.043 0.006]\n",
            "square of singular values: [0.702 0.247 0.037 0.013]\n",
            "square of singular values: [0.76  0.231 0.007 0.002]\n",
            "square of singular values: [0.743 0.254 0.003 0.001]\n",
            "square of singular values: [0.738 0.261 0.001 0.   ]\n",
            "square of singular values: [0.591 0.409 0.    0.   ]\n",
            "square of singular values: [0.819 0.166 0.013 0.003]\n",
            "square of singular values: [0.804 0.146 0.043 0.008]\n",
            "square of singular values: [0.601 0.387 0.007 0.005]\n",
            "square of singular values: [0.579 0.421 0.    0.   ]\n",
            "square of singular values: [0.818 0.18  0.002 0.001]\n",
            "square of singular values: [0.781 0.189 0.024 0.006]\n",
            "square of singular values: [0.897 0.086 0.016 0.002]\n",
            "square of singular values: [0.708 0.268 0.017 0.006]\n",
            "square of singular values: [0.826 0.167 0.006 0.001]\n",
            "square of singular values: [0.745 0.237 0.014 0.004]\n",
            "square of singular values: [0.662 0.315 0.016 0.008]\n",
            "square of singular values: [0.797 0.196 0.006 0.002]\n",
            "square of singular values: [0.65  0.334 0.01  0.005]\n",
            "square of singular values: [0.724 0.202 0.057 0.016]\n",
            "square of singular values: [0.646 0.342 0.008 0.004]\n",
            "square of singular values: [0.872 0.115 0.011 0.001]\n",
            "square of singular values: [0.886 0.105 0.008 0.001]\n",
            "square of singular values: [0.822 0.17  0.006 0.001]\n",
            "square of singular values: [0.862 0.118 0.018 0.003]\n",
            "square of singular values: [0.675 0.296 0.02  0.009]\n",
            "square of singular values: [0.66 0.34 0.   0.  ]\n",
            "square of singular values: [0.752 0.23  0.014 0.004]\n",
            "square of singular values: [0.706 0.294 0.    0.   ]\n",
            "square of singular values: [0.846 0.129 0.022 0.003]\n",
            "square of singular values: [0.924 0.05  0.024 0.001]\n",
            "square of singular values: [0.889 0.103 0.008 0.001]\n",
            "square of singular values: [0.639 0.358 0.002 0.001]\n",
            "square of singular values: [0.799 0.136 0.055 0.009]\n",
            "square of singular values: [0.666 0.325 0.006 0.003]\n",
            "square of singular values: [0.854 0.09  0.051 0.005]\n",
            "square of singular values: [0.745 0.23  0.02  0.006]\n",
            "square of singular values: [0.706 0.247 0.035 0.012]\n",
            "square of singular values: [0.772 0.219 0.008 0.002]\n",
            "square of singular values: [0.8   0.148 0.044 0.008]\n",
            "square of singular values: [0.766 0.231 0.002 0.001]\n",
            "square of singular values: [0.756 0.223 0.016 0.005]\n",
            "square of singular values: [0.707 0.239 0.04  0.014]\n",
            "square of singular values: [0.817 0.151 0.027 0.005]\n",
            "square of singular values: [0.539 0.461 0.    0.   ]\n",
            "square of singular values: [0.775 0.181 0.036 0.008]\n",
            "square of singular values: [0.887 0.112 0.001 0.   ]\n",
            "square of singular values: [0.775 0.205 0.016 0.004]\n",
            "square of singular values: [0.754 0.193 0.041 0.011]\n",
            "square of singular values: [0.816 0.158 0.022 0.004]\n",
            "square of singular values: [0.733 0.232 0.026 0.008]\n",
            "square of singular values: [0.895 0.095 0.009 0.001]\n",
            "square of singular values: [0.651 0.328 0.014 0.007]\n",
            "square of singular values: [0.807 0.175 0.015 0.003]\n",
            "square of singular values: [0.775 0.176 0.039 0.009]\n",
            "square of singular values: [0.786 0.213 0.001 0.   ]\n",
            "square of singular values: [0.905 0.091 0.003 0.   ]\n",
            "square of singular values: [0.739 0.165 0.078 0.017]\n",
            "square of singular values: [0.756 0.218 0.02  0.006]\n",
            "square of singular values: [0.824 0.156 0.017 0.003]\n",
            "square of singular values: [0.788 0.201 0.009 0.002]\n",
            "square of singular values: [0.836 0.14  0.02  0.003]\n",
            "square of singular values: [0.652 0.343 0.003 0.002]\n",
            "square of singular values: [0.623 0.374 0.001 0.001]\n",
            "square of singular values: [0.811 0.164 0.021 0.004]\n",
            "square of singular values: [0.847 0.131 0.019 0.003]\n",
            "square of singular values: [0.586 0.413 0.001 0.   ]\n",
            "square of singular values: [0.791 0.182 0.022 0.005]\n",
            "square of singular values: [0.881 0.099 0.018 0.002]\n",
            "square of singular values: [0.683 0.271 0.033 0.013]\n",
            "square of singular values: [0.651 0.345 0.002 0.001]\n",
            "square of singular values: [0.632 0.357 0.007 0.004]\n",
            "square of singular values: [0.707 0.288 0.003 0.001]\n",
            "square of singular values: [0.632 0.36  0.005 0.003]\n",
            "square of singular values: [0.585 0.412 0.002 0.001]\n",
            "square of singular values: [0.78  0.211 0.007 0.002]\n",
            "square of singular values: [0.787 0.164 0.041 0.008]\n",
            "square of singular values: [0.82  0.173 0.006 0.001]\n",
            "square of singular values: [0.606 0.392 0.002 0.001]\n",
            "square of singular values: [0.693 0.296 0.008 0.003]\n",
            "square of singular values: [0.725 0.208 0.051 0.015]\n",
            "square of singular values: [0.827 0.15  0.02  0.004]\n",
            "square of singular values: [0.667 0.331 0.001 0.001]\n",
            "square of singular values: [0.876 0.109 0.013 0.002]\n",
            "square of singular values: [0.826 0.172 0.002 0.   ]\n"
          ]
        }
      ]
    },
    {
      "cell_type": "code",
      "metadata": {
        "id": "iAhlHaPl8gLx"
      },
      "source": [
        "SO_hist=np.array(SO_hist)\n",
        "S1_hist=np.array(S1_hist)\n",
        "S2_hist=np.array(S2_hist)\n",
        "norm_hist=np.array(norm_hist)"
      ],
      "execution_count": null,
      "outputs": []
    },
    {
      "cell_type": "code",
      "metadata": {
        "colab": {
          "base_uri": "https://localhost:8080/",
          "height": 283
        },
        "id": "530idtVHV6xL",
        "outputId": "8241ca8b-cd9f-4f0a-8e8b-29f7ef23d5ea"
      },
      "source": [
        "plt.scatter(norm_hist,SO_hist)"
      ],
      "execution_count": null,
      "outputs": [
        {
          "output_type": "execute_result",
          "data": {
            "text/plain": [
              "<matplotlib.collections.PathCollection at 0x7fdd988ed410>"
            ]
          },
          "metadata": {},
          "execution_count": 42
        },
        {
          "output_type": "display_data",
          "data": {
            "image/png": "[encoded data removed]",
            "text/plain": [
              "<Figure size 432x288 with 1 Axes>"
            ]
          },
          "metadata": {
            "needs_background": "light"
          }
        }
      ]
    },
    {
      "cell_type": "code",
      "metadata": {
        "id": "sAa_lARpV6zw"
      },
      "source": [
        ""
      ],
      "execution_count": null,
      "outputs": []
    },
    {
      "cell_type": "code",
      "metadata": {
        "id": "Z_sJaxN6V62X"
      },
      "source": [
        ""
      ],
      "execution_count": null,
      "outputs": []
    },
    {
      "cell_type": "code",
      "metadata": {
        "id": "CGUwyIRPV658"
      },
      "source": [
        ""
      ],
      "execution_count": null,
      "outputs": []
    },
    {
      "cell_type": "markdown",
      "metadata": {
        "id": "UmQD90J8L9qo"
      },
      "source": [
        "### Operation"
      ]
    },
    {
      "cell_type": "code",
      "metadata": {
        "id": "BHDPMpcaz49l"
      },
      "source": [
        "def run_test(curr_iter, n_iter=8):\n",
        "  rng = np.random.RandomState(seed=42)\n",
        "  rank=1\n",
        "  mpa = mpnum.random_mps(sites=N, ldim=d, rank=rank, randstate=rng)\n",
        "\n",
        "  A=AGSP()\n",
        "  #save(A, 'AGSP'+str(curr_iter))\n",
        "\n",
        "  S_hist=np.zeros((d*max_rank,0))\n",
        "  EE_hist=[]\n",
        "  norm_hist=[]\n",
        "\n",
        "  for i in range(n_iter):\n",
        "    tm=time.time()\n",
        "\n",
        "    mpa = mpnum.dot(A,mpa)\n",
        "    norm=mpnum.norm(mpa)\n",
        "    mpa=mpa/norm\n",
        "\n",
        "    EE,S=Entangle(mpa)\n",
        "    EE_hist.append(EE)\n",
        "    S_exp=np.zeros(d*max_rank)\n",
        "    S_exp[:len(S)]=S[:d*max_rank]\n",
        "    S_hist=np.concatenate((S_hist, S_exp.reshape(-1,1)), axis=1)\n",
        "\n",
        "    new_rank = np.count_nonzero(S_hist[:,i]>1e-16, axis=0)\n",
        "\n",
        "    mpa.compress(method='var',\n",
        "                      rank=min(new_rank, max_rank),\n",
        "                      num_sweeps=4)\n",
        "    \n",
        "    norm_hist.append(norm)\n",
        "    print(\"Epoch: \",i+1,\"\\t Rank: \", new_rank, \"\\t Entropy: \", '%.3E' % Decimal(EE), \"\\t Norm: \", '%.2E' % Decimal(norm), \"\\t Time: \",np.round(time.time()-tm,3))\n",
        "\n",
        "  return S_hist, np.array(EE_hist), np.array(norm_hist)"
      ],
      "execution_count": null,
      "outputs": []
    },
    {
      "cell_type": "code",
      "metadata": {
        "id": "OcE1JuQpSc0r",
        "colab": {
          "base_uri": "https://localhost:8080/"
        },
        "outputId": "d24c285e-ce82-4b65-86ff-0cfbd50379d5"
      },
      "source": [
        "for i in range(1):\n",
        "  S, EE, norm = run_test(i, n_iter=10)\n",
        "\n",
        "  #save(S, 'S'+str(i))\n",
        "  #save(EE, 'EE'+str(i))\n",
        "  #save(norm, 'norm'+str(i))"
      ],
      "execution_count": null,
      "outputs": [
        {
          "output_type": "stream",
          "name": "stdout",
          "text": [
            "square of singular values: [0.756 0.203 0.032 0.009]\n",
            "Epoch:  1 \t Rank:  2 \t Entropy:  3.612E-01 \t Norm:  2.37E-12 \t Time:  0.436\n",
            "Epoch:  2 \t Rank:  4 \t Entropy:  4.840E-01 \t Norm:  8.17E-07 \t Time:  0.465\n",
            "Epoch:  3 \t Rank:  8 \t Entropy:  5.882E-01 \t Norm:  9.27E-06 \t Time:  0.527\n",
            "Epoch:  4 \t Rank:  17 \t Entropy:  5.703E-01 \t Norm:  2.27E-05 \t Time:  1.496\n",
            "Epoch:  5 \t Rank:  35 \t Entropy:  4.641E-01 \t Norm:  3.59E-05 \t Time:  3.355\n",
            "Epoch:  6 \t Rank:  62 \t Entropy:  3.442E-01 \t Norm:  4.86E-05 \t Time:  9.869\n",
            "Epoch:  7 \t Rank:  71 \t Entropy:  2.471E-01 \t Norm:  5.93E-05 \t Time:  21.956\n",
            "Epoch:  8 \t Rank:  72 \t Entropy:  1.783E-01 \t Norm:  6.71E-05 \t Time:  26.939\n",
            "Epoch:  9 \t Rank:  72 \t Entropy:  1.327E-01 \t Norm:  7.25E-05 \t Time:  27.685\n",
            "Epoch:  10 \t Rank:  71 \t Entropy:  1.031E-01 \t Norm:  7.61E-05 \t Time:  27.677\n"
          ]
        }
      ]
    },
    {
      "cell_type": "markdown",
      "metadata": {
        "id": "opCKud9JTFmo"
      },
      "source": [
        "### Plots"
      ]
    },
    {
      "cell_type": "code",
      "metadata": {
        "colab": {
          "base_uri": "https://localhost:8080/",
          "height": 285
        },
        "id": "Y7KmLtGM80MS",
        "outputId": "1cfcdc77-84a0-4840-a410-33e8e2ac94fc"
      },
      "source": [
        "plt.title('(Schmidt coefficients)$^2$')\n",
        "plt.plot(np.arange(4),S[:4,:10]**2)\n",
        "plt.show()"
      ],
      "execution_count": null,
      "outputs": [
        {
          "output_type": "display_data",
          "data": {
            "image/png": "[encoded data removed]",
            "text/plain": [
              "<Figure size 432x288 with 1 Axes>"
            ]
          },
          "metadata": {
            "needs_background": "light"
          }
        }
      ]
    },
    {
      "cell_type": "code",
      "metadata": {
        "colab": {
          "base_uri": "https://localhost:8080/",
          "height": 281
        },
        "id": "G_DFJaoUKGy9",
        "outputId": "9809c993-d064-4c48-9c4e-8f98a58db852"
      },
      "source": [
        "plt.semilogy(S[:max_rank//4,:10])\n",
        "plt.title('Schmidt coefficients')\n",
        "plt.ylim((1e-16,1))\n",
        "#plt.legend(np.arange(6,12))\n",
        "plt.show()"
      ],
      "execution_count": null,
      "outputs": [
        {
          "output_type": "display_data",
          "data": {
            "image/png": "[encoded data removed]",
            "text/plain": [
              "<Figure size 432x288 with 1 Axes>"
            ]
          },
          "metadata": {
            "needs_background": "light"
          }
        }
      ]
    },
    {
      "cell_type": "code",
      "metadata": {
        "id": "O1h7YuCfGrdn"
      },
      "source": [
        "ER=np.count_nonzero(S>1e-16, axis=0)"
      ],
      "execution_count": null,
      "outputs": []
    },
    {
      "cell_type": "code",
      "metadata": {
        "colab": {
          "base_uri": "https://localhost:8080/",
          "height": 281
        },
        "id": "DWQ14a1ApRtF",
        "outputId": "b96d9680-85db-4f56-efd2-bda7117e0d54"
      },
      "source": [
        "plt.plot(ER)\n",
        "plt.title('Entanglement Rank')\n",
        "plt.show()"
      ],
      "execution_count": null,
      "outputs": [
        {
          "output_type": "display_data",
          "data": {
            "image/png": "[encoded data removed]",
            "text/plain": [
              "<Figure size 432x288 with 1 Axes>"
            ]
          },
          "metadata": {
            "needs_background": "light"
          }
        }
      ]
    },
    {
      "cell_type": "code",
      "metadata": {
        "colab": {
          "base_uri": "https://localhost:8080/",
          "height": 281
        },
        "id": "GGHijitMK4Xh",
        "outputId": "a9460003-c455-469f-b721-0a7be37fdac0"
      },
      "source": [
        "plt.plot(EE)\n",
        "#plt.plot(np.log2(ER[i].T))\n",
        "plt.title('Entanglement Entropy')\n",
        "#plt.hlines(EE,0,len(EE_hist)-1,colors='r',linestyles='dashed')\n",
        "plt.show()"
      ],
      "execution_count": null,
      "outputs": [
        {
          "output_type": "display_data",
          "data": {
            "image/png": "[encoded data removed]",
            "text/plain": [
              "<Figure size 432x288 with 1 Axes>"
            ]
          },
          "metadata": {
            "needs_background": "light"
          }
        }
      ]
    },
    {
      "cell_type": "code",
      "metadata": {
        "id": "Q9Rk3lGwSsQA"
      },
      "source": [
        "log_norm=np.log2(norm)\n",
        "norm_sum = np.cumsum(log_norm)"
      ],
      "execution_count": null,
      "outputs": []
    },
    {
      "cell_type": "code",
      "metadata": {
        "colab": {
          "base_uri": "https://localhost:8080/",
          "height": 265
        },
        "id": "Wfy1h8BfDDas",
        "outputId": "a4333c9e-53cd-4ce5-cafd-57facecacbf8"
      },
      "source": [
        "plt.plot((norm_sum[:10] - np.outer(log_norm[9],np.arange(10))).T, c='r')\n",
        "plt.show()"
      ],
      "execution_count": null,
      "outputs": [
        {
          "output_type": "display_data",
          "data": {
            "image/png": "[encoded data removed]",
            "text/plain": [
              "<Figure size 432x288 with 1 Axes>"
            ]
          },
          "metadata": {
            "needs_background": "light"
          }
        }
      ]
    },
    {
      "cell_type": "markdown",
      "metadata": {
        "id": "lOguSSAAgcO7"
      },
      "source": [
        "Let a_i be the norm cut down at the ith step.  Then we want to plot $f(k)= \\prod_{i=1}^k a_i / (a_{10})^k$\n"
      ]
    },
    {
      "cell_type": "code",
      "metadata": {
        "id": "VE8n8EGQFPAc"
      },
      "source": [
        ""
      ],
      "execution_count": null,
      "outputs": []
    }
  ]
}