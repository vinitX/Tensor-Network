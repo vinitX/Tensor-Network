{
  "nbformat": 4,
  "nbformat_minor": 0,
  "metadata": {
    "colab": {
      "name": "Hubbard_Exact",
      "provenance": [],
      "authorship_tag": "ABX9TyNSIIrRly3O9f3CQNIEJVX4"
    },
    "kernelspec": {
      "name": "python3",
      "display_name": "Python 3"
    },
    "language_info": {
      "name": "python"
    }
  },
  "cells": [
    {
      "cell_type": "code",
      "metadata": {
        "id": "63iZfcpMyMec"
      },
      "source": [
        "from scipy.sparse import lil_matrix, kron, identity, csr_matrix\n",
        "from scipy.sparse.linalg import eigsh, norm\n",
        "import numpy as np\n",
        "import matplotlib.pyplot as plt\n",
        "import time"
      ],
      "execution_count": null,
      "outputs": []
    },
    {
      "cell_type": "code",
      "metadata": {
        "id": "4UxrBYdgyS_2"
      },
      "source": [
        "C = {'up': np.zeros((4,4)), 'down': np.zeros((4,4))}  # single-site creation/anihilation operators\n",
        "C['up'][0,1] = 1\n",
        "C['up'][2,3] = 1\n",
        "C['down'][0,2] = 1\n",
        "C['down'][1,3] = 1"
      ],
      "execution_count": null,
      "outputs": []
    },
    {
      "cell_type": "code",
      "metadata": {
        "id": "7-_U8K4xsiwc"
      },
      "source": [
        "C_dag = {'up': C['up'].T.conj(), 'down': C['down'].T.conj()}"
      ],
      "execution_count": null,
      "outputs": []
    },
    {
      "cell_type": "code",
      "metadata": {
        "id": "TuUJRoOayagG"
      },
      "source": [
        "N=8"
      ],
      "execution_count": null,
      "outputs": []
    },
    {
      "cell_type": "markdown",
      "metadata": {
        "id": "MNIuGijcU4u_"
      },
      "source": [
        "### Hamiltonian and Ground State"
      ]
    },
    {
      "cell_type": "code",
      "metadata": {
        "id": "dPEkwrsmqfvf"
      },
      "source": [
        "H2=np.zeros((4**2,4**2))\n",
        "for spin in ['up', 'down']:\n",
        "  H2-= kron(C_dag[spin],C[spin]) + kron(C[spin],C_dag[spin])\n",
        "\n",
        "H2=csr_matrix(H2/2)"
      ],
      "execution_count": null,
      "outputs": []
    },
    {
      "cell_type": "code",
      "metadata": {
        "colab": {
          "base_uri": "https://localhost:8080/",
          "height": 282
        },
        "id": "gaG3kGn_-6aQ",
        "outputId": "19d608aa-2091-45fa-d660-cb5c11686e9f"
      },
      "source": [
        "a,b=np.linalg.eigh(H2.toarray())\n",
        "plt.plot(a)"
      ],
      "execution_count": null,
      "outputs": [
        {
          "output_type": "execute_result",
          "data": {
            "text/plain": [
              "[<matplotlib.lines.Line2D at 0x7f7cc9969f90>]"
            ]
          },
          "metadata": {
            "tags": []
          },
          "execution_count": 6
        },
        {
          "output_type": "display_data",
          "data": {
            "image/png": "[encoded data removed]",
            "text/plain": [
              "<Figure size 432x288 with 1 Axes>"
            ]
          },
          "metadata": {
            "tags": [],
            "needs_background": "light"
          }
        }
      ]
    },
    {
      "cell_type": "code",
      "metadata": {
        "colab": {
          "base_uri": "https://localhost:8080/"
        },
        "id": "VJoXJ6Xe-8MM",
        "outputId": "438e55e6-521b-4012-f3dc-d05f4c406390"
      },
      "source": [
        "gs=b[:,0]\n",
        "\n",
        "keys=np.flip(np.argsort(np.abs(gs)))\n",
        "for i in range(4):\n",
        "  temp=bin(keys[i])[2:]\n",
        "  print('0'*(4-len(temp))+temp, '\\t', np.abs(gs[keys[i]])**2)"
      ],
      "execution_count": null,
      "outputs": [
        {
          "output_type": "stream",
          "text": [
            "0011 \t 0.25000000000000033\n",
            "1001 \t 0.24999999999999994\n",
            "0110 \t 0.24999999999999994\n",
            "1100 \t 0.2499999999999996\n"
          ],
          "name": "stdout"
        }
      ]
    },
    {
      "cell_type": "code",
      "metadata": {
        "id": "3HbqQiHk-nNQ"
      },
      "source": [
        "H = H2.copy()\n",
        "for i in range(N-2):\n",
        "  H=kron(H,identity(4))+kron(identity(H.shape[0]//4),H2)"
      ],
      "execution_count": null,
      "outputs": []
    },
    {
      "cell_type": "code",
      "metadata": {
        "colab": {
          "base_uri": "https://localhost:8080/",
          "height": 486
        },
        "id": "_lmlaypP_6Si",
        "outputId": "5a2bbc49-6aa1-43e6-ae91-bd7d7f306d4e"
      },
      "source": [
        "plt.figure(figsize=(8,8))\n",
        "plt.spy(H, markersize=0.1)\n",
        "plt.show()"
      ],
      "execution_count": null,
      "outputs": [
        {
          "output_type": "display_data",
          "data": {
            "image/png": "[encoded data removed]",
            "text/plain": [
              "<Figure size 576x576 with 1 Axes>"
            ]
          },
          "metadata": {
            "tags": [],
            "needs_background": "light"
          }
        }
      ]
    },
    {
      "cell_type": "code",
      "metadata": {
        "colab": {
          "base_uri": "https://localhost:8080/"
        },
        "id": "iJGBeKP8QDaU",
        "outputId": "9fd41cea-d0c0-4461-c162-a64434857349"
      },
      "source": [
        "tm=time.time()\n",
        "l,v=eigsh(H, 1, which='SA') #Only one eigenvalue\n",
        "print(time.time()-tm)"
      ],
      "execution_count": null,
      "outputs": [
        {
          "output_type": "stream",
          "text": [
            "0.23219895362854004\n"
          ],
          "name": "stdout"
        }
      ]
    },
    {
      "cell_type": "code",
      "metadata": {
        "id": "1-LdmAJRQ5X1"
      },
      "source": [
        "gs=v[:,0]"
      ],
      "execution_count": null,
      "outputs": []
    },
    {
      "cell_type": "code",
      "metadata": {
        "id": "mixXNdYUg8Uj",
        "colab": {
          "base_uri": "https://localhost:8080/",
          "height": 35
        },
        "outputId": "3cf30c6f-d78b-4973-8569-1c4994f94392"
      },
      "source": [
        "'''\n",
        "a,b=np.linalg.eigh(H.toarray())\n",
        "plt.plot(a)\n",
        "np.round(np.abs(b[:,0])**2,3)\n",
        "'''"
      ],
      "execution_count": null,
      "outputs": [
        {
          "output_type": "execute_result",
          "data": {
            "application/vnd.google.colaboratory.intrinsic+json": {
              "type": "string"
            },
            "text/plain": [
              "'\\na,b=np.linalg.eigh(H.toarray())\\nplt.plot(a)\\nnp.round(np.abs(b[:,0])**2,3)\\n'"
            ]
          },
          "metadata": {
            "tags": []
          },
          "execution_count": 12
        }
      ]
    },
    {
      "cell_type": "markdown",
      "metadata": {
        "id": "gmCmdEAaUzAE"
      },
      "source": [
        "### Projection Operator"
      ]
    },
    {
      "cell_type": "code",
      "metadata": {
        "id": "GaHW9F-Nz_96"
      },
      "source": [
        "P2 = - H2"
      ],
      "execution_count": null,
      "outputs": []
    },
    {
      "cell_type": "code",
      "metadata": {
        "id": "3W-dzTOG0_qe"
      },
      "source": [
        "Pi_odd = P2.copy()\n",
        "for i in range(N//2-1):\n",
        "  Pi_odd=kron(Pi_odd,P2)\n",
        "\n",
        "Pi_even = identity(4)\n",
        "for i in range(N//2-1):\n",
        "  Pi_even=kron(Pi_even,P2)\n",
        "Pi_even=kron(Pi_even,identity(4))"
      ],
      "execution_count": null,
      "outputs": []
    },
    {
      "cell_type": "code",
      "metadata": {
        "id": "JiN5ZxdP1AVa"
      },
      "source": [
        "A=Pi_odd@Pi_even"
      ],
      "execution_count": null,
      "outputs": []
    },
    {
      "cell_type": "code",
      "metadata": {
        "id": "pCGfq9G22cVq",
        "colab": {
          "base_uri": "https://localhost:8080/",
          "height": 486
        },
        "outputId": "4268e0cc-3cd0-4d1d-804e-099c20bdad36"
      },
      "source": [
        "plt.figure(figsize=(8,8))\n",
        "plt.spy(A, markersize=0.1)\n",
        "plt.show()"
      ],
      "execution_count": null,
      "outputs": [
        {
          "output_type": "display_data",
          "data": {
            "image/png": "[encoded data removed]",
            "text/plain": [
              "<Figure size 576x576 with 1 Axes>"
            ]
          },
          "metadata": {
            "tags": [],
            "needs_background": "light"
          }
        }
      ]
    },
    {
      "cell_type": "markdown",
      "metadata": {
        "id": "bxfNSnPVUcUf"
      },
      "source": [
        "### Invariance of Ground State"
      ]
    },
    {
      "cell_type": "code",
      "metadata": {
        "id": "rKP0a285UfYl"
      },
      "source": [
        "gs_new = A.dot(gs)"
      ],
      "execution_count": null,
      "outputs": []
    },
    {
      "cell_type": "code",
      "metadata": {
        "colab": {
          "base_uri": "https://localhost:8080/"
        },
        "id": "AF6JRsnpUnsB",
        "outputId": "6b3ba141-9eac-486f-b4eb-279bca6b1911"
      },
      "source": [
        "np.abs(np.dot(gs.conj(),gs_new)) #Overlap of gs_new with ground state"
      ],
      "execution_count": null,
      "outputs": [
        {
          "output_type": "execute_result",
          "data": {
            "text/plain": [
              "0.023220992123280437"
            ]
          },
          "metadata": {
            "tags": []
          },
          "execution_count": 18
        }
      ]
    },
    {
      "cell_type": "code",
      "metadata": {
        "colab": {
          "base_uri": "https://localhost:8080/",
          "height": 282
        },
        "id": "Jt41RvNhVKIy",
        "outputId": "6108612f-fb96-4b8d-97dd-e3968207328d"
      },
      "source": [
        "plt.scatter(np.abs(gs),np.abs(gs_new))"
      ],
      "execution_count": null,
      "outputs": [
        {
          "output_type": "execute_result",
          "data": {
            "text/plain": [
              "<matplotlib.collections.PathCollection at 0x7f7cc737e5d0>"
            ]
          },
          "metadata": {
            "tags": []
          },
          "execution_count": 19
        },
        {
          "output_type": "display_data",
          "data": {
            "image/png": "[encoded data removed]",
            "text/plain": [
              "<Figure size 432x288 with 1 Axes>"
            ]
          },
          "metadata": {
            "tags": [],
            "needs_background": "light"
          }
        }
      ]
    },
    {
      "cell_type": "markdown",
      "metadata": {
        "id": "KTq9bH5zULWe"
      },
      "source": [
        "### Entanglement"
      ]
    },
    {
      "cell_type": "code",
      "metadata": {
        "id": "CNVAkPWvCQNP"
      },
      "source": [
        "def EE(S):\n",
        "  S=np.abs(S)\n",
        "  return -np.sum(S**2*np.log(S**2))"
      ],
      "execution_count": null,
      "outputs": []
    },
    {
      "cell_type": "code",
      "metadata": {
        "id": "ojTjN6_FCcJ6"
      },
      "source": [
        "psi=(np.random.rand(4**N)-0.5)+1j*(np.random.rand(4**N)-0.5)\n",
        "psi=psi/np.linalg.norm(psi)"
      ],
      "execution_count": null,
      "outputs": []
    },
    {
      "cell_type": "code",
      "metadata": {
        "id": "S6BTF7Um3eFz"
      },
      "source": [
        "psi=np.reshape(psi,(4**(N//2),4**(N//2)))\n",
        "U,S,Vh=np.linalg.svd(psi)"
      ],
      "execution_count": null,
      "outputs": []
    },
    {
      "cell_type": "code",
      "metadata": {
        "id": "eLrOAcP96siW"
      },
      "source": [
        "psi=np.reshape(psi,-1)\n",
        "psi_new = A.dot(psi)"
      ],
      "execution_count": null,
      "outputs": []
    },
    {
      "cell_type": "code",
      "metadata": {
        "id": "Nhlwsj9ZRQZp"
      },
      "source": [
        "psi_new=psi_new/np.linalg.norm(psi_new) #Normalization"
      ],
      "execution_count": null,
      "outputs": []
    },
    {
      "cell_type": "code",
      "metadata": {
        "id": "Y1ikEw9z7nEO"
      },
      "source": [
        "psi_new=np.reshape(psi_new,(4**(N//2),4**(N//2)))\n",
        "U,S_new,Vh=np.linalg.svd(psi_new)"
      ],
      "execution_count": null,
      "outputs": []
    },
    {
      "cell_type": "code",
      "metadata": {
        "colab": {
          "base_uri": "https://localhost:8080/",
          "height": 282
        },
        "id": "pOl_hlWtRnC4",
        "outputId": "52b7ed36-83a5-46d2-fb1b-4e7d9b81b2f8"
      },
      "source": [
        "plt.plot(S)\n",
        "plt.plot(S_new)"
      ],
      "execution_count": null,
      "outputs": [
        {
          "output_type": "execute_result",
          "data": {
            "text/plain": [
              "[<matplotlib.lines.Line2D at 0x7faea0898d50>]"
            ]
          },
          "metadata": {
            "tags": []
          },
          "execution_count": 56
        },
        {
          "output_type": "display_data",
          "data": {
            "image/png": "[encoded data removed]",
            "text/plain": [
              "<Figure size 432x288 with 1 Axes>"
            ]
          },
          "metadata": {
            "tags": [],
            "needs_background": "light"
          }
        }
      ]
    },
    {
      "cell_type": "code",
      "metadata": {
        "id": "zbaZO829CqEU",
        "colab": {
          "base_uri": "https://localhost:8080/"
        },
        "outputId": "0f94d9b1-df2b-43b9-e99e-cc521b4a6149"
      },
      "source": [
        "EE(S), EE(S_new)"
      ],
      "execution_count": null,
      "outputs": [
        {
          "output_type": "execute_result",
          "data": {
            "text/plain": [
              "(5.045461902629102, 3.3896465247849914)"
            ]
          },
          "metadata": {
            "tags": []
          },
          "execution_count": 60
        }
      ]
    },
    {
      "cell_type": "code",
      "metadata": {
        "colab": {
          "base_uri": "https://localhost:8080/"
        },
        "id": "UNiJ8-VNVk75",
        "outputId": "4fa606dc-748b-4170-e46b-6b066ea2c3a9"
      },
      "source": [
        "np.linalg.norm(S), np.linalg.norm(S_new)"
      ],
      "execution_count": null,
      "outputs": [
        {
          "output_type": "execute_result",
          "data": {
            "text/plain": [
              "(1.0000000000000004, 0.9999999999999997)"
            ]
          },
          "metadata": {
            "tags": []
          },
          "execution_count": 59
        }
      ]
    },
    {
      "cell_type": "code",
      "metadata": {
        "id": "aLUt8t8GTg0e"
      },
      "source": [
        "psi_new=np.reshape(psi_new,-1)"
      ],
      "execution_count": null,
      "outputs": []
    },
    {
      "cell_type": "markdown",
      "metadata": {
        "id": "pkubAf6MT_4a"
      },
      "source": [
        "### Energy"
      ]
    },
    {
      "cell_type": "code",
      "metadata": {
        "colab": {
          "base_uri": "https://localhost:8080/"
        },
        "id": "39rb6VYnAi66",
        "outputId": "9bfa595e-583e-4f02-d62d-c2e52ca58a73"
      },
      "source": [
        "np.real(np.dot(psi.conj(),H.dot(psi))) #Energy of psi"
      ],
      "execution_count": null,
      "outputs": [
        {
          "output_type": "execute_result",
          "data": {
            "text/plain": [
              "0.04722549637349938"
            ]
          },
          "metadata": {
            "tags": []
          },
          "execution_count": 125
        }
      ]
    },
    {
      "cell_type": "code",
      "metadata": {
        "colab": {
          "base_uri": "https://localhost:8080/"
        },
        "id": "h_5UetR6TEjp",
        "outputId": "55c571a6-401f-4afb-811b-571edcd0df57"
      },
      "source": [
        "np.real(np.dot(psi_new.conj(),H.dot(psi_new))) #Energy of psi_new"
      ],
      "execution_count": null,
      "outputs": [
        {
          "output_type": "execute_result",
          "data": {
            "text/plain": [
              "-0.36325433029005205"
            ]
          },
          "metadata": {
            "tags": []
          },
          "execution_count": 126
        }
      ]
    },
    {
      "cell_type": "code",
      "metadata": {
        "colab": {
          "base_uri": "https://localhost:8080/"
        },
        "id": "0zcSCcmPCGX6",
        "outputId": "ac5ba6c7-0c7a-4670-f36e-0303b424ae31"
      },
      "source": [
        "np.real(np.dot(gs.conj(),H.dot(gs))) #Energy of Ground State"
      ],
      "execution_count": null,
      "outputs": [
        {
          "output_type": "execute_result",
          "data": {
            "text/plain": [
              "-1.0917757051857095"
            ]
          },
          "metadata": {
            "tags": []
          },
          "execution_count": 127
        }
      ]
    },
    {
      "cell_type": "markdown",
      "metadata": {
        "id": "bQdgkF4PUCaG"
      },
      "source": [
        "### Overlap"
      ]
    },
    {
      "cell_type": "code",
      "metadata": {
        "colab": {
          "base_uri": "https://localhost:8080/"
        },
        "id": "SaDLDomQQOly",
        "outputId": "36d95035-9aa2-43fa-d2b0-e92056ace48c"
      },
      "source": [
        "np.abs(np.dot(gs.conj(),psi)) #Overlap of psi with ground state"
      ],
      "execution_count": null,
      "outputs": [
        {
          "output_type": "execute_result",
          "data": {
            "text/plain": [
              "0.009005824696667764"
            ]
          },
          "metadata": {
            "tags": []
          },
          "execution_count": 128
        }
      ]
    },
    {
      "cell_type": "code",
      "metadata": {
        "colab": {
          "base_uri": "https://localhost:8080/"
        },
        "id": "yAFY5ieQTtph",
        "outputId": "0049ca95-214e-4e3a-95af-f2873ddf5f66"
      },
      "source": [
        "np.abs(np.dot(gs.conj(),psi_new)) #Overlap of psi_new with ground state"
      ],
      "execution_count": null,
      "outputs": [
        {
          "output_type": "execute_result",
          "data": {
            "text/plain": [
              "0.10204526104166214"
            ]
          },
          "metadata": {
            "tags": []
          },
          "execution_count": 129
        }
      ]
    },
    {
      "cell_type": "code",
      "metadata": {
        "colab": {
          "base_uri": "https://localhost:8080/"
        },
        "id": "vpC_AvOLSApc",
        "outputId": "794869f2-5207-4192-cd49-4253ad2aa58e"
      },
      "source": [
        "np.abs(gs)**2"
      ],
      "execution_count": null,
      "outputs": [
        {
          "output_type": "execute_result",
          "data": {
            "text/plain": [
              "array([1.58694941e-38, 4.25848318e-40, 3.10497560e-41, ...,\n",
              "       9.66799527e-42, 1.23220952e-39, 1.28691706e-40])"
            ]
          },
          "metadata": {
            "tags": []
          },
          "execution_count": 130
        }
      ]
    },
    {
      "cell_type": "code",
      "metadata": {
        "id": "F4Iz1eEPbO2s"
      },
      "source": [
        ""
      ],
      "execution_count": null,
      "outputs": []
    }
  ]
}