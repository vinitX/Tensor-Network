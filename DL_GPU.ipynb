{
  "nbformat": 4,
  "nbformat_minor": 0,
  "metadata": {
    "colab": {
      "name": "DL_GPU",
      "provenance": [],
      "collapsed_sections": [
        "wfFKM3RivY0l",
        "QLjPj8XNGiFm"
      ]
    },
    "kernelspec": {
      "display_name": "Python 3",
      "name": "python3"
    },
    "language_info": {
      "name": "python"
    },
    "accelerator": "GPU"
  },
  "cells": [
    {
      "cell_type": "code",
      "metadata": {
        "colab": {
          "base_uri": "https://localhost:8080/"
        },
        "id": "1ZlaHijXzY9a",
        "outputId": "8c0ccd94-7741-4b49-a6a9-d5ca36e9f38b"
      },
      "source": [
        "!pip install mpnum\n",
        "#!pip install git+https://github.com/vinitX/mpnum.git"
      ],
      "execution_count": null,
      "outputs": [
        {
          "output_type": "stream",
          "text": [
            "Requirement already satisfied: mpnum in /usr/local/lib/python3.7/dist-packages (1.0.2)\n",
            "Requirement already satisfied: SciPy>=0.15 in /usr/local/lib/python3.7/dist-packages (from mpnum) (1.4.1)\n",
            "Requirement already satisfied: six>=1.0 in /usr/local/lib/python3.7/dist-packages (from mpnum) (1.15.0)\n",
            "Requirement already satisfied: NumPy>=1.5.1 in /usr/local/lib/python3.7/dist-packages (from mpnum) (1.19.5)\n"
          ],
          "name": "stdout"
        }
      ]
    },
    {
      "cell_type": "code",
      "metadata": {
        "colab": {
          "base_uri": "https://localhost:8080/"
        },
        "id": "Eze7MCkCD65H",
        "outputId": "ef7b9c04-2b75-4345-eb0b-2d1bb3c9c90e"
      },
      "source": [
        "from google.colab import drive\n",
        "drive.mount('/content/drive')\n",
        "\n",
        "filepath='/content/drive/My Drive/UCB Research/'"
      ],
      "execution_count": null,
      "outputs": [
        {
          "output_type": "stream",
          "text": [
            "Mounted at /content/drive\n"
          ],
          "name": "stdout"
        }
      ]
    },
    {
      "cell_type": "code",
      "metadata": {
        "id": "MQ6PXLJgzdqL"
      },
      "source": [
        "import numpy as np\n",
        "import functools as ft\n",
        "import numpy.linalg as la\n",
        "import cupy as cp\n",
        "from scipy.sparse import lil_matrix, kron, identity, csr_matrix, random\n",
        "from scipy.sparse.linalg import eigsh, norm, svds\n",
        "import cupyx.scipy.sparse.linalg as cpla\n",
        "import mpnum\n",
        "import time\n",
        "import matplotlib.pyplot as plt\n",
        "import pickle\n",
        "from scipy.optimize import curve_fit\n",
        "from mpl_toolkits.mplot3d import Axes3D"
      ],
      "execution_count": null,
      "outputs": []
    },
    {
      "cell_type": "code",
      "metadata": {
        "id": "XGmbIuvNWGfs"
      },
      "source": [
        "N=32\n",
        "d=2\n",
        "max_rank=32"
      ],
      "execution_count": null,
      "outputs": []
    },
    {
      "cell_type": "code",
      "metadata": {
        "id": "XfgZToFiHAbQ"
      },
      "source": [
        "def mpa_to_lt(a):\n",
        "  res=[]\n",
        "  for i in range(len(a)):\n",
        "    res.append(a.lt[i])\n",
        "  return res"
      ],
      "execution_count": null,
      "outputs": []
    },
    {
      "cell_type": "markdown",
      "metadata": {
        "id": "-k5ZEIKlG6AS"
      },
      "source": [
        "### Hamiltonian"
      ]
    },
    {
      "cell_type": "code",
      "metadata": {
        "id": "ZiL6V46xl8WX"
      },
      "source": [
        "sig_x=np.array([[0,1],[1,0]])\n",
        "sig_y=np.array([[0,-1j],[1j,0]])\n",
        "sig_z=np.array([[1,0],[0,-1]])\n",
        "I=np.identity(2)"
      ],
      "execution_count": null,
      "outputs": []
    },
    {
      "cell_type": "code",
      "metadata": {
        "id": "dc8aYkG4j4nB"
      },
      "source": [
        "H2 = np.kron(sig_x, sig_y)"
      ],
      "execution_count": null,
      "outputs": []
    },
    {
      "cell_type": "code",
      "metadata": {
        "id": "DhMdxAySsW7H"
      },
      "source": [
        "l,v=np.linalg.eigh(H2)"
      ],
      "execution_count": null,
      "outputs": []
    },
    {
      "cell_type": "code",
      "metadata": {
        "colab": {
          "base_uri": "https://localhost:8080/"
        },
        "id": "tR8l4pPNsb5C",
        "outputId": "f02977d6-b6c6-4ecb-d361-1520f6b6f1a6"
      },
      "source": [
        "l, v[:,0]"
      ],
      "execution_count": null,
      "outputs": [
        {
          "output_type": "execute_result",
          "data": {
            "text/plain": [
              "(array([-1., -1.,  1.,  1.]),\n",
              " array([-0.70710678+0.j        ,  0.        +0.j        ,\n",
              "         0.        +0.j        ,  0.        +0.70710678j]))"
            ]
          },
          "metadata": {
            "tags": []
          },
          "execution_count": 38
        }
      ]
    },
    {
      "cell_type": "code",
      "metadata": {
        "id": "46P6npVXj44g"
      },
      "source": [
        "A=np.kron(H2, I) \n",
        "B=np.kron(I, H2)"
      ],
      "execution_count": null,
      "outputs": []
    },
    {
      "cell_type": "code",
      "metadata": {
        "colab": {
          "base_uri": "https://localhost:8080/",
          "height": 513
        },
        "id": "A9G2LkZYj5D6",
        "outputId": "42d16ba1-2037-4af1-8e2c-5e2489123961"
      },
      "source": [
        "plt.imshow(np.abs(A))\n",
        "plt.show()\n",
        "\n",
        "plt.imshow(np.abs(B))\n",
        "plt.show()"
      ],
      "execution_count": null,
      "outputs": [
        {
          "output_type": "display_data",
          "data": {
            "image/png": "[encoded data removed]",
            "text/plain": [
              "<Figure size 432x288 with 1 Axes>"
            ]
          },
          "metadata": {
            "tags": [],
            "needs_background": "light"
          }
        },
        {
          "output_type": "display_data",
          "data": {
            "image/png": "[encoded data removed]",
            "text/plain": [
              "<Figure size 432x288 with 1 Axes>"
            ]
          },
          "metadata": {
            "tags": [],
            "needs_background": "light"
          }
        }
      ]
    },
    {
      "cell_type": "code",
      "metadata": {
        "colab": {
          "base_uri": "https://localhost:8080/",
          "height": 282
        },
        "id": "I3pqQlKjrG7O",
        "outputId": "d4db0a56-8f67-4351-afc6-e88e8b0c090d"
      },
      "source": [
        "plt.imshow(np.abs(A@B - B@A))"
      ],
      "execution_count": null,
      "outputs": [
        {
          "output_type": "execute_result",
          "data": {
            "text/plain": [
              "<matplotlib.image.AxesImage at 0x7f4793097810>"
            ]
          },
          "metadata": {
            "tags": []
          },
          "execution_count": 35
        },
        {
          "output_type": "display_data",
          "data": {
            "image/png": "[encoded data removed]",
            "text/plain": [
              "<Figure size 432x288 with 1 Axes>"
            ]
          },
          "metadata": {
            "tags": [],
            "needs_background": "light"
          }
        }
      ]
    },
    {
      "cell_type": "code",
      "metadata": {
        "id": "e2P9B_seeNl6"
      },
      "source": [
        "H=mpnum.random_mpo(sites=N, ldim=d, rank=4, hermitian=True)"
      ],
      "execution_count": null,
      "outputs": []
    },
    {
      "cell_type": "code",
      "metadata": {
        "id": "1eeEMFBwGH5R"
      },
      "source": [
        "#Loading Ground State\n",
        "gs=[]\n",
        "with open(filepath+'gs.pkl', 'rb') as input:\n",
        "  for i in range(N):\n",
        "    gs.append(pickle.load(input))\n",
        "\n",
        "gs=mpnum.MPArray(gs)\n",
        "\n",
        "#Loading Hamiltonian\n",
        "H=[]\n",
        "with open(filepath+'H.pkl', 'rb') as input:\n",
        "  for i in range(N):\n",
        "    H.append(pickle.load(input))\n",
        "\n",
        "H=mpnum.MPArray(H)"
      ],
      "execution_count": null,
      "outputs": []
    },
    {
      "cell_type": "markdown",
      "metadata": {
        "id": "LxQau37HyaRS"
      },
      "source": [
        "$O(N_{sweep} N T_{SVD}(dm))$"
      ]
    },
    {
      "cell_type": "code",
      "metadata": {
        "id": "PQlu9TZKPlNB"
      },
      "source": [
        "eigs = ft.partial(eigsh, k=1, tol=1e-6, which='SA')\n",
        "tm=time.time()\n",
        "E0,gs=mpnum.linalg.eig(H,num_sweeps=4,startvec_rank=min(16,max_rank),eigs=eigs)\n",
        "print(time.time()-tm, E0)"
      ],
      "execution_count": null,
      "outputs": []
    },
    {
      "cell_type": "code",
      "metadata": {
        "id": "HuZWOCNNCXKs"
      },
      "source": [
        "#Saving Ground State\n",
        "gs_lt=mpa_to_lt(gs)\n",
        "\n",
        "with open(filepath+'gs.pkl', 'wb') as output:\n",
        "  for i in range(N):\n",
        "    pickle.dump(gs_lt[i], output, pickle.HIGHEST_PROTOCOL)\n",
        "\n",
        "#Saving Hamiltonian\n",
        "H_lt=mpa_to_lt(H)\n",
        "\n",
        "with open(filepath+'H.pkl', 'wb') as output:\n",
        "  for i in range(N):\n",
        "    pickle.dump(H_lt[i], output, pickle.HIGHEST_PROTOCOL)"
      ],
      "execution_count": null,
      "outputs": []
    },
    {
      "cell_type": "markdown",
      "metadata": {
        "id": "wfFKM3RivY0l"
      },
      "source": [
        "### SVD"
      ]
    },
    {
      "cell_type": "code",
      "metadata": {
        "id": "DpnDS5x_3hDd"
      },
      "source": [
        "def Entangle(mpa,method='mps'):\n",
        "  N=len(mpa)\n",
        "  rank=max(mpa.ranks)\n",
        "\n",
        "  if method=='full':\n",
        "    #Warning: Full method can lead to memory run-offs. \n",
        "    psi=mpa.to_array()\n",
        "\n",
        "  else:\n",
        "    mpa.canonicalize(left=N//2-1, right=N//2)\n",
        "    #print(mpa.canonical_form)\n",
        "\n",
        "    M=mpa.lt\n",
        "    psi=np.tensordot(M[N//2-1],M[N//2],axes=(-1,0))\n",
        "  \n",
        "  psi_shape=int(np.sqrt(psi.size))\n",
        "  psi=np.reshape(psi,(psi_shape,psi_shape))\n",
        "  \n",
        "  S=la.svd(psi,compute_uv=False)\n",
        "  #print(la.norm(S))\n",
        "  S=S/la.norm(S)\n",
        "\n",
        "  S2=np.abs(S)\n",
        "  EE=-np.sum(S2**2*np.log2(S2**2+1e-32)) #Add eps=1e-32 to avoid log(0) error.\n",
        "  return EE, S"
      ],
      "execution_count": null,
      "outputs": []
    },
    {
      "cell_type": "code",
      "metadata": {
        "colab": {
          "base_uri": "https://localhost:8080/"
        },
        "id": "EragKYROWEET",
        "outputId": "6638cef4-6f6b-4f07-b070-c11da87f1fa3"
      },
      "source": [
        "tm=time.time()\n",
        "EE,S=Entangle(gs)  \n",
        "print(time.time()-tm)"
      ],
      "execution_count": null,
      "outputs": [
        {
          "output_type": "stream",
          "text": [
            "0.0782923698425293\n"
          ],
          "name": "stdout"
        }
      ]
    },
    {
      "cell_type": "code",
      "metadata": {
        "colab": {
          "base_uri": "https://localhost:8080/"
        },
        "id": "13AfvnMagVzp",
        "outputId": "4b9faf59-11b0-4c50-ad4a-6816a232e081"
      },
      "source": [
        "plt.semilogy(S[:64])"
      ],
      "execution_count": null,
      "outputs": [
        {
          "output_type": "execute_result",
          "data": {
            "text/plain": [
              "[<matplotlib.lines.Line2D at 0x7f113f35b4d0>]"
            ]
          },
          "metadata": {
            "tags": []
          },
          "execution_count": 13
        },
        {
          "output_type": "display_data",
          "data": {
            "image/png": "[encoded data removed]",
            "text/plain": [
              "<Figure size 432x288 with 1 Axes>"
            ]
          },
          "metadata": {
            "tags": [],
            "needs_background": "light"
          }
        }
      ]
    },
    {
      "cell_type": "markdown",
      "metadata": {
        "id": "6YPzcZhUHjKl"
      },
      "source": [
        "### AGSP"
      ]
    },
    {
      "cell_type": "code",
      "metadata": {
        "id": "oNu7-D3HpkAs"
      },
      "source": [
        "loc_op=mpnum.random_mps(sites=2, ldim=(d,d), rank=4) \n",
        "\n",
        "DL_even = mpnum.factory.eye(sites=1, ldim=d)\n",
        "DL_odd = loc_op  \n",
        "\n",
        "for i in range(N//2-1):\n",
        "  DL_odd = mpnum.chain([DL_odd, loc_op])\n",
        "  DL_even = mpnum.chain([DL_even, loc_op])\n",
        "\n",
        "DL_even=mpnum.chain([DL_even, mpnum.factory.eye(sites=1, ldim=d)])\n",
        "\n",
        "A = mpnum.dot(DL_odd, DL_even)"
      ],
      "execution_count": null,
      "outputs": []
    },
    {
      "cell_type": "code",
      "metadata": {
        "id": "aPydrKZ5G5RM"
      },
      "source": [
        "DL_even = mpnum.factory.eye(sites=1, ldim=d)\n",
        "DL_odd = mpnum.random_mps(sites=2, ldim=(d,d), rank=4)\n",
        "for i in range(N//2-1):\n",
        "  DL_odd = mpnum.chain([DL_odd, mpnum.random_mps(sites=2, ldim=(d,d), rank=4)]) \n",
        "  DL_even = mpnum.chain([DL_even, mpnum.random_mps(sites=2, ldim=(d,d), rank=4)])\n",
        "\n",
        "DL_even = mpnum.chain([DL_even, mpnum.factory.eye(sites=1, ldim=d)])\n",
        "\n",
        "A = mpnum.dot(DL_odd, DL_even)"
      ],
      "execution_count": null,
      "outputs": []
    },
    {
      "cell_type": "code",
      "metadata": {
        "id": "rgJ7YFR587lt"
      },
      "source": [
        "loc_op=mpnum.random_mps(sites=3, ldim=(d,d), rank=4)\n",
        "\n",
        "DL = [mpnum.factory.eye(sites=1, ldim=d), mpnum.factory.eye(sites=2, ldim=d), loc_op]\n",
        "\n",
        "for i in range(N-3):\n",
        "  if i%3==0: DL[0] = mpnum.chain([DL[0], loc_op])\n",
        "  elif i%3==1: DL[1] = mpnum.chain([DL[1], loc_op])\n",
        "  else: DL[2] = mpnum.chain([DL[2], loc_op])\n",
        "\n",
        "for i in range(3):\n",
        "  if len(DL[i])<N:\n",
        "    DL[i] = mpnum.chain([DL[i], mpnum.factory.eye(sites=N-len(DL[i]), ldim=d)]) \n",
        "\n",
        "A = mpnum.dot(DL[0], DL[1])\n",
        "A = mpnum.dot(A, DL[2])"
      ],
      "execution_count": null,
      "outputs": []
    },
    {
      "cell_type": "code",
      "metadata": {
        "colab": {
          "base_uri": "https://localhost:8080/"
        },
        "id": "KKg-xcmGqbKq",
        "outputId": "5da3cad5-9309-435f-b015-1f8ad98d997f"
      },
      "source": [
        "np.array(A.ranks)"
      ],
      "execution_count": null,
      "outputs": [
        {
          "output_type": "execute_result",
          "data": {
            "text/plain": [
              "array([ 4, 16, 16, 16, 16, 16, 16, 16, 16, 16, 16, 16, 16, 16, 16, 16, 16,\n",
              "       16, 16, 16, 16, 16, 16, 16, 16, 16, 16, 16, 16, 16,  4])"
            ]
          },
          "metadata": {
            "tags": []
          },
          "execution_count": 10
        }
      ]
    },
    {
      "cell_type": "code",
      "metadata": {
        "id": "1MunvhED2aj6",
        "colab": {
          "base_uri": "https://localhost:8080/",
          "height": 185
        },
        "outputId": "5c0662ba-479a-46d7-af4a-e148f8028a52"
      },
      "source": [
        "EE1,S1=Entangle(A,method='mpo')\n",
        "#EE1,S1=Entangle(loc_op,method='full')"
      ],
      "execution_count": null,
      "outputs": [
        {
          "output_type": "error",
          "ename": "NameError",
          "evalue": "ignored",
          "traceback": [
            "\u001b[0;31m---------------------------------------------------------------------------\u001b[0m",
            "\u001b[0;31mNameError\u001b[0m                                 Traceback (most recent call last)",
            "\u001b[0;32m<ipython-input-11-a6953cef0eb7>\u001b[0m in \u001b[0;36m<module>\u001b[0;34m()\u001b[0m\n\u001b[0;32m----> 1\u001b[0;31m \u001b[0mEE1\u001b[0m\u001b[0;34m,\u001b[0m\u001b[0mS1\u001b[0m\u001b[0;34m=\u001b[0m\u001b[0mEntangle\u001b[0m\u001b[0;34m(\u001b[0m\u001b[0mA\u001b[0m\u001b[0;34m,\u001b[0m\u001b[0mmethod\u001b[0m\u001b[0;34m=\u001b[0m\u001b[0;34m'mpo'\u001b[0m\u001b[0;34m)\u001b[0m\u001b[0;34m\u001b[0m\u001b[0;34m\u001b[0m\u001b[0m\n\u001b[0m\u001b[1;32m      2\u001b[0m \u001b[0;31m#EE1,S1=Entangle(loc_op,method='full')\u001b[0m\u001b[0;34m\u001b[0m\u001b[0;34m\u001b[0m\u001b[0;34m\u001b[0m\u001b[0m\n",
            "\u001b[0;31mNameError\u001b[0m: name 'Entangle' is not defined"
          ]
        }
      ]
    },
    {
      "cell_type": "code",
      "metadata": {
        "colab": {
          "base_uri": "https://localhost:8080/",
          "height": 271
        },
        "id": "cHgZekceyt3w",
        "outputId": "91ac94db-0992-4af6-c656-3d5048f18161"
      },
      "source": [
        "plt.semilogy(S1[:16]**2)\n",
        "plt.ylim((1e-10,1))\n",
        "plt.show()"
      ],
      "execution_count": null,
      "outputs": [
        {
          "output_type": "display_data",
          "data": {
            "image/png": "[encoded data removed]",
            "text/plain": [
              "<Figure size 432x288 with 1 Axes>"
            ]
          },
          "metadata": {
            "tags": [],
            "needs_background": "light"
          }
        }
      ]
    },
    {
      "cell_type": "code",
      "metadata": {
        "colab": {
          "base_uri": "https://localhost:8080/",
          "height": 269
        },
        "id": "5_jQcoGCyti4",
        "outputId": "972ceae6-d1a3-40f1-e8ff-a4e83a87c7e2"
      },
      "source": [
        "plt.plot(S1[:16]**2)\n",
        "plt.ylim((1e-10,1))\n",
        "plt.show()"
      ],
      "execution_count": null,
      "outputs": [
        {
          "output_type": "display_data",
          "data": {
            "image/png": "[encoded data removed]",
            "text/plain": [
              "<Figure size 432x288 with 1 Axes>"
            ]
          },
          "metadata": {
            "tags": [],
            "needs_background": "light"
          }
        }
      ]
    },
    {
      "cell_type": "code",
      "metadata": {
        "colab": {
          "base_uri": "https://localhost:8080/"
        },
        "id": "NlC6WrX0rS2h",
        "outputId": "5f6ad251-8a21-4bb2-ab6a-9799d5cd4e20"
      },
      "source": [
        "(S1[:4]**2).round(3)"
      ],
      "execution_count": null,
      "outputs": [
        {
          "output_type": "execute_result",
          "data": {
            "text/plain": [
              "array([0.394, 0.296, 0.152, 0.078])"
            ]
          },
          "metadata": {
            "tags": []
          },
          "execution_count": 21
        }
      ]
    },
    {
      "cell_type": "markdown",
      "metadata": {
        "id": "UmQD90J8L9qo"
      },
      "source": [
        "### Operation"
      ]
    },
    {
      "cell_type": "markdown",
      "metadata": {
        "id": "u4-qS3Af82jl"
      },
      "source": [
        "Space Complexity:\n",
        "* MPS: $O(N m_S^2 \\ m_O^2 \\ d)$\n",
        "* SVD: $O(d^N)$\n",
        "\n",
        "Run-Time Analysis:\n",
        "* $T_{SVD} = O(N d m^3)$ or $O(m^2 d^N + d^{3N/2})$ or $O(m^3 d^s + m^2 d^{3s/2})$ $\\quad$ (numpy)\n",
        "* $T_{eval} = O(N \\ m_S^3 \\ m_O \\ d^2)$ $\\quad$ ($m_S > m_O$)\n",
        "* $T_{norm} = O(N m_S^3 \\ d)$\n",
        "* $T_{dot}(m_{S1}, m_{S2}) = O(N m_{S1}^2 \\ m_{S2} \\ d)$ $\\quad$ ($m_{S1} > m_{S2}$)\n",
        "* $T_{overlap}(m_{S1}, m_O, m_{S2}) = O(N \\ m_{S1}^2 m_{S2} \\ m_O \\ d)$ $\\quad$ ($m_{S1} > m_{S2} > d*m_O$)\n",
        "* $T_{compress} = O(N_{sweep}) * T_{dot}(m_S \\ m_O,\\ m_S)$\n",
        "* $T_{total} = O(N_{iter} \\ (T_{SVD} + T_{eval} + T_{dot} + T_{compress})) \\approx O(N_{iter} N_{sweep} N m_S^3 m_O^3 d)$"
      ]
    },
    {
      "cell_type": "code",
      "metadata": {
        "id": "BHDPMpcaz49l"
      },
      "source": [
        "rng = np.random.RandomState(seed=42)\n",
        "rank=1\n",
        "mpa = mpnum.random_mps(sites=N, ldim=d, rank=rank, randstate=rng)"
      ],
      "execution_count": null,
      "outputs": []
    },
    {
      "cell_type": "code",
      "metadata": {
        "id": "KftHVrmKfrpm"
      },
      "source": [
        "Energy_hist=[]\n",
        "Overlap_hist=[]\n",
        "Comp_overlap_hist=[]\n",
        "EE_hist=[]\n",
        "S_hist=np.zeros((d*max_rank,0))"
      ],
      "execution_count": null,
      "outputs": []
    },
    {
      "cell_type": "code",
      "metadata": {
        "id": "ftZmKd5P5vWA",
        "colab": {
          "base_uri": "https://localhost:8080/",
          "height": 70
        },
        "outputId": "d5186e11-c20f-4e56-fffa-a4aa613857ea"
      },
      "source": [
        "'''\n",
        "for i in range(312):\n",
        "  #Loading MPS\n",
        "  mpa = []\n",
        "  with open(filepath+'mpa/mpa'+str(i)+'.pkl', 'rb') as input:\n",
        "    for i in range(N):\n",
        "      mpa.append(pickle.load(input))\n",
        "  mpa=mpnum.MPArray(mpa)\n",
        "\n",
        "  EE,S=Entangle(mpa)\n",
        "\n",
        "  EE_hist.append(EE)\n",
        "  S.resize(d*max_rank)\n",
        "  S_hist=np.concatenate((S_hist, S.reshape(-1,1)), axis=1)\n",
        "\n",
        "  Energy_hist.append(mpnum.sandwich(H,mpa))\n",
        "  Overlap_hist.append(mpnum.inner(gs,mpa))\n",
        "'''"
      ],
      "execution_count": null,
      "outputs": [
        {
          "output_type": "execute_result",
          "data": {
            "application/vnd.google.colaboratory.intrinsic+json": {
              "type": "string"
            },
            "text/plain": [
              "\"\\nfor i in range(312):\\n  #Loading MPS\\n  mpa = []\\n  with open(filepath+'mpa/mpa'+str(i)+'.pkl', 'rb') as input:\\n    for i in range(N):\\n      mpa.append(pickle.load(input))\\n  mpa=mpnum.MPArray(mpa)\\n\\n  EE,S=Entangle(mpa)\\n\\n  EE_hist.append(EE)\\n  S.resize(d*max_rank)\\n  S_hist=np.concatenate((S_hist, S.reshape(-1,1)), axis=1)\\n\\n  Energy_hist.append(mpnum.sandwich(H,mpa))\\n  Overlap_hist.append(mpnum.inner(gs,mpa))\\n\""
            ]
          },
          "metadata": {
            "tags": []
          },
          "execution_count": 24
        }
      ]
    },
    {
      "cell_type": "code",
      "metadata": {
        "colab": {
          "base_uri": "https://localhost:8080/"
        },
        "id": "UrFSneN97cUq",
        "outputId": "2e496f28-b813-4466-b859-679f54ebe3b5"
      },
      "source": [
        "for i in range(4):\n",
        "  '''\n",
        "  #Saving MPS\n",
        "  mpa_lt=mpa_to_lt(mpa)\n",
        "  with open(filepath+'mpa/mpa'+str(i)+'.pkl', 'wb') as output:\n",
        "    for j in range(N):\n",
        "      pickle.dump(mpa_lt[j], output, pickle.HIGHEST_PROTOCOL)\n",
        "  '''\n",
        "\n",
        "  tm=time.time()\n",
        "  EE,S=Entangle(mpa)\n",
        "\n",
        "  EE_hist.append(EE)\n",
        "  S.resize(d*max_rank)\n",
        "  S_hist=np.concatenate((S_hist, S.reshape(-1,1)), axis=1)\n",
        "\n",
        "  #Energy_hist.append(mpnum.sandwich(H,mpa))\n",
        "  #Overlap_hist.append(mpnum.inner(gs,mpa))\n",
        "\n",
        "  mpa = mpnum.dot(A,mpa)\n",
        "  mpa=mpa/mpnum.norm(mpa)\n",
        "\n",
        "  comp_overlap = mpa.compress(method='var',\n",
        "                    rank=min(max(mpa.ranks), max_rank),\n",
        "                    num_sweeps=4)\n",
        "  \n",
        "  print(\"Epoch: \",i+1,\"\\t Rank: \",np.count_nonzero(S_hist[:,i]>1e-15, axis=0), \"\\t Time: \",np.round(time.time()-tm,3))\n",
        "  Comp_overlap_hist.append(comp_overlap)"
      ],
      "execution_count": null,
      "outputs": [
        {
          "output_type": "stream",
          "text": [
            "Epoch:  1 \t Rank:  1 \t Time:  0.577\n",
            "Epoch:  2 \t Rank:  8 \t Time:  17.086\n",
            "Epoch:  3 \t Rank:  64 \t Time:  428.573\n",
            "Epoch:  4 \t Rank:  64 \t Time:  427.505\n"
          ],
          "name": "stdout"
        }
      ]
    },
    {
      "cell_type": "code",
      "metadata": {
        "id": "MW0dD_xJCsVc",
        "colab": {
          "base_uri": "https://localhost:8080/"
        },
        "outputId": "37e85c21-9126-41a9-8ff7-86af19a82223"
      },
      "source": [
        "np.array(mpa.ranks)"
      ],
      "execution_count": null,
      "outputs": [
        {
          "output_type": "execute_result",
          "data": {
            "text/plain": [
              "array([ 2,  4,  8, 16, 32, 64, 64, 64, 64, 64, 64, 64, 64, 64, 64, 64, 64,\n",
              "       64, 64, 64, 64, 64, 64, 64, 64, 64, 64, 64, 64, 64, 64, 64, 64, 64,\n",
              "       64, 64, 64, 64, 64, 64, 64, 64, 64, 64, 64, 64, 64, 64, 64, 64, 64,\n",
              "       64, 64, 64, 64, 64, 64, 64, 32, 16,  8,  4,  2])"
            ]
          },
          "metadata": {
            "tags": []
          },
          "execution_count": 26
        }
      ]
    },
    {
      "cell_type": "markdown",
      "metadata": {
        "id": "opCKud9JTFmo"
      },
      "source": [
        "### Plots"
      ]
    },
    {
      "cell_type": "code",
      "metadata": {
        "id": "T-uP8xgs8flG"
      },
      "source": [
        "x,y,z=S_hist[:3,1:]\n",
        "\n",
        "x=np.log2(x)\n",
        "y=np.log2(y)\n",
        "z=np.log2(z)"
      ],
      "execution_count": null,
      "outputs": []
    },
    {
      "cell_type": "code",
      "metadata": {
        "colab": {
          "base_uri": "https://localhost:8080/",
          "height": 411
        },
        "id": "npx9KDZ881jB",
        "outputId": "185facd8-f193-49ec-b217-40d8bb8e2457"
      },
      "source": [
        "fig = plt.figure(figsize = (10, 7))\n",
        "ax = plt.axes(projection =\"3d\")\n",
        "\n",
        "ax.scatter3D(x[1:], y[1:], z[1:], color = \"green\")\n",
        "ax.scatter3D(x[1], y[1], z[1], color = \"blue\",marker='s')\n",
        "#ax.scatter3D(np.log2(S[0]),np.log2(S[1]),np.log2(S[2]), color = \"r\")\n",
        "\n",
        "plt.show()"
      ],
      "execution_count": null,
      "outputs": [
        {
          "output_type": "display_data",
          "data": {
            "image/png": "[encoded data removed]",
            "text/plain": [
              "<Figure size 720x504 with 1 Axes>"
            ]
          },
          "metadata": {
            "tags": [],
            "needs_background": "light"
          }
        }
      ]
    },
    {
      "cell_type": "code",
      "metadata": {
        "colab": {
          "base_uri": "https://localhost:8080/",
          "height": 282
        },
        "id": "t634nuSG81yt",
        "outputId": "7519aa09-a8c5-4fcd-9d3e-58b20b8065bc"
      },
      "source": [
        "plt.scatter(x[:],y[:],c='green')\n",
        "plt.scatter(x[0],y[0],marker='s')\n",
        "#plt.scatter(np.log2(S[0]),np.log2(S[1]),marker='*',c='r')"
      ],
      "execution_count": null,
      "outputs": [
        {
          "output_type": "execute_result",
          "data": {
            "text/plain": [
              "<matplotlib.collections.PathCollection at 0x7f113ec36110>"
            ]
          },
          "metadata": {
            "tags": []
          },
          "execution_count": 29
        },
        {
          "output_type": "display_data",
          "data": {
            "image/png": "[encoded data removed]",
            "text/plain": [
              "<Figure size 432x288 with 1 Axes>"
            ]
          },
          "metadata": {
            "tags": [],
            "needs_background": "light"
          }
        }
      ]
    },
    {
      "cell_type": "code",
      "metadata": {
        "id": "Y7KmLtGM80MS",
        "colab": {
          "base_uri": "https://localhost:8080/",
          "height": 281
        },
        "outputId": "5c7aa4ae-9663-4af8-deb5-573691014aa1"
      },
      "source": [
        "plt.title('Schmidt coefficients')\n",
        "plt.plot(np.arange(4),S_hist[:4,:]**2)\n",
        "plt.show()"
      ],
      "execution_count": null,
      "outputs": [
        {
          "output_type": "display_data",
          "data": {
            "image/png": "[encoded data removed]",
            "text/plain": [
              "<Figure size 432x288 with 1 Axes>"
            ]
          },
          "metadata": {
            "tags": [],
            "needs_background": "light"
          }
        }
      ]
    },
    {
      "cell_type": "code",
      "metadata": {
        "id": "HvXqb9q2_PeO",
        "colab": {
          "base_uri": "https://localhost:8080/",
          "height": 281
        },
        "outputId": "042dbe62-e454-40f2-f9af-4ec547bbafde"
      },
      "source": [
        "plt.semilogy(S_hist[:max_rank,:6])\n",
        "plt.title('Schmidt coefficients')\n",
        "plt.ylim((1e-7,1))\n",
        "#plt.legend(np.arange(6,12))\n",
        "plt.show()"
      ],
      "execution_count": null,
      "outputs": [
        {
          "output_type": "display_data",
          "data": {
            "image/png": "[encoded data removed]",
            "text/plain": [
              "<Figure size 432x288 with 1 Axes>"
            ]
          },
          "metadata": {
            "tags": [],
            "needs_background": "light"
          }
        }
      ]
    },
    {
      "cell_type": "code",
      "metadata": {
        "id": "-BqdA4Ql9hUu",
        "colab": {
          "base_uri": "https://localhost:8080/",
          "height": 281
        },
        "outputId": "c4d69b04-7f68-49a7-82da-b854a3757bb2"
      },
      "source": [
        "plt.plot(EE_hist)\n",
        "plt.title('Entanglement Entropy')\n",
        "#plt.hlines(EE,0,len(EE_hist)-1,colors='r',linestyles='dashed')\n",
        "plt.show()"
      ],
      "execution_count": null,
      "outputs": [
        {
          "output_type": "display_data",
          "data": {
            "image/png": "[encoded data removed]",
            "text/plain": [
              "<Figure size 432x288 with 1 Axes>"
            ]
          },
          "metadata": {
            "tags": [],
            "needs_background": "light"
          }
        }
      ]
    },
    {
      "cell_type": "code",
      "metadata": {
        "id": "O1h7YuCfGrdn"
      },
      "source": [
        "ER=np.count_nonzero(S_hist>1e-16, axis=0)"
      ],
      "execution_count": null,
      "outputs": []
    },
    {
      "cell_type": "code",
      "metadata": {
        "id": "DWQ14a1ApRtF",
        "colab": {
          "base_uri": "https://localhost:8080/",
          "height": 298
        },
        "outputId": "d9cad259-75ed-4231-f7d6-a8d664a2aa67"
      },
      "source": [
        "plt.plot(ER)\n",
        "plt.title('Entanglement Rank')"
      ],
      "execution_count": null,
      "outputs": [
        {
          "output_type": "execute_result",
          "data": {
            "text/plain": [
              "Text(0.5, 1.0, 'Entanglement Rank')"
            ]
          },
          "metadata": {
            "tags": []
          },
          "execution_count": 35
        },
        {
          "output_type": "display_data",
          "data": {
            "image/png": "[encoded data removed]",
            "text/plain": [
              "<Figure size 432x288 with 1 Axes>"
            ]
          },
          "metadata": {
            "tags": [],
            "needs_background": "light"
          }
        }
      ]
    },
    {
      "cell_type": "markdown",
      "metadata": {
        "id": "QLjPj8XNGiFm"
      },
      "source": [
        "### Fitting"
      ]
    },
    {
      "cell_type": "code",
      "metadata": {
        "id": "kj-zQaiSEBC7"
      },
      "source": [
        "def f(x,a,b):\n",
        "  return (x*d)**(a*np.sqrt(x)+b)"
      ],
      "execution_count": null,
      "outputs": []
    },
    {
      "cell_type": "code",
      "metadata": {
        "id": "o0q6VwgqFB19"
      },
      "source": [
        "x=np.arange(1,12)\n",
        "y=ER[1:9]   #[3,  5,  9,  13,  20,  28,  39,  53,  70,  92, 117] #\n",
        "res=curve_fit(f, x, y, [1,0])"
      ],
      "execution_count": null,
      "outputs": []
    },
    {
      "cell_type": "code",
      "metadata": {
        "id": "AerqGVDiGUIR"
      },
      "source": [
        "a,b=res[0]\n",
        "a,b"
      ],
      "execution_count": null,
      "outputs": []
    },
    {
      "cell_type": "code",
      "metadata": {
        "id": "BQ5wUDzoGGMx"
      },
      "source": [
        "x2=np.arange(1,12)\n",
        "y2=[3,  5,  9,  13,  20,  28,  39,  53,  70,  92, 117] #ER[1:13]\n",
        "plt.plot(x2,f(x2,a,b))\n",
        "plt.plot(x2,y2)\n",
        "plt.xlabel('Iteration (l)')\n",
        "plt.ylabel('Entanglement Rank')\n",
        "plt.show()\n",
        "\n",
        "plt.figure()\n",
        "plt.plot(x2,np.log2(f(x2,a,b)))\n",
        "plt.plot(x2,np.log2(y2))\n",
        "plt.xlabel('Iteration (l)')\n",
        "plt.ylabel('$log_2(ER)$')\n",
        "plt.show()"
      ],
      "execution_count": null,
      "outputs": []
    },
    {
      "cell_type": "code",
      "metadata": {
        "id": "yBeEllsr8-85"
      },
      "source": [
        ""
      ],
      "execution_count": null,
      "outputs": []
    },
    {
      "cell_type": "code",
      "metadata": {
        "id": "zgqPYzZxoNlT"
      },
      "source": [
        "def f(x,a,b,c):\n",
        "  return a*np.log10(np.abs(b*x+c))"
      ],
      "execution_count": null,
      "outputs": []
    },
    {
      "cell_type": "code",
      "metadata": {
        "id": "5SIqIpvhoXw_"
      },
      "source": [
        "x=np.arange(32)\n",
        "y=np.log10(S[:32])\n",
        "res=curve_fit(f,x,y,[-10,1,1])\n",
        "a,b,c=res[0]\n",
        "a,b,c"
      ],
      "execution_count": null,
      "outputs": []
    },
    {
      "cell_type": "code",
      "metadata": {
        "id": "HlNmn7WWorqQ"
      },
      "source": [
        "plt.plot(x,f(x,a,b,c))\n",
        "plt.plot(x,y)\n",
        "plt.show()"
      ],
      "execution_count": null,
      "outputs": []
    },
    {
      "cell_type": "code",
      "metadata": {
        "id": "ivP8DrovQzBV"
      },
      "source": [
        "plt.plot(np.sqrt(x),-1.85*np.sqrt(x))\n",
        "plt.plot(np.sqrt(x),y)\n",
        "plt.show()"
      ],
      "execution_count": null,
      "outputs": []
    },
    {
      "cell_type": "code",
      "metadata": {
        "id": "VtqlpCh6Q2pg"
      },
      "source": [
        "plt.plot(np.log10(x),y)\n",
        "plt.show()"
      ],
      "execution_count": null,
      "outputs": []
    },
    {
      "cell_type": "code",
      "metadata": {
        "id": "Q9Rk3lGwSsQA"
      },
      "source": [
        ""
      ],
      "execution_count": null,
      "outputs": []
    }
  ]
}