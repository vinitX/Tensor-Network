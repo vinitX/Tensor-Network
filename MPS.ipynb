{
  "nbformat": 4,
  "nbformat_minor": 0,
  "metadata": {
    "colab": {
      "name": "MPS",
      "provenance": [],
      "collapsed_sections": [],
      "authorship_tag": "ABX9TyMuCiI3qjhjwSLR7CiYn01x"
    },
    "kernelspec": {
      "name": "python3",
      "display_name": "Python 3"
    },
    "language_info": {
      "name": "python"
    }
  },
  "cells": [
    {
      "cell_type": "code",
      "metadata": {
        "id": "NKbq48pGLZar"
      },
      "source": [
        "import numpy as np\n",
        "import time\n",
        "#import cupy as cp\n",
        "import matplotlib.pyplot as plt"
      ],
      "execution_count": null,
      "outputs": []
    },
    {
      "cell_type": "markdown",
      "metadata": {
        "id": "3jZKaalyztZR"
      },
      "source": [
        "### Algorithms"
      ]
    },
    {
      "cell_type": "markdown",
      "metadata": {
        "id": "roAXRi8Rj9e7"
      },
      "source": [
        "### Compression"
      ]
    },
    {
      "cell_type": "code",
      "metadata": {
        "id": "SnpPKa5WVDbz"
      },
      "source": [
        "def printzz(MPS,string=''):\n",
        "  print(string,end=': ')\n",
        "  for i in range(len(MPS)):\n",
        "    print(MPS[i].shape, end=' ')\n",
        "  print()"
      ],
      "execution_count": null,
      "outputs": []
    },
    {
      "cell_type": "code",
      "metadata": {
        "id": "jhjKTNzUcz96"
      },
      "source": [
        "def Compression_SVD(MPS,max_m):\n",
        "  MPS_new=[MPS[0]]\n",
        "  \n",
        "  for i in range(N-1):\n",
        "    m1=MPS_new[i].shape[0]\n",
        "    m2=MPS[i+1].shape[-1]\n",
        "\n",
        "    temp=np.tensordot(MPS_new[i],MPS[i+1],axes=([-1],[0]))\n",
        "    temp=temp.reshape((m1*d,m2*d))\n",
        "    U,S,Vh=np.linalg.svd(temp)\n",
        "    m=min(np.sum((S/S[0])>1e-8), max_m)\n",
        "\n",
        "    U=U[:,:m]\n",
        "    Vh=Vh[:,:m]\n",
        "    S=S[:m]\n",
        "\n",
        "    U=U@np.diag(S)\n",
        "\n",
        "    U=U.reshape((m1,d,m))\n",
        "    Vh=Vh.reshape((m,d,m2))\n",
        "\n",
        "    MPS_new.pop()\n",
        "    MPS_new.append(U)\n",
        "    MPS_new.append(Vh)\n",
        "\n",
        "  MPS2=[MPS_new[-1]]\n",
        "  for i in range(N-1):\n",
        "    m1=MPS_new[N-i-2].shape[0]\n",
        "    m2=MPS2[0].shape[-1]\n",
        "    \n",
        "    temp=np.tensordot(MPS_new[N-i-2],MPS2[0],axes=([-1],[0]))\n",
        "    temp=temp.reshape((m1*d,m2*d))\n",
        "    U,S,Vh=np.linalg.svd(temp)\n",
        "    m=min(np.sum((S/S[0])>1e-8), max_m)\n",
        "\n",
        "    U=U[:,:m]\n",
        "    Vh=Vh[:,:m]\n",
        "    S=S[:m]\n",
        "\n",
        "    U=U@np.diag(S)\n",
        "\n",
        "    U=U.reshape((m1,d,m))\n",
        "    Vh=Vh.reshape((m,d,m2))\n",
        "\n",
        "    del MPS2[0]\n",
        "    MPS2.insert(0,Vh)\n",
        "    MPS2.insert(0,U)\n",
        "\n",
        "  return MPS2"
      ],
      "execution_count": null,
      "outputs": []
    },
    {
      "cell_type": "markdown",
      "metadata": {
        "id": "D38THQHCwGcm"
      },
      "source": [
        "Solve the minimization problem\n",
        "$$\\min_\\psi \\langle \\psi -\\phi | \\psi - \\phi \\rangle = \\min_\\phi [-2 \\langle \\phi | \\psi \\rangle + \\langle \\phi | \\phi \\rangle]$$\n",
        "where $\\psi$ is the original MPS and $\\phi$ is the new MPS."
      ]
    },
    {
      "cell_type": "code",
      "metadata": {
        "id": "djSCtuHF_J0Q"
      },
      "source": [
        "#Using variational Compression Algorithm\n",
        "def Compression(psi,max_m):\n",
        "  phi=Compression_SVD(MPS,max_m)\n",
        "  printzz(phi,\"phi\")\n",
        "\n",
        "  phi[0]=phi[0][0]\n",
        "  psi[0]=psi[0][0]\n",
        "  phi[N-1]=phi[N-1][:,:,0]\n",
        "  psi[N-1]=psi[N-1][:,:,0]\n",
        "  \n",
        "  Cr=[np.tensordot(phi[N-1],phi[N-1],axes=([1],[1]))]   #Stores partially computed <phi|phi> from right\n",
        "  Dr=[np.tensordot(phi[N-1],psi[N-1],axes=([1],[1]))]   #Stores partially computed <phi|psi> from right\n",
        "  \n",
        "  for i in range(1,N-1):\n",
        "    temp=np.tensordot(phi[N-i-1],Cr[-1],axes=([-1],[1]))\n",
        "    temp=np.tensordot(phi[N-i-1],temp,axes=([1,-1],[1,-1]))\n",
        "    Cr.append(temp)\n",
        "\n",
        "    temp=np.tensordot(psi[N-i-1],Dr[-1],axes=([-1],[1]))\n",
        "    temp=np.tensordot(phi[N-i-1],temp,axes=([1,-1],[1,-1]))\n",
        "    Dr.append(temp)\n",
        "\n",
        "\n",
        "  b=np.tensordot(psi[0],Dr[-1],axes=([-1],[1]))\n",
        "  M=np.tensordot(np.identity(d),Cr[-1],axes=0)\n",
        "  M=M.transpose([0,2,1,3])\n",
        "\n",
        "  m=b.shape[-1] #Bond dimension\n",
        "\n",
        "  b=b.reshape(-1) #initial shape (d,m)\n",
        "  M=M.reshape((d*m,d*m)) #initial shape (d,m,d,m)\n",
        "  a=np.linalg.lstsq(M,b,rcond=None) \n",
        "  a=a[0]\n",
        "  a=np.reshape(a,(d,m))\n",
        "\n",
        "  MPS_res=[a]\n",
        "\n",
        "  Cl=[np.tensordot(MPS_res[0],MPS_res[0],axes=([0],[0]))]   #Stores partially computed <phi|phi> from left\n",
        "  Dl=[np.tensordot(MPS_res[0],psi[0],axes=([0],[0]))]   #Srores partially computed <phi|psi> from left\n",
        "\n",
        "  for i in range(1,N-1):\n",
        "    temp=np.tensordot(psi[i],Dr[-i-1],axes=([-1],[1]))\n",
        "    b=np.tensordot(Dl[-1],temp,axes=([1],[0]))\n",
        "    print(b.shape)  \n",
        "\n",
        "    temp=np.tensordot(np.identity(d),Cr[-i-1],axes=0)\n",
        "    M=np.tensordot(Cl[-1],temp,axes=0)\n",
        "    M=M.transpose([0,2,4,1,3,5])\n",
        "\n",
        "    #Bond dimensions\n",
        "    m1=b.shape[0]\n",
        "    m2=b.shape[-1] \n",
        "\n",
        "    b=b.reshape(-1) #initial shape (m1,d,m2)\n",
        "    M=M.reshape((m1*d*m2,m1*d*m2)) #initial shape (m1,d,m2,m1,d,m2)\n",
        "    a=np.linalg.lstsq(M,b,rcond=None)\n",
        "    a=a[0]\n",
        "    a=np.reshape(a,(m1,d,m2))\n",
        "\n",
        "    MPS_res.append(a)\n",
        "\n",
        "    temp=np.tensordot(Cl[-1],MPS_res[-1],axes=([1],[0]))\n",
        "    temp=np.tensordot(MPS_res[-1],temp,axes=([0,1],[0,1]))\n",
        "    Cl.append(temp)\n",
        "\n",
        "    temp=np.tensordot(Dl[-1],psi[i],axes=([1],[0]))\n",
        "    temp=np.tensordot(phi[i],temp,axes=([0,1],[0,1]))\n",
        "    Dl.append(temp)\n",
        "\n",
        "  b=np.tensordot(Dl[-1],psi[-1],axes=([1],[0]))\n",
        "  print(b.shape)\n",
        "\n",
        "  M=np.tensordot(Cl[-1],np.identity(d),axes=0)\n",
        "  M=M.transpose([0,2,1,3])\n",
        "\n",
        "  m=b.shape[0] #Bond dimension\n",
        "\n",
        "  b=b.reshape(-1) #initial shape (m1,d)\n",
        "  M=M.reshape((m*d,m*d)) #initial shape (m,d,m,d)\n",
        "  a=np.linalg.lstsq(M,b,rcond=None)\n",
        "  a=a[0]\n",
        "  a=np.reshape(a,(m,d))\n",
        "\n",
        "  MPS_res.append(a)\n",
        "\n",
        "  m=MPS_res[0].shape[-1]\n",
        "  MPS_res[0]=np.reshape(MPS_res[0],(1,d,m))\n",
        "  m=MPS_res[-1].shape[0]\n",
        "  MPS_res[-1]=np.reshape(MPS_res[-1],(m,d,1))\n",
        "\n",
        "  return MPS_res"
      ],
      "execution_count": null,
      "outputs": []
    },
    {
      "cell_type": "code",
      "metadata": {
        "id": "U1GDHc4Sz0Sa"
      },
      "source": [
        "N=10\n",
        "m=5         #Initial Bond dimension of MPS\n",
        "m_max=64    #Maximum Bond Dimension\n",
        "d=2         \n",
        "key=np.random.choice([0,1],size=10)\n",
        "\n",
        "MPS=[(np.random.rand(1,d,m)-0.5)+1j*(np.random.rand(1,d,m)-0.5)]\n",
        "for i in range(N-2):\n",
        "  local_state=(np.random.rand(m,d,m)-0.5)+1j*(np.random.rand(m,d,m)-0.5)\n",
        "  MPS.append(local_state)\n",
        "MPS.append((np.random.rand(m,d,1)-0.5)+1j*(np.random.rand(m,d,1)-0.5))"
      ],
      "execution_count": null,
      "outputs": []
    },
    {
      "cell_type": "code",
      "metadata": {
        "colab": {
          "base_uri": "https://localhost:8080/"
        },
        "id": "0iDRvORnz5F0",
        "outputId": "440bbda4-f604-4450-f147-06aa883de751"
      },
      "source": [
        "MPS_res=Compression(MPS, 64)\n",
        "printzz(MPS_res,\"MPS_res\")"
      ],
      "execution_count": null,
      "outputs": [
        {
          "output_type": "stream",
          "text": [
            "phi: (1, 2, 2) (2, 2, 4) (4, 2, 5) (5, 2, 5) (5, 2, 5) (5, 2, 5) (5, 2, 5) (5, 2, 4) (4, 2, 2) (2, 2, 1) \n",
            "(2, 2, 4)\n",
            "(4, 2, 5)\n",
            "(5, 2, 5)\n",
            "(5, 2, 5)\n",
            "(5, 2, 5)\n",
            "(5, 2, 5)\n",
            "(5, 2, 4)\n",
            "(4, 2, 2)\n",
            "(2, 2)\n",
            "MPS_res: (1, 2, 2) (2, 2, 4) (4, 2, 5) (5, 2, 5) (5, 2, 5) (5, 2, 5) (5, 2, 5) (5, 2, 4) (4, 2, 2) (2, 2, 1) \n"
          ],
          "name": "stdout"
        }
      ]
    },
    {
      "cell_type": "markdown",
      "metadata": {
        "id": "mM_ytWe0uwYF"
      },
      "source": [
        "### Evaluation\n",
        "$O(N m^3)$"
      ]
    },
    {
      "cell_type": "code",
      "metadata": {
        "id": "vPW8WdQgLfJs"
      },
      "source": [
        "def Evaluate(MPS,key,N):\n",
        "  MPS1=MPS[0][:,key[0],:]\n",
        "\n",
        "  for i in range(N-1):\n",
        "    MPS2=MPS[i+1][:,key[i+1],:]\n",
        "    MPS_cont=np.tensordot(MPS1,MPS2,axes=([-1],[0]))\n",
        "    MPS1=MPS_cont\n",
        "  return MPS1"
      ],
      "execution_count": null,
      "outputs": []
    },
    {
      "cell_type": "markdown",
      "metadata": {
        "id": "bp0lVrQnULV4"
      },
      "source": [
        "$O(Nm^3 d)$"
      ]
    },
    {
      "cell_type": "code",
      "metadata": {
        "id": "vbbyLzRcS5cv"
      },
      "source": [
        "def Overlap(MPS1,MPS2,N):\n",
        "  res=0\n",
        "  for i in range(N-1):\n",
        "    MPS2=MPS[i+1][:,key[i+1],:]\n",
        "    MPS_cont=np.tensordot(MPS1,MPS2,axes=([-1],[0]))\n",
        "    MPS1=MPS_cont\n",
        "  return MPS1"
      ],
      "execution_count": null,
      "outputs": []
    },
    {
      "cell_type": "markdown",
      "metadata": {
        "id": "Kx9Hva-Gu7rE"
      },
      "source": [
        "### Addition:  \n",
        "$O(N d m^2)$"
      ]
    },
    {
      "cell_type": "code",
      "metadata": {
        "id": "e00wGam4URno"
      },
      "source": [
        "def Add_MPS(MPS1, MPS2, N):\n",
        "  MPS_res = []\n",
        "  for i in range(N):\n",
        "    m1_left=np.shape(MPS1[i])[0]\n",
        "    m1_right=np.shape(MPS1[i])[-1]\n",
        "    m2_left=np.shape(MPS2[i])[0]\n",
        "    m2_right=np.shape(MPS2[i])[-1]\n",
        "\n",
        "    if i==0:\n",
        "      temp=np.zeros((1, d, m1_right + m2_right)).astype('complex')\n",
        "      temp[:,:,:m1_right]=MPS1[i]\n",
        "      temp[:,:,m1_right:]=MPS2[i]\n",
        "      MPS_res.append(temp)\n",
        "      continue\n",
        "    \n",
        "    if i==N-1:\n",
        "      temp=np.zeros((m1_left + m2_left, d, 1)).astype('complex')\n",
        "      temp[:m1_left,:,:]=MPS1[i]\n",
        "      temp[m1_left:,:,:]=MPS2[i]\n",
        "      MPS_res.append(temp)\n",
        "      continue\n",
        "\n",
        "    temp=np.zeros((m1_left + m2_left, d, m1_right + m2_right)).astype('complex')\n",
        "    temp[:m1_left,:,:m1_right]=MPS1[i]\n",
        "    temp[m1_left:,:,m1_right:]=MPS2[i]\n",
        "    MPS_res.append(temp)\n",
        "  return MPS_res\n",
        "\n",
        "def Add_MPO(MPO1, MPO2, N):\n",
        "  MPO_res = []\n",
        "  for i in range(N):\n",
        "    m1_left=np.shape(MPO1[i])[0]\n",
        "    m1_right=np.shape(MPO1[i])[-1]\n",
        "    m2_left=np.shape(MPO2[i])[0]\n",
        "    m2_right=np.shape(MPO2[i])[-1]\n",
        "\n",
        "    if i==0:\n",
        "      temp=np.zeros((1, d, d, m1_right + m2_right)).astype('complex')\n",
        "      temp[:,:,:,:m1_right]=MPO1[i]\n",
        "      temp[:,:,:,m1_right:]=MPO2[i]\n",
        "      MPO_res.append(temp)\n",
        "      continue\n",
        "    \n",
        "    if i==N-1:\n",
        "      temp=np.zeros((m1_left + m2_left, d, d, 1)).astype('complex')\n",
        "      temp[:m1_left,:,:,:]=MPO1[i]\n",
        "      temp[m1_left:,:,:,:]=MPO2[i]\n",
        "      MPO_res.append(temp)\n",
        "      continue\n",
        "\n",
        "    temp=np.zeros((m1_left + m2_left, d, d, m1_right + m2_right)).astype('complex')\n",
        "    temp[:m1_left,:,:,:m1_right]=MPO1[i]\n",
        "    temp[m1_left:,:,:,m1_right:]=MPO2[i]\n",
        "    MPO_res.append(temp)\n",
        "  return MPO_res"
      ],
      "execution_count": null,
      "outputs": []
    },
    {
      "cell_type": "code",
      "metadata": {
        "id": "nrq7vkHRxS9k"
      },
      "source": [
        "m=10\n",
        "psi1=[np.random.rand(1,2,2,m),np.random.rand(m,2,2,m),np.random.rand(m,2,2,m),np.random.rand(m,2,2,1)]\n",
        "psi2=[np.random.rand(1,2,2,m),np.random.rand(m,2,2,m),np.random.rand(m,2,2,m),np.random.rand(m,2,2,1)]\n",
        "\n",
        "psi_res=Add_MPO(psi1,psi2,4)"
      ],
      "execution_count": null,
      "outputs": []
    },
    {
      "cell_type": "code",
      "metadata": {
        "id": "sIXEk2zay9U3"
      },
      "source": [
        "temp1=psi1[0]\n",
        "temp2=psi2[0]\n",
        "temp_res=psi_res[0]\n",
        "for i in range(3):\n",
        "  temp1=np.tensordot(temp1,psi1[i+1],axes=([-1],[0]))\n",
        "  temp2=np.tensordot(temp2,psi2[i+1],axes=([-1],[0]))\n",
        "  temp_res=np.tensordot(temp_res,psi_res[i+1],axes=([-1],[0]))"
      ],
      "execution_count": null,
      "outputs": []
    },
    {
      "cell_type": "code",
      "metadata": {
        "colab": {
          "base_uri": "https://localhost:8080/",
          "height": 293
        },
        "id": "Rto7XlR1zZyW",
        "outputId": "fd4b5052-094f-44c4-e52c-3466042b3ad0"
      },
      "source": [
        "plt.plot(np.abs(np.reshape(temp_res - (temp1+temp2),-1)))"
      ],
      "execution_count": null,
      "outputs": [
        {
          "output_type": "execute_result",
          "data": {
            "text/plain": [
              "[<matplotlib.lines.Line2D at 0x7f25f60dfcd0>]"
            ]
          },
          "metadata": {
            "tags": []
          },
          "execution_count": 39
        },
        {
          "output_type": "display_data",
          "data": {
            "image/png": "[encoded data removed]",
            "text/plain": [
              "<Figure size 432x288 with 1 Axes>"
            ]
          },
          "metadata": {
            "tags": [],
            "needs_background": "light"
          }
        }
      ]
    },
    {
      "cell_type": "markdown",
      "metadata": {
        "id": "H8TWFTQVkEGr"
      },
      "source": [
        "### MPO_MPS\n",
        "$O(N d^2 m^4)$"
      ]
    },
    {
      "cell_type": "code",
      "metadata": {
        "id": "5iSOrxejkLDD"
      },
      "source": [
        "def MPO_MPS(MPO, MPS):\n",
        "  MPS_res=[]\n",
        "  for i in range(N):\n",
        "    MPS_res.append(np.tensordot(MPO[i],MPS[i],axes=([1],[1])))"
      ],
      "execution_count": null,
      "outputs": []
    },
    {
      "cell_type": "markdown",
      "metadata": {
        "id": "UZOe949avNZy"
      },
      "source": [
        "### Hamiltonian"
      ]
    },
    {
      "cell_type": "code",
      "metadata": {
        "id": "Tr1cA4YMETz9"
      },
      "source": [
        "sig_x=np.array([[0,1],[1,0]])\n",
        "sig_y=np.array([[0,-1j],[1j,0]])\n",
        "sig_z=np.array([[1,0],[0,-1]])"
      ],
      "execution_count": null,
      "outputs": []
    },
    {
      "cell_type": "code",
      "metadata": {
        "id": "6aIHqWOdGlu5"
      },
      "source": [
        "sig_xx=np.tensordot(sig_x, sig_x, axes=0)\n",
        "sig_yy=np.tensordot(sig_y, sig_y, axes=0)\n",
        "sig_zz=np.tensordot(sig_z, sig_z, axes=0)\n",
        "\n",
        "H2=(sig_xx+sig_yy+sig_zz)/2"
      ],
      "execution_count": null,
      "outputs": []
    },
    {
      "cell_type": "code",
      "metadata": {
        "id": "kKjcoMACDM8j"
      },
      "source": [
        "def MPO(N):\n",
        "  MPO=[]\n",
        "  first=np.array([np.zeros((2,2)), sig_x, sig_y, sig_z, np.identity(2)])\n",
        "  first=first.transpose([1,2,0])\n",
        "  last=np.array([np.identity(2), sig_x/2, sig_y/2, sig_z/2, np.zeros((2,2))])\n",
        "  inter=np.zeros((5,2,2,5)).astype('complex')\n",
        "\n",
        "  inter[-1,:,:,:]=first\n",
        "  inter[:,:,:,0]=last\n",
        "\n",
        "  MPO.append(first.reshape(1,2,2,5))\n",
        "  for i in range(N-2):\n",
        "    MPO.append(inter)\n",
        "  MPO.append(last.reshape(5,2,2,1))\n",
        "\n",
        "  return MPO"
      ],
      "execution_count": null,
      "outputs": []
    },
    {
      "cell_type": "code",
      "metadata": {
        "colab": {
          "base_uri": "https://localhost:8080/"
        },
        "id": "7Egk0V7oGDZ4",
        "outputId": "62fb37e9-f13d-4eba-cc12-2b7e79fc8f8b"
      },
      "source": [
        "temp=MPO(N)\n",
        "\n",
        "for i in range(N):\n",
        "  print(temp[i].shape)"
      ],
      "execution_count": null,
      "outputs": [
        {
          "output_type": "stream",
          "text": [
            "(1, 2, 2, 5)\n",
            "(5, 2, 2, 5)\n",
            "(5, 2, 2, 5)\n",
            "(5, 2, 2, 5)\n",
            "(5, 2, 2, 5)\n",
            "(5, 2, 2, 5)\n",
            "(5, 2, 2, 5)\n",
            "(5, 2, 2, 5)\n",
            "(5, 2, 2, 5)\n",
            "(5, 2, 2, 1)\n"
          ],
          "name": "stdout"
        }
      ]
    },
    {
      "cell_type": "code",
      "metadata": {
        "id": "zO73C0BGFV60",
        "colab": {
          "base_uri": "https://localhost:8080/",
          "height": 86
        },
        "outputId": "5ac9f424-50c6-424b-bdfb-7cc47cbf1fe2"
      },
      "source": [
        "#Old Approach\n",
        "'''\n",
        "def MPO(N):\n",
        "  if N%2==1: print(\"Warning: Odd system size!\")\n",
        "\n",
        "  U,S,Vh=np.linalg.svd(H2.reshape(4,4))\n",
        "  #U=U[:,:3]\n",
        "  #Vh=Vh[:3,:]\n",
        "  #S=S[:3]\n",
        "  #print(U,'\\n',S,'\\n',Vh)\n",
        "\n",
        "  U=U@np.diag(S) #Left Canonical\n",
        "\n",
        "  U=np.reshape(U,(1,d,d,4))\n",
        "  Vh=np.reshape(Vh,(4,d,d,1))\n",
        "\n",
        "  MPO_odd=[]\n",
        "  MPO_even=[np.reshape(np.identity(d),(1,d,d,1))]\n",
        "  \n",
        "  for i in range(N-1):\n",
        "    if i%2==0:\n",
        "      MPO_odd.append(U)\n",
        "      MPO_odd.append(Vh)\n",
        "    else:\n",
        "      MPO_even.append(U)\n",
        "      MPO_even.append(Vh)\n",
        "\n",
        "  MPO_even.append(np.reshape(np.identity(d),(1,d,d,1)))\n",
        "  return Add_MPO(MPO_odd, MPO_even, N)\n",
        "'''"
      ],
      "execution_count": null,
      "outputs": [
        {
          "output_type": "execute_result",
          "data": {
            "application/vnd.google.colaboratory.intrinsic+json": {
              "type": "string"
            },
            "text/plain": [
              "'\\ndef MPO(N):\\n  if N%2==1: print(\"Warning: Odd system size!\")\\n\\n  U,S,Vh=np.linalg.svd(H2.reshape(4,4))\\n  #U=U[:,:3]\\n  #Vh=Vh[:3,:]\\n  #S=S[:3]\\n  #print(U,\\'\\n\\',S,\\'\\n\\',Vh)\\n\\n  U=U@np.diag(S) #Left Canonical\\n\\n  U=np.reshape(U,(1,d,d,4))\\n  Vh=np.reshape(Vh,(4,d,d,1))\\n\\n  MPO_odd=[]\\n  MPO_even=[np.reshape(np.identity(d),(1,d,d,1))]\\n  \\n  for i in range(N-1):\\n    if i%2==0:\\n      MPO_odd.append(U)\\n      MPO_odd.append(Vh)\\n    else:\\n      MPO_even.append(U)\\n      MPO_even.append(Vh)\\n\\n  MPO_even.append(np.reshape(np.identity(d),(1,d,d,1)))\\n  return Add_MPO(MPO_odd, MPO_even, N)\\n'"
            ]
          },
          "metadata": {
            "tags": []
          },
          "execution_count": 20
        }
      ]
    },
    {
      "cell_type": "code",
      "metadata": {
        "colab": {
          "base_uri": "https://localhost:8080/"
        },
        "id": "W62maMKqTic8",
        "outputId": "78105bc7-aa0f-4952-efee-bf7545ca680e"
      },
      "source": [
        "H4=MPO(4)\n",
        "temp=H4[0]\n",
        "for i in range(3):\n",
        "  temp=np.tensordot(temp,H4[i+1],axes=([-1],[0]))\n",
        "temp.shape"
      ],
      "execution_count": null,
      "outputs": [
        {
          "output_type": "execute_result",
          "data": {
            "text/plain": [
              "(1, 2, 2, 2, 2, 2, 2, 2, 2, 1)"
            ]
          },
          "metadata": {
            "tags": []
          },
          "execution_count": 21
        }
      ]
    },
    {
      "cell_type": "code",
      "metadata": {
        "colab": {
          "base_uri": "https://localhost:8080/"
        },
        "id": "7gPuQvYCZGPb",
        "outputId": "c76dc604-3c65-4493-ce70-c78a4dfa9b62"
      },
      "source": [
        "for i in range(4):\n",
        "  print(H4[i].shape)"
      ],
      "execution_count": null,
      "outputs": [
        {
          "output_type": "stream",
          "text": [
            "(1, 2, 2, 5)\n",
            "(5, 2, 2, 5)\n",
            "(5, 2, 2, 5)\n",
            "(5, 2, 2, 1)\n"
          ],
          "name": "stdout"
        }
      ]
    },
    {
      "cell_type": "code",
      "metadata": {
        "id": "9PXYPd-lTnvv"
      },
      "source": [
        "temp=temp[0,:,:,:,:,:,:,:,:,0]\n",
        "temp=np.reshape(np.transpose(temp,[0,2,4,6,1,3,5,7]),(2**4,2**4))"
      ],
      "execution_count": null,
      "outputs": []
    },
    {
      "cell_type": "code",
      "metadata": {
        "id": "T9eD7yNXepJr"
      },
      "source": [
        "H2X = (np.kron(sig_x,sig_x) + np.kron(sig_y,sig_y) + np.kron(sig_z,sig_z))/2"
      ],
      "execution_count": null,
      "outputs": []
    },
    {
      "cell_type": "code",
      "metadata": {
        "id": "Xk79jQg7B7hR"
      },
      "source": [
        "H4X = H2X.copy()\n",
        "for i in range(2):\n",
        "  H4X=np.kron(H4X,np.identity(2))+np.kron(np.identity(H4X.shape[0]//2),H2X)"
      ],
      "execution_count": null,
      "outputs": []
    },
    {
      "cell_type": "code",
      "metadata": {
        "colab": {
          "base_uri": "https://localhost:8080/",
          "height": 269
        },
        "id": "vOCwvUlnhLRX",
        "outputId": "113b0aac-8efc-43df-ad30-aa2e6e1b0b4e"
      },
      "source": [
        "plt.imshow(np.real(temp))\n",
        "plt.colorbar()\n",
        "plt.show()"
      ],
      "execution_count": null,
      "outputs": [
        {
          "output_type": "display_data",
          "data": {
            "image/png": "[encoded data removed]",
            "text/plain": [
              "<Figure size 432x288 with 2 Axes>"
            ]
          },
          "metadata": {
            "tags": [],
            "needs_background": "light"
          }
        }
      ]
    },
    {
      "cell_type": "code",
      "metadata": {
        "colab": {
          "base_uri": "https://localhost:8080/",
          "height": 269
        },
        "id": "wGRlINxFeVmi",
        "outputId": "b13cc9fd-577f-4d48-d61c-1a183f3d8c23"
      },
      "source": [
        "plt.imshow(np.real(H4X))\n",
        "plt.colorbar()\n",
        "plt.show()"
      ],
      "execution_count": null,
      "outputs": [
        {
          "output_type": "display_data",
          "data": {
            "image/png": "[encoded data removed]",
            "text/plain": [
              "<Figure size 432x288 with 2 Axes>"
            ]
          },
          "metadata": {
            "tags": [],
            "needs_background": "light"
          }
        }
      ]
    },
    {
      "cell_type": "markdown",
      "metadata": {
        "id": "TyqvKCc8l_Mk"
      },
      "source": [
        "### AGSP"
      ]
    },
    {
      "cell_type": "code",
      "metadata": {
        "id": "CMmgAHmsmBmi"
      },
      "source": [
        "AGSP=MPO(N)\n",
        "AGSP[0]=-AGSP[0]\n",
        "\n",
        "I_MPO=[np.reshape(np.identity(2),(1,2,2,1))]*N\n",
        "\n",
        "AGSP=Add_MPO(I_MPO,AGSP,N)"
      ],
      "execution_count": null,
      "outputs": []
    },
    {
      "cell_type": "code",
      "metadata": {
        "colab": {
          "base_uri": "https://localhost:8080/"
        },
        "id": "rTQetZKZ4lDQ",
        "outputId": "a611dadd-0918-4b08-cd6f-66ea3957491f"
      },
      "source": [
        "for i in range(N):\n",
        "  print(AGSP[i].shape)"
      ],
      "execution_count": null,
      "outputs": [
        {
          "output_type": "stream",
          "text": [
            "(1, 2, 2, 6)\n",
            "(6, 2, 2, 6)\n",
            "(6, 2, 2, 6)\n",
            "(6, 2, 2, 6)\n",
            "(6, 2, 2, 6)\n",
            "(6, 2, 2, 6)\n",
            "(6, 2, 2, 6)\n",
            "(6, 2, 2, 6)\n",
            "(6, 2, 2, 6)\n",
            "(6, 2, 2, 1)\n"
          ],
          "name": "stdout"
        }
      ]
    },
    {
      "cell_type": "markdown",
      "metadata": {
        "id": "1sEORliDgZQc"
      },
      "source": [
        "### Main"
      ]
    },
    {
      "cell_type": "code",
      "metadata": {
        "id": "fTjxL2UUUUb4"
      },
      "source": [
        "N=10\n",
        "m=5         #Initial Bond dimension of MPS\n",
        "m_max=64    #Maximum Bond Dimension\n",
        "d=2         \n",
        "key=np.random.choice([0,1],size=10)\n",
        "\n",
        "MPS=[(np.random.rand(1,d,m)-0.5)+1j*(np.random.rand(1,d,m)-0.5)]\n",
        "for i in range(N-2):\n",
        "  local_state=(np.random.rand(m,d,m)-0.5)+1j*(np.random.rand(m,d,m)-0.5)\n",
        "  MPS.append(local_state)\n",
        "MPS.append((np.random.rand(m,d,1)-0.5)+1j*(np.random.rand(m,d,1)-0.5))"
      ],
      "execution_count": null,
      "outputs": []
    },
    {
      "cell_type": "code",
      "metadata": {
        "colab": {
          "base_uri": "https://localhost:8080/"
        },
        "id": "79iFtb2rRjmH",
        "outputId": "45f2f038-2289-44fe-e6dc-10a374379ca2"
      },
      "source": [
        "MPS_new=Compression_SVD(MPS, 64)"
      ],
      "execution_count": null,
      "outputs": [
        {
          "output_type": "stream",
          "text": [
            "(1, 2, 5) \n",
            "Yo:  (2, 2) (2,) (10, 10)\n",
            "New Bond Dimension:  2\n",
            "(1, 2, 2) (2, 2, 5) \n",
            "Yo:  (4, 4) (4,) (10, 10)\n",
            "New Bond Dimension:  4\n",
            "(1, 2, 2) (2, 2, 4) (4, 2, 5) \n",
            "Yo:  (8, 8) (8,) (10, 10)\n",
            "New Bond Dimension:  8\n",
            "(1, 2, 2) (2, 2, 4) (4, 2, 8) (8, 2, 5) \n",
            "Yo:  (16, 16) (10,) (10, 10)\n",
            "New Bond Dimension:  10\n",
            "(1, 2, 2) (2, 2, 4) (4, 2, 8) (8, 2, 10) (10, 2, 5) \n",
            "Yo:  (20, 20) (10,) (10, 10)\n",
            "New Bond Dimension:  10\n",
            "(1, 2, 2) (2, 2, 4) (4, 2, 8) (8, 2, 10) (10, 2, 10) (10, 2, 5) \n",
            "Yo:  (20, 20) (10,) (10, 10)\n",
            "New Bond Dimension:  10\n",
            "(1, 2, 2) (2, 2, 4) (4, 2, 8) (8, 2, 10) (10, 2, 10) (10, 2, 10) (10, 2, 5) \n",
            "Yo:  (20, 20) (10,) (10, 10)\n",
            "New Bond Dimension:  10\n",
            "(1, 2, 2) (2, 2, 4) (4, 2, 8) (8, 2, 10) (10, 2, 10) (10, 2, 10) (10, 2, 10) (10, 2, 5) \n",
            "Yo:  (20, 20) (10,) (10, 10)\n",
            "New Bond Dimension:  10\n",
            "(1, 2, 2) (2, 2, 4) (4, 2, 8) (8, 2, 10) (10, 2, 10) (10, 2, 10) (10, 2, 10) (10, 2, 10) (10, 2, 5) \n",
            "Yo:  (20, 20) (2,) (2, 2)\n",
            "New Bond Dimension:  2\n"
          ],
          "name": "stdout"
        }
      ]
    },
    {
      "cell_type": "code",
      "metadata": {
        "id": "nkQYIgf_Rogj"
      },
      "source": [
        ""
      ],
      "execution_count": null,
      "outputs": []
    },
    {
      "cell_type": "markdown",
      "metadata": {
        "id": "TX6B3TbOL7Hb"
      },
      "source": [
        "### Testing"
      ]
    },
    {
      "cell_type": "code",
      "metadata": {
        "id": "a02HAncNmfuA"
      },
      "source": [
        "from numpy import polynomial as Poly\n",
        "\n",
        "P=np.flip(Poly.chebyshev.cheb2poly([0,0,0,0,0,0,1]))"
      ],
      "execution_count": null,
      "outputs": []
    },
    {
      "cell_type": "code",
      "metadata": {
        "colab": {
          "base_uri": "https://localhost:8080/",
          "height": 282
        },
        "id": "yB1aUHYIOlHG",
        "outputId": "9f5ddbdc-35af-41bd-c2f9-0c798ddb26c4"
      },
      "source": [
        "u=100\n",
        "e=0\n",
        "x=np.arange(e,u,0.01)\n",
        "\n",
        "y1=np.polyval(P,(u+e-x)/(u-e))/np.polyval(P,(u+e)/(u-e))\n",
        "plt.plot(x,y1)"
      ],
      "execution_count": null,
      "outputs": [
        {
          "output_type": "execute_result",
          "data": {
            "text/plain": [
              "[<matplotlib.lines.Line2D at 0x7fc2efb65310>]"
            ]
          },
          "metadata": {
            "tags": []
          },
          "execution_count": 26
        },
        {
          "output_type": "display_data",
          "data": {
            "image/png": "[encoded data removed]",
            "text/plain": [
              "<Figure size 432x288 with 1 Axes>"
            ]
          },
          "metadata": {
            "tags": [],
            "needs_background": "light"
          }
        }
      ]
    },
    {
      "cell_type": "code",
      "metadata": {
        "id": "q3xkB-AkQs4Y"
      },
      "source": [
        ""
      ],
      "execution_count": null,
      "outputs": []
    }
  ]
}