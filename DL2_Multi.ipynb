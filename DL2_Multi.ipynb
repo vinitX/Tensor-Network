{
  "nbformat": 4,
  "nbformat_minor": 0,
  "metadata": {
    "colab": {
      "name": "DL2_Multi",
      "provenance": [],
      "collapsed_sections": [
        "-k5ZEIKlG6AS",
        "wfFKM3RivY0l",
        "QLjPj8XNGiFm"
      ],
      "authorship_tag": "ABX9TyM8hEMWMiYuoYpoZxImC8CM"
    },
    "kernelspec": {
      "display_name": "Python 3",
      "name": "python3"
    },
    "language_info": {
      "name": "python"
    }
  },
  "cells": [
    {
      "cell_type": "code",
      "metadata": {
        "colab": {
          "base_uri": "https://localhost:8080/"
        },
        "id": "Eze7MCkCD65H",
        "outputId": "1296dae8-5554-483a-f9fb-1b51e81f839d"
      },
      "source": [
        "from google.colab import drive\n",
        "drive.mount('/content/drive')\n",
        "\n",
        "filepath='/content/drive/My Drive/UCB Research/'"
      ],
      "execution_count": null,
      "outputs": [
        {
          "output_type": "stream",
          "name": "stdout",
          "text": [
            "Mounted at /content/drive\n"
          ]
        }
      ]
    },
    {
      "cell_type": "code",
      "metadata": {
        "colab": {
          "base_uri": "https://localhost:8080/"
        },
        "id": "1ZlaHijXzY9a",
        "outputId": "75433654-db96-488e-970b-a62dcb3d19fd"
      },
      "source": [
        "!pip install mpnum"
      ],
      "execution_count": null,
      "outputs": [
        {
          "output_type": "stream",
          "name": "stdout",
          "text": [
            "Collecting mpnum\n",
            "  Downloading mpnum-1.0.2-py2.py3-none-any.whl (78 kB)\n",
            "\u001b[?25l\r\u001b[K     |████▏                           | 10 kB 24.3 MB/s eta 0:00:01\r\u001b[K     |████████▍                       | 20 kB 10.2 MB/s eta 0:00:01\r\u001b[K     |████████████▌                   | 30 kB 8.3 MB/s eta 0:00:01\r\u001b[K     |████████████████▊               | 40 kB 7.7 MB/s eta 0:00:01\r\u001b[K     |█████████████████████           | 51 kB 4.1 MB/s eta 0:00:01\r\u001b[K     |█████████████████████████       | 61 kB 4.3 MB/s eta 0:00:01\r\u001b[K     |█████████████████████████████▎  | 71 kB 4.5 MB/s eta 0:00:01\r\u001b[K     |████████████████████████████████| 78 kB 3.1 MB/s \n",
            "\u001b[?25hRequirement already satisfied: NumPy>=1.5.1 in /usr/local/lib/python3.7/dist-packages (from mpnum) (1.19.5)\n",
            "Requirement already satisfied: SciPy>=0.15 in /usr/local/lib/python3.7/dist-packages (from mpnum) (1.4.1)\n",
            "Requirement already satisfied: six>=1.0 in /usr/local/lib/python3.7/dist-packages (from mpnum) (1.15.0)\n",
            "Installing collected packages: mpnum\n",
            "Successfully installed mpnum-1.0.2\n"
          ]
        }
      ]
    },
    {
      "cell_type": "code",
      "metadata": {
        "id": "MQ6PXLJgzdqL"
      },
      "source": [
        "import numpy as np\n",
        "import functools as ft\n",
        "import numpy.linalg as la\n",
        "from scipy.sparse import lil_matrix, kron, identity, csr_matrix, random\n",
        "from scipy.sparse.linalg import eigsh, norm, svds\n",
        "from scipy.stats import unitary_group\n",
        "#from cupyx.scipy.sparse.linalg import eigsh\n",
        "import mpnum\n",
        "import time\n",
        "import matplotlib.pyplot as plt\n",
        "import pickle\n",
        "from scipy.optimize import curve_fit\n",
        "from mpl_toolkits.mplot3d import Axes3D\n",
        "from decimal import Decimal"
      ],
      "execution_count": null,
      "outputs": []
    },
    {
      "cell_type": "code",
      "metadata": {
        "id": "XGmbIuvNWGfs"
      },
      "source": [
        "N=64\n",
        "d=2\n",
        "max_rank=256"
      ],
      "execution_count": null,
      "outputs": []
    },
    {
      "cell_type": "markdown",
      "metadata": {
        "id": "wfFKM3RivY0l"
      },
      "source": [
        "### SVD"
      ]
    },
    {
      "cell_type": "code",
      "metadata": {
        "id": "DpnDS5x_3hDd"
      },
      "source": [
        "def Entangle(mpa,method='mps'):\n",
        "  N=len(mpa)\n",
        "  rank=max(mpa.ranks)\n",
        "\n",
        "  if method=='full':\n",
        "    #Warning: Full method can lead to memory run-offs. \n",
        "    psi=mpa.to_array()\n",
        "\n",
        "  else:\n",
        "    mpa.canonicalize(left=N//2-1, right=N//2)\n",
        "    #print(mpa.canonical_form)\n",
        "\n",
        "    M=mpa.lt\n",
        "    psi=np.tensordot(M[N//2-1],M[N//2],axes=(-1,0))\n",
        "  \n",
        "  psi_shape=int(np.sqrt(psi.size))\n",
        "  psi=np.reshape(psi,(psi_shape,psi_shape))\n",
        "  \n",
        "  S=la.svd(psi,compute_uv=False)\n",
        "  #print(la.norm(S))\n",
        "  S=S/la.norm(S)\n",
        "\n",
        "  S2=np.abs(S)\n",
        "  EE=-np.sum(S2**2*np.log2(S2**2+1e-32)) #Add eps=1e-32 to avoid log(0) error.\n",
        "  return EE, S"
      ],
      "execution_count": null,
      "outputs": []
    },
    {
      "cell_type": "markdown",
      "metadata": {
        "id": "6YPzcZhUHjKl"
      },
      "source": [
        "### AGSP"
      ]
    },
    {
      "cell_type": "code",
      "metadata": {
        "id": "C5YK923yQt24"
      },
      "source": [
        "def AGSP():\n",
        "  x = unitary_group.rvs(4)\n",
        "  D=np.diag([1,1,0,0])\n",
        "  loc_op = x@D@x.T.conj()\n",
        "\n",
        "  loc_op=loc_op.reshape((2,2,2,2))\n",
        "  loc_op=mpnum.MPArray.from_array_global(loc_op,ndims=2)\n",
        "\n",
        "  DL_even = mpnum.factory.eye(sites=1, ldim=d)\n",
        "  DL_odd = loc_op  \n",
        "\n",
        "  for i in range(N//2-1):\n",
        "    DL_odd = mpnum.chain([DL_odd, loc_op])\n",
        "    DL_even = mpnum.chain([DL_even, loc_op])\n",
        "\n",
        "  DL_even=mpnum.chain([DL_even, mpnum.factory.eye(sites=1, ldim=d)])\n",
        "\n",
        "  A = mpnum.dot(DL_odd, DL_even)\n",
        "\n",
        "  EE,S=Entangle(A,method='mpo')\n",
        "\n",
        "  print('square of singular values:', (S[:4]**2).round(3))\n",
        "\n",
        "  return A"
      ],
      "execution_count": null,
      "outputs": []
    },
    {
      "cell_type": "markdown",
      "metadata": {
        "id": "UmQD90J8L9qo"
      },
      "source": [
        "### Operation"
      ]
    },
    {
      "cell_type": "code",
      "metadata": {
        "id": "LtBQx21nmrBj"
      },
      "source": [
        "def save(obj, file_name, file_type=None):\n",
        "  def mpa_to_lt(a):\n",
        "    res=[]\n",
        "    for i in range(len(a)):\n",
        "      res.append(a.lt[i])\n",
        "    return res\n",
        "\n",
        "  if file_type=='mpa':\n",
        "    obj_lt=mpa_to_lt(obj)\n",
        "\n",
        "    with open(filepath+'Data2/'+file_name+'.pkl', 'wb') as output:\n",
        "      for i in range(N):\n",
        "        pickle.dump(gs_lt[i], output, pickle.HIGHEST_PROTOCOL)\n",
        "  else: \n",
        "    with open(filepath+'Data2/'+file_name+'.pkl', 'wb') as output:\n",
        "      pickle.dump(obj, output, pickle.HIGHEST_PROTOCOL)\n",
        "\n",
        "def load(file_name, file_type=None):\n",
        "  if file_type=='mpa':\n",
        "    mpa = []\n",
        "    with open(filepath+'Data2/'+file_name+'.pkl', 'rb') as input:\n",
        "      for i in range(N):\n",
        "        mpa.append(pickle.load(input))\n",
        "    return mpnum.MPArray(mpa)\n",
        "\n",
        "  else:\n",
        "    with open(filepath+'Data2/'+file_name+'.pkl', 'rb') as input:\n",
        "        return pickle.load(input)"
      ],
      "execution_count": null,
      "outputs": []
    },
    {
      "cell_type": "code",
      "metadata": {
        "id": "BHDPMpcaz49l"
      },
      "source": [
        "def run_test(curr_iter, n_iter=8):\n",
        "  rng = np.random.RandomState(seed=42)\n",
        "  rank=1\n",
        "  mpa = mpnum.random_mps(sites=N, ldim=d, rank=rank, randstate=rng)\n",
        "\n",
        "  A=AGSP()\n",
        "  save(A, 'AGSP'+str(curr_iter))\n",
        "\n",
        "  S_hist=np.zeros((d*max_rank,0))\n",
        "  EE_hist=[]\n",
        "  norm_hist=[]\n",
        "\n",
        "  for i in range(n_iter):\n",
        "    tm=time.time()\n",
        "\n",
        "    mpa = mpnum.dot(A,mpa)\n",
        "    norm=mpnum.norm(mpa)\n",
        "    mpa=mpa/norm\n",
        "\n",
        "    EE,S=Entangle(mpa)\n",
        "    EE_hist.append(EE)\n",
        "    S_exp=np.zeros(d*max_rank)\n",
        "    S_exp[:len(S)]=S[:d*max_rank]\n",
        "    S_hist=np.concatenate((S_hist, S_exp.reshape(-1,1)), axis=1)\n",
        "\n",
        "    new_rank = np.count_nonzero(S_hist[:,i]>1e-16, axis=0)\n",
        "\n",
        "    mpa.compress(method='var',\n",
        "                      rank=min(new_rank, max_rank),\n",
        "                      num_sweeps=4)\n",
        "    \n",
        "    norm_hist.append(norm)\n",
        "    print(\"Epoch: \",i+1,\"\\t Rank: \", new_rank, \"\\t Norm: \", '%.2E' % Decimal(norm), \"\\t Time: \",np.round(time.time()-tm,3))\n",
        "\n",
        "  return S_hist, np.array(EE_hist), np.array(norm_hist)"
      ],
      "execution_count": null,
      "outputs": []
    },
    {
      "cell_type": "code",
      "metadata": {
        "colab": {
          "base_uri": "https://localhost:8080/"
        },
        "id": "OcE1JuQpSc0r",
        "outputId": "5c3663b4-5221-457b-a8b9-d66b31e5734d"
      },
      "source": [
        "for i in range(100):\n",
        "  S, EE, norm = run_test(i, n_iter=10)\n",
        "\n",
        "  save(S, 'S'+str(i))\n",
        "  save(EE, 'EE'+str(i))\n",
        "  save(norm, 'norm'+str(i))"
      ],
      "execution_count": null,
      "outputs": [
        {
          "output_type": "stream",
          "name": "stdout",
          "text": [
            "square of singular values: [0.549 0.436 0.009 0.007]\n",
            "Epoch:  1 \t Rank:  2 \t Norm:  1.03E-12 \t Time:  0.537\n",
            "Epoch:  2 \t Rank:  4 \t Norm:  6.32E-12 \t Time:  0.589\n",
            "Epoch:  3 \t Rank:  8 \t Norm:  9.00E-11 \t Time:  0.64\n",
            "Epoch:  4 \t Rank:  17 \t Norm:  3.43E-10 \t Time:  1.655\n",
            "Epoch:  5 \t Rank:  36 \t Norm:  5.98E-10 \t Time:  4.117\n",
            "Epoch:  6 \t Rank:  75 \t Norm:  7.41E-10 \t Time:  17.19\n",
            "Epoch:  7 \t Rank:  153 \t Norm:  8.12E-10 \t Time:  89.413\n",
            "Epoch:  8 \t Rank:  308 \t Norm:  8.50E-10 \t Time:  418.404\n",
            "Epoch:  9 \t Rank:  457 \t Norm:  8.71E-10 \t Time:  921.878\n",
            "Epoch:  10 \t Rank:  466 \t Norm:  8.84E-10 \t Time:  920.659\n",
            "square of singular values: [0.796 0.187 0.013 0.003]\n",
            "Epoch:  1 \t Rank:  2 \t Norm:  1.83E-10 \t Time:  0.519\n",
            "Epoch:  2 \t Rank:  4 \t Norm:  2.21E-04 \t Time:  0.589\n",
            "Epoch:  3 \t Rank:  8 \t Norm:  2.61E-03 \t Time:  0.657\n",
            "Epoch:  4 \t Rank:  17 \t Norm:  6.27E-03 \t Time:  1.616\n",
            "Epoch:  5 \t Rank:  35 \t Norm:  9.32E-03 \t Time:  4.093\n",
            "Epoch:  6 \t Rank:  68 \t Norm:  1.12E-02 \t Time:  17.118\n",
            "Epoch:  7 \t Rank:  79 \t Norm:  1.23E-02 \t Time:  35.453\n",
            "Epoch:  8 \t Rank:  81 \t Norm:  1.27E-02 \t Time:  43.782\n",
            "Epoch:  9 \t Rank:  83 \t Norm:  1.30E-02 \t Time:  46.421\n",
            "Epoch:  10 \t Rank:  81 \t Norm:  1.31E-02 \t Time:  46.21\n",
            "square of singular values: [0.826 0.144 0.025 0.004]\n",
            "Epoch:  1 \t Rank:  2 \t Norm:  3.00E-09 \t Time:  0.54\n",
            "Epoch:  2 \t Rank:  4 \t Norm:  9.26E-03 \t Time:  0.573\n",
            "Epoch:  3 \t Rank:  8 \t Norm:  7.47E-02 \t Time:  0.668\n",
            "Epoch:  4 \t Rank:  16 \t Norm:  1.25E-01 \t Time:  1.458\n",
            "Epoch:  5 \t Rank:  32 \t Norm:  1.59E-01 \t Time:  3.389\n",
            "Epoch:  6 \t Rank:  66 \t Norm:  1.86E-01 \t Time:  16.048\n",
            "Epoch:  7 \t Rank:  92 \t Norm:  2.07E-01 \t Time:  38.14\n",
            "Epoch:  8 \t Rank:  101 \t Norm:  2.25E-01 \t Time:  73.451\n",
            "Epoch:  9 \t Rank:  106 \t Norm:  2.38E-01 \t Time:  85.648\n",
            "Epoch:  10 \t Rank:  110 \t Norm:  2.48E-01 \t Time:  91.725\n",
            "square of singular values: [0.891 0.1   0.008 0.001]\n",
            "Epoch:  1 \t Rank:  3 \t Norm:  3.38E-10 \t Time:  0.533\n",
            "Epoch:  2 \t Rank:  6 \t Norm:  3.40E-03 \t Time:  0.608\n",
            "Epoch:  3 \t Rank:  12 \t Norm:  2.00E-01 \t Time:  1.165\n",
            "Epoch:  4 \t Rank:  24 \t Norm:  3.99E-01 \t Time:  2.16\n",
            "Epoch:  5 \t Rank:  34 \t Norm:  4.34E-01 \t Time:  4.843\n",
            "Epoch:  6 \t Rank:  34 \t Norm:  4.39E-01 \t Time:  6.521\n",
            "Epoch:  7 \t Rank:  32 \t Norm:  4.39E-01 \t Time:  5.996\n",
            "Epoch:  8 \t Rank:  31 \t Norm:  4.40E-01 \t Time:  5.511\n",
            "Epoch:  9 \t Rank:  30 \t Norm:  4.40E-01 \t Time:  5.124\n",
            "Epoch:  10 \t Rank:  30 \t Norm:  4.40E-01 \t Time:  5.234\n",
            "square of singular values: [0.589 0.41  0.001 0.001]\n",
            "Epoch:  1 \t Rank:  2 \t Norm:  1.97E-11 \t Time:  0.543\n",
            "Epoch:  2 \t Rank:  4 \t Norm:  5.31E-07 \t Time:  0.572\n",
            "Epoch:  3 \t Rank:  8 \t Norm:  5.50E-06 \t Time:  0.666\n",
            "Epoch:  4 \t Rank:  17 \t Norm:  1.30E-05 \t Time:  1.535\n",
            "Epoch:  5 \t Rank:  36 \t Norm:  2.74E-05 \t Time:  4.11\n",
            "Epoch:  6 \t Rank:  67 \t Norm:  3.34E-05 \t Time:  17.015\n",
            "Epoch:  7 \t Rank:  86 \t Norm:  3.50E-05 \t Time:  36.15\n",
            "Epoch:  8 \t Rank:  88 \t Norm:  3.62E-05 \t Time:  59.083\n",
            "Epoch:  9 \t Rank:  90 \t Norm:  3.73E-05 \t Time:  57.702\n",
            "Epoch:  10 \t Rank:  86 \t Norm:  3.85E-05 \t Time:  58.138\n",
            "square of singular values: [0.823 0.173 0.004 0.001]\n",
            "Epoch:  1 \t Rank:  2 \t Norm:  2.43E-12 \t Time:  0.475\n",
            "Epoch:  2 \t Rank:  4 \t Norm:  3.78E-05 \t Time:  0.501\n",
            "Epoch:  3 \t Rank:  8 \t Norm:  1.08E-03 \t Time:  0.558\n",
            "Epoch:  4 \t Rank:  16 \t Norm:  1.45E-03 \t Time:  1.268\n",
            "Epoch:  5 \t Rank:  30 \t Norm:  1.49E-03 \t Time:  2.836\n",
            "Epoch:  6 \t Rank:  35 \t Norm:  1.50E-03 \t Time:  5.599\n",
            "Epoch:  7 \t Rank:  34 \t Norm:  1.50E-03 \t Time:  6.411\n",
            "Epoch:  8 \t Rank:  34 \t Norm:  1.51E-03 \t Time:  6.197\n",
            "Epoch:  9 \t Rank:  34 \t Norm:  1.51E-03 \t Time:  6.121\n",
            "Epoch:  10 \t Rank:  33 \t Norm:  1.51E-03 \t Time:  5.729\n",
            "square of singular values: [0.532 0.465 0.001 0.001]\n",
            "Epoch:  1 \t Rank:  2 \t Norm:  2.83E-11 \t Time:  0.474\n",
            "Epoch:  2 \t Rank:  4 \t Norm:  9.97E-10 \t Time:  0.498\n",
            "Epoch:  3 \t Rank:  9 \t Norm:  1.02E-08 \t Time:  0.6\n",
            "Epoch:  4 \t Rank:  19 \t Norm:  2.78E-08 \t Time:  1.546\n",
            "Epoch:  5 \t Rank:  39 \t Norm:  5.32E-08 \t Time:  4.401\n",
            "Epoch:  6 \t Rank:  80 \t Norm:  7.25E-08 \t Time:  18.576\n",
            "Epoch:  7 \t Rank:  161 \t Norm:  7.88E-08 \t Time:  106.496\n",
            "Epoch:  8 \t Rank:  249 \t Norm:  8.23E-08 \t Time:  415.841\n",
            "Epoch:  9 \t Rank:  280 \t Norm:  8.68E-08 \t Time:  878.403\n",
            "Epoch:  10 \t Rank:  280 \t Norm:  9.31E-08 \t Time:  924.119\n",
            "square of singular values: [0.652 0.343 0.003 0.002]\n",
            "Epoch:  1 \t Rank:  2 \t Norm:  8.54E-12 \t Time:  0.49\n",
            "Epoch:  2 \t Rank:  5 \t Norm:  1.45E-08 \t Time:  0.527\n",
            "Epoch:  3 \t Rank:  11 \t Norm:  2.36E-07 \t Time:  0.654\n",
            "Epoch:  4 \t Rank:  23 \t Norm:  7.70E-07 \t Time:  1.998\n",
            "Epoch:  5 \t Rank:  48 \t Norm:  1.28E-06 \t Time:  6.541\n",
            "Epoch:  6 \t Rank:  98 \t Norm:  1.59E-06 \t Time:  30.431\n",
            "Epoch:  7 \t Rank:  168 \t Norm:  1.78E-06 \t Time:  128.689\n",
            "Epoch:  8 \t Rank:  198 \t Norm:  1.90E-06 \t Time:  329.462\n",
            "Epoch:  9 \t Rank:  202 \t Norm:  1.96E-06 \t Time:  451.345\n",
            "Epoch:  10 \t Rank:  205 \t Norm:  2.00E-06 \t Time:  476.403\n",
            "square of singular values: [0.627 0.357 0.01  0.006]\n",
            "Epoch:  1 \t Rank:  2 \t Norm:  1.78E-12 \t Time:  0.513\n",
            "Epoch:  2 \t Rank:  4 \t Norm:  9.08E-10 \t Time:  0.515\n",
            "Epoch:  3 \t Rank:  8 \t Norm:  2.21E-08 \t Time:  0.582\n",
            "Epoch:  4 \t Rank:  17 \t Norm:  8.91E-08 \t Time:  1.416\n",
            "Epoch:  5 \t Rank:  35 \t Norm:  1.73E-07 \t Time:  3.83\n",
            "Epoch:  6 \t Rank:  71 \t Norm:  2.01E-07 \t Time:  15.031\n",
            "Epoch:  7 \t Rank:  114 \t Norm:  2.07E-07 \t Time:  51.447\n",
            "Epoch:  8 \t Rank:  125 \t Norm:  2.09E-07 \t Time:  117.157\n",
            "Epoch:  9 \t Rank:  130 \t Norm:  2.10E-07 \t Time:  142.142\n",
            "Epoch:  10 \t Rank:  132 \t Norm:  2.10E-07 \t Time:  149.568\n",
            "square of singular values: [0.797 0.198 0.004 0.001]\n",
            "Epoch:  1 \t Rank:  2 \t Norm:  7.74E-10 \t Time:  0.464\n",
            "Epoch:  2 \t Rank:  4 \t Norm:  1.03E-04 \t Time:  0.51\n",
            "Epoch:  3 \t Rank:  8 \t Norm:  2.33E-03 \t Time:  0.588\n",
            "Epoch:  4 \t Rank:  16 \t Norm:  6.34E-03 \t Time:  1.315\n",
            "Epoch:  5 \t Rank:  32 \t Norm:  9.17E-03 \t Time:  3.071\n",
            "Epoch:  6 \t Rank:  58 \t Norm:  1.04E-02 \t Time:  9.8\n",
            "Epoch:  7 \t Rank:  65 \t Norm:  1.09E-02 \t Time:  20.974\n",
            "Epoch:  8 \t Rank:  65 \t Norm:  1.10E-02 \t Time:  25.111\n",
            "Epoch:  9 \t Rank:  64 \t Norm:  1.11E-02 \t Time:  23.738\n",
            "Epoch:  10 \t Rank:  62 \t Norm:  1.11E-02 \t Time:  22.694\n",
            "square of singular values: [0.824 0.147 0.025 0.004]\n",
            "Epoch:  1 \t Rank:  2 \t Norm:  2.56E-09 \t Time:  0.455\n",
            "Epoch:  2 \t Rank:  4 \t Norm:  2.22E-03 \t Time:  0.511\n",
            "Epoch:  3 \t Rank:  8 \t Norm:  2.55E-02 \t Time:  0.57\n",
            "Epoch:  4 \t Rank:  16 \t Norm:  5.23E-02 \t Time:  1.31\n",
            "Epoch:  5 \t Rank:  32 \t Norm:  7.20E-02 \t Time:  3.104\n",
            "Epoch:  6 \t Rank:  63 \t Norm:  8.34E-02 \t Time:  10.947\n",
            "Epoch:  7 \t Rank:  77 \t Norm:  8.92E-02 \t Time:  29.21\n",
            "Epoch:  8 \t Rank:  81 \t Norm:  9.20E-02 \t Time:  39.337\n",
            "Epoch:  9 \t Rank:  82 \t Norm:  9.33E-02 \t Time:  42.736\n",
            "Epoch:  10 \t Rank:  82 \t Norm:  9.40E-02 \t Time:  43.513\n",
            "square of singular values: [0.727 0.252 0.015 0.005]\n",
            "Epoch:  1 \t Rank:  2 \t Norm:  1.23E-10 \t Time:  0.469\n",
            "Epoch:  2 \t Rank:  4 \t Norm:  1.81E-05 \t Time:  0.489\n",
            "Epoch:  3 \t Rank:  8 \t Norm:  1.41E-04 \t Time:  0.599\n",
            "Epoch:  4 \t Rank:  16 \t Norm:  2.92E-04 \t Time:  1.351\n",
            "Epoch:  5 \t Rank:  33 \t Norm:  4.33E-04 \t Time:  3.29\n",
            "Epoch:  6 \t Rank:  67 \t Norm:  5.48E-04 \t Time:  13.054\n",
            "Epoch:  7 \t Rank:  125 \t Norm:  6.36E-04 \t Time:  56.181\n",
            "Epoch:  8 \t Rank:  150 \t Norm:  6.98E-04 \t Time:  158.874\n",
            "Epoch:  9 \t Rank:  157 \t Norm:  7.40E-04 \t Time:  221.788\n",
            "Epoch:  10 \t Rank:  157 \t Norm:  7.68E-04 \t Time:  239.659\n",
            "square of singular values: [0.737 0.255 0.006 0.002]\n",
            "Epoch:  1 \t Rank:  2 \t Norm:  2.31E-11 \t Time:  0.477\n",
            "Epoch:  2 \t Rank:  4 \t Norm:  3.75E-06 \t Time:  0.503\n",
            "Epoch:  3 \t Rank:  9 \t Norm:  6.42E-05 \t Time:  0.616\n",
            "Epoch:  4 \t Rank:  18 \t Norm:  1.67E-04 \t Time:  1.459\n",
            "Epoch:  5 \t Rank:  37 \t Norm:  2.39E-04 \t Time:  4.015\n",
            "Epoch:  6 \t Rank:  69 \t Norm:  2.78E-04 \t Time:  15.273\n",
            "Epoch:  7 \t Rank:  78 \t Norm:  2.98E-04 \t Time:  31.249\n",
            "Epoch:  8 \t Rank:  81 \t Norm:  3.07E-04 \t Time:  39.297\n",
            "Epoch:  9 \t Rank:  83 \t Norm:  3.12E-04 \t Time:  42.56\n",
            "Epoch:  10 \t Rank:  88 \t Norm:  3.14E-04 \t Time:  49.736\n",
            "square of singular values: [0.685 0.295 0.014 0.006]\n",
            "Epoch:  1 \t Rank:  2 \t Norm:  2.16E-11 \t Time:  0.464\n",
            "Epoch:  2 \t Rank:  4 \t Norm:  7.57E-05 \t Time:  0.503\n",
            "Epoch:  3 \t Rank:  8 \t Norm:  1.07E-03 \t Time:  0.577\n",
            "Epoch:  4 \t Rank:  16 \t Norm:  1.62E-03 \t Time:  1.311\n",
            "Epoch:  5 \t Rank:  32 \t Norm:  1.73E-03 \t Time:  3.13\n",
            "Epoch:  6 \t Rank:  55 \t Norm:  1.75E-03 \t Time:  9.486\n",
            "Epoch:  7 \t Rank:  64 \t Norm:  1.75E-03 \t Time:  19.209\n",
            "Epoch:  8 \t Rank:  67 \t Norm:  1.75E-03 \t Time:  25.302\n",
            "Epoch:  9 \t Rank:  71 \t Norm:  1.75E-03 \t Time:  28.012\n",
            "Epoch:  10 \t Rank:  74 \t Norm:  1.75E-03 \t Time:  31.766\n",
            "square of singular values: [0.665 0.331 0.003 0.001]\n",
            "Epoch:  1 \t Rank:  2 \t Norm:  7.25E-11 \t Time:  0.473\n",
            "Epoch:  2 \t Rank:  4 \t Norm:  4.60E-07 \t Time:  0.493\n",
            "Epoch:  3 \t Rank:  8 \t Norm:  1.96E-05 \t Time:  0.564\n",
            "Epoch:  4 \t Rank:  16 \t Norm:  6.88E-05 \t Time:  1.343\n",
            "Epoch:  5 \t Rank:  32 \t Norm:  9.43E-05 \t Time:  3.188\n",
            "Epoch:  6 \t Rank:  64 \t Norm:  1.02E-04 \t Time:  11.271\n",
            "Epoch:  7 \t Rank:  108 \t Norm:  1.04E-04 \t Time:  42.55\n",
            "Epoch:  8 \t Rank:  115 \t Norm:  1.05E-04 \t Time:  105.893\n",
            "Epoch:  9 \t Rank:  112 \t Norm:  1.05E-04 \t Time:  113.693\n",
            "Epoch:  10 \t Rank:  105 \t Norm:  1.05E-04 \t Time:  99.262\n",
            "square of singular values: [0.562 0.428 0.005 0.004]\n",
            "Epoch:  1 \t Rank:  2 \t Norm:  8.91E-12 \t Time:  0.504\n",
            "Epoch:  2 \t Rank:  4 \t Norm:  1.78E-09 \t Time:  0.518\n",
            "Epoch:  3 \t Rank:  8 \t Norm:  2.43E-08 \t Time:  0.592\n",
            "Epoch:  4 \t Rank:  16 \t Norm:  6.57E-08 \t Time:  1.344\n",
            "Epoch:  5 \t Rank:  33 \t Norm:  9.56E-08 \t Time:  3.412\n",
            "Epoch:  6 \t Rank:  68 \t Norm:  1.08E-07 \t Time:  13.455\n",
            "Epoch:  7 \t Rank:  134 \t Norm:  1.14E-07 \t Time:  80.861\n",
            "Epoch:  8 \t Rank:  187 \t Norm:  1.16E-07 \t Time:  228.535\n",
            "Epoch:  9 \t Rank:  207 \t Norm:  1.18E-07 \t Time:  418.648\n",
            "Epoch:  10 \t Rank:  218 \t Norm:  1.20E-07 \t Time:  526.297\n",
            "square of singular values: [0.869 0.124 0.006 0.001]\n",
            "Epoch:  1 \t Rank:  2 \t Norm:  2.77E-10 \t Time:  0.533\n",
            "Epoch:  2 \t Rank:  4 \t Norm:  1.96E-03 \t Time:  0.549\n",
            "Epoch:  3 \t Rank:  8 \t Norm:  6.70E-02 \t Time:  0.589\n",
            "Epoch:  4 \t Rank:  16 \t Norm:  1.39E-01 \t Time:  1.455\n",
            "Epoch:  5 \t Rank:  32 \t Norm:  1.62E-01 \t Time:  3.215\n",
            "Epoch:  6 \t Rank:  37 \t Norm:  1.67E-01 \t Time:  6.339\n",
            "Epoch:  7 \t Rank:  38 \t Norm:  1.68E-01 \t Time:  7.292\n",
            "Epoch:  8 \t Rank:  37 \t Norm:  1.68E-01 \t Time:  7.388\n",
            "Epoch:  9 \t Rank:  37 \t Norm:  1.69E-01 \t Time:  7.229\n",
            "Epoch:  10 \t Rank:  36 \t Norm:  1.69E-01 \t Time:  6.953\n",
            "square of singular values: [0.867 0.118 0.013 0.002]\n",
            "Epoch:  1 \t Rank:  2 \t Norm:  2.38E-11 \t Time:  0.476\n",
            "Epoch:  2 \t Rank:  4 \t Norm:  3.03E-03 \t Time:  0.506\n",
            "Epoch:  3 \t Rank:  8 \t Norm:  1.66E-01 \t Time:  0.565\n",
            "Epoch:  4 \t Rank:  16 \t Norm:  5.05E-01 \t Time:  1.314\n",
            "Epoch:  5 \t Rank:  29 \t Norm:  7.77E-01 \t Time:  2.811\n",
            "Epoch:  6 \t Rank:  30 \t Norm:  8.32E-01 \t Time:  4.519\n",
            "Epoch:  7 \t Rank:  28 \t Norm:  8.44E-01 \t Time:  4.385\n",
            "Epoch:  8 \t Rank:  26 \t Norm:  8.50E-01 \t Time:  3.792\n",
            "Epoch:  9 \t Rank:  26 \t Norm:  8.56E-01 \t Time:  3.488\n",
            "Epoch:  10 \t Rank:  24 \t Norm:  8.60E-01 \t Time:  3.292\n",
            "square of singular values: [0.878 0.101 0.02  0.002]\n",
            "Epoch:  1 \t Rank:  2 \t Norm:  2.25E-11 \t Time:  0.519\n",
            "Epoch:  2 \t Rank:  4 \t Norm:  8.39E-04 \t Time:  0.541\n",
            "Epoch:  3 \t Rank:  8 \t Norm:  1.05E-02 \t Time:  0.582\n",
            "Epoch:  4 \t Rank:  16 \t Norm:  1.16E-02 \t Time:  1.332\n",
            "Epoch:  5 \t Rank:  21 \t Norm:  1.17E-02 \t Time:  2.065\n",
            "Epoch:  6 \t Rank:  23 \t Norm:  1.18E-02 \t Time:  2.673\n",
            "Epoch:  7 \t Rank:  23 \t Norm:  1.18E-02 \t Time:  2.947\n",
            "Epoch:  8 \t Rank:  23 \t Norm:  1.18E-02 \t Time:  2.859\n",
            "Epoch:  9 \t Rank:  24 \t Norm:  1.18E-02 \t Time:  2.933\n",
            "Epoch:  10 \t Rank:  23 \t Norm:  1.18E-02 \t Time:  3.135\n",
            "square of singular values: [0.733 0.258 0.007 0.002]\n",
            "Epoch:  1 \t Rank:  2 \t Norm:  3.97E-10 \t Time:  0.478\n",
            "Epoch:  2 \t Rank:  4 \t Norm:  1.50E-05 \t Time:  0.51\n",
            "Epoch:  3 \t Rank:  8 \t Norm:  1.05E-04 \t Time:  0.58\n",
            "Epoch:  4 \t Rank:  16 \t Norm:  2.01E-04 \t Time:  1.311\n",
            "Epoch:  5 \t Rank:  33 \t Norm:  2.70E-04 \t Time:  3.255\n",
            "Epoch:  6 \t Rank:  66 \t Norm:  3.15E-04 \t Time:  13.776\n",
            "Epoch:  7 \t Rank:  89 \t Norm:  3.42E-04 \t Time:  34.841\n",
            "Epoch:  8 \t Rank:  95 \t Norm:  3.56E-04 \t Time:  64.278\n",
            "Epoch:  9 \t Rank:  97 \t Norm:  3.63E-04 \t Time:  72.49\n",
            "Epoch:  10 \t Rank:  99 \t Norm:  3.66E-04 \t Time:  78.287\n",
            "square of singular values: [0.564 0.42  0.009 0.007]\n",
            "Epoch:  1 \t Rank:  2 \t Norm:  1.22E-13 \t Time:  0.516\n",
            "Epoch:  2 \t Rank:  4 \t Norm:  3.56E-11 \t Time:  0.554\n",
            "Epoch:  3 \t Rank:  8 \t Norm:  1.35E-09 \t Time:  0.596\n",
            "Epoch:  4 \t Rank:  17 \t Norm:  3.56E-09 \t Time:  1.444\n",
            "Epoch:  5 \t Rank:  37 \t Norm:  6.04E-09 \t Time:  3.988\n",
            "Epoch:  6 \t Rank:  78 \t Norm:  8.62E-09 \t Time:  19.603\n",
            "Epoch:  7 \t Rank:  157 \t Norm:  1.03E-08 \t Time:  101.942\n",
            "Epoch:  8 \t Rank:  238 \t Norm:  1.11E-08 \t Time:  371.795\n",
            "Epoch:  9 \t Rank:  262 \t Norm:  1.14E-08 \t Time:  793.534\n",
            "Epoch:  10 \t Rank:  272 \t Norm:  1.15E-08 \t Time:  921.47\n",
            "square of singular values: [0.744 0.207 0.038 0.011]\n",
            "Epoch:  1 \t Rank:  2 \t Norm:  9.33E-11 \t Time:  0.479\n",
            "Epoch:  2 \t Rank:  4 \t Norm:  2.99E-07 \t Time:  0.503\n",
            "Epoch:  3 \t Rank:  8 \t Norm:  9.71E-06 \t Time:  0.594\n",
            "Epoch:  4 \t Rank:  16 \t Norm:  1.82E-04 \t Time:  1.282\n",
            "Epoch:  5 \t Rank:  33 \t Norm:  2.43E-04 \t Time:  3.225\n",
            "Epoch:  6 \t Rank:  50 \t Norm:  2.44E-04 \t Time:  8.295\n",
            "Epoch:  7 \t Rank:  50 \t Norm:  2.44E-04 \t Time:  13.66\n",
            "Epoch:  8 \t Rank:  44 \t Norm:  2.44E-04 \t Time:  12.077\n",
            "Epoch:  9 \t Rank:  42 \t Norm:  2.44E-04 \t Time:  9.909\n",
            "Epoch:  10 \t Rank:  40 \t Norm:  2.44E-04 \t Time:  8.672\n",
            "square of singular values: [0.957 0.029 0.014 0.   ]\n",
            "Epoch:  1 \t Rank:  2 \t Norm:  1.50E-14 \t Time:  0.507\n",
            "Epoch:  2 \t Rank:  4 \t Norm:  3.21E-03 \t Time:  0.517\n",
            "Epoch:  3 \t Rank:  8 \t Norm:  4.97E-01 \t Time:  0.578\n",
            "Epoch:  4 \t Rank:  13 \t Norm:  5.36E-01 \t Time:  1.137\n",
            "Epoch:  5 \t Rank:  13 \t Norm:  5.50E-01 \t Time:  1.362\n",
            "Epoch:  6 \t Rank:  12 \t Norm:  5.68E-01 \t Time:  1.31\n",
            "Epoch:  7 \t Rank:  12 \t Norm:  5.88E-01 \t Time:  1.273\n",
            "Epoch:  8 \t Rank:  12 \t Norm:  6.09E-01 \t Time:  1.257\n",
            "Epoch:  9 \t Rank:  12 \t Norm:  6.27E-01 \t Time:  1.268\n",
            "Epoch:  10 \t Rank:  12 \t Norm:  6.41E-01 \t Time:  1.25\n",
            "square of singular values: [0.848 0.106 0.04  0.005]\n",
            "Epoch:  1 \t Rank:  2 \t Norm:  1.88E-10 \t Time:  0.485\n",
            "Epoch:  2 \t Rank:  4 \t Norm:  6.07E-03 \t Time:  0.484\n",
            "Epoch:  3 \t Rank:  8 \t Norm:  1.04E-01 \t Time:  0.57\n",
            "Epoch:  4 \t Rank:  16 \t Norm:  2.18E-01 \t Time:  1.291\n",
            "Epoch:  5 \t Rank:  32 \t Norm:  3.04E-01 \t Time:  3.267\n",
            "Epoch:  6 \t Rank:  60 \t Norm:  3.68E-01 \t Time:  10.506\n",
            "Epoch:  7 \t Rank:  69 \t Norm:  4.15E-01 \t Time:  23.129\n",
            "Epoch:  8 \t Rank:  74 \t Norm:  4.46E-01 \t Time:  30.384\n",
            "Epoch:  9 \t Rank:  75 \t Norm:  4.65E-01 \t Time:  36.73\n",
            "Epoch:  10 \t Rank:  75 \t Norm:  4.76E-01 \t Time:  34.996\n",
            "square of singular values: [0.913 0.08  0.007 0.001]\n",
            "Epoch:  1 \t Rank:  2 \t Norm:  3.20E-11 \t Time:  0.489\n",
            "Epoch:  2 \t Rank:  4 \t Norm:  6.00E-02 \t Time:  0.534\n",
            "Epoch:  3 \t Rank:  8 \t Norm:  6.33E-01 \t Time:  0.584\n",
            "Epoch:  4 \t Rank:  16 \t Norm:  7.32E-01 \t Time:  1.33\n",
            "Epoch:  5 \t Rank:  23 \t Norm:  7.40E-01 \t Time:  2.191\n",
            "Epoch:  6 \t Rank:  30 \t Norm:  7.41E-01 \t Time:  3.556\n",
            "Epoch:  7 \t Rank:  31 \t Norm:  7.41E-01 \t Time:  4.724\n",
            "Epoch:  8 \t Rank:  28 \t Norm:  7.41E-01 \t Time:  4.526\n",
            "Epoch:  9 \t Rank:  30 \t Norm:  7.42E-01 \t Time:  4.277\n",
            "Epoch:  10 \t Rank:  28 \t Norm:  7.42E-01 \t Time:  4.702\n",
            "square of singular values: [0.928 0.055 0.015 0.001]\n",
            "Epoch:  1 \t Rank:  2 \t Norm:  6.05E-12 \t Time:  0.483\n",
            "Epoch:  2 \t Rank:  4 \t Norm:  2.66E-02 \t Time:  0.483\n",
            "Epoch:  3 \t Rank:  8 \t Norm:  3.29E-01 \t Time:  0.579\n",
            "Epoch:  4 \t Rank:  15 \t Norm:  3.48E-01 \t Time:  1.244\n",
            "Epoch:  5 \t Rank:  16 \t Norm:  3.48E-01 \t Time:  1.575\n",
            "Epoch:  6 \t Rank:  17 \t Norm:  3.48E-01 \t Time:  1.842\n",
            "Epoch:  7 \t Rank:  16 \t Norm:  3.48E-01 \t Time:  1.878\n",
            "Epoch:  8 \t Rank:  16 \t Norm:  3.48E-01 \t Time:  1.638\n",
            "Epoch:  9 \t Rank:  16 \t Norm:  3.48E-01 \t Time:  1.62\n",
            "Epoch:  10 \t Rank:  16 \t Norm:  3.48E-01 \t Time:  1.722\n",
            "square of singular values: [0.879 0.112 0.008 0.001]\n",
            "Epoch:  1 \t Rank:  2 \t Norm:  8.33E-14 \t Time:  0.503\n",
            "Epoch:  2 \t Rank:  4 \t Norm:  3.82E-04 \t Time:  0.526\n",
            "Epoch:  3 \t Rank:  8 \t Norm:  4.92E-02 \t Time:  0.636\n",
            "Epoch:  4 \t Rank:  16 \t Norm:  1.96E-01 \t Time:  1.499\n",
            "Epoch:  5 \t Rank:  32 \t Norm:  2.75E-01 \t Time:  3.293\n",
            "Epoch:  6 \t Rank:  41 \t Norm:  2.95E-01 \t Time:  6.933\n",
            "Epoch:  7 \t Rank:  40 \t Norm:  2.98E-01 \t Time:  9.084\n",
            "Epoch:  8 \t Rank:  39 \t Norm:  2.99E-01 \t Time:  9.841\n",
            "Epoch:  9 \t Rank:  38 \t Norm:  2.99E-01 \t Time:  8.846\n",
            "Epoch:  10 \t Rank:  36 \t Norm:  2.99E-01 \t Time:  7.825\n",
            "square of singular values: [0.54  0.455 0.003 0.002]\n",
            "Epoch:  1 \t Rank:  2 \t Norm:  1.91E-11 \t Time:  0.501\n",
            "Epoch:  2 \t Rank:  4 \t Norm:  1.26E-07 \t Time:  0.537\n",
            "Epoch:  3 \t Rank:  8 \t Norm:  4.04E-06 \t Time:  0.652\n",
            "Epoch:  4 \t Rank:  17 \t Norm:  8.41E-06 \t Time:  1.594\n",
            "Epoch:  5 \t Rank:  35 \t Norm:  1.11E-05 \t Time:  4.208\n",
            "Epoch:  6 \t Rank:  61 \t Norm:  1.24E-05 \t Time:  11.975\n",
            "Epoch:  7 \t Rank:  70 \t Norm:  1.29E-05 \t Time:  26.279\n",
            "Epoch:  8 \t Rank:  73 \t Norm:  1.30E-05 \t Time:  33.419\n",
            "Epoch:  9 \t Rank:  72 \t Norm:  1.31E-05 \t Time:  35.83\n",
            "Epoch:  10 \t Rank:  72 \t Norm:  1.31E-05 \t Time:  33.653\n",
            "square of singular values: [0.951 0.047 0.002 0.   ]\n",
            "Epoch:  1 \t Rank:  2 \t Norm:  5.83E-12 \t Time:  0.502\n",
            "Epoch:  2 \t Rank:  4 \t Norm:  4.69E-02 \t Time:  0.509\n",
            "Epoch:  3 \t Rank:  8 \t Norm:  2.31E-01 \t Time:  0.577\n",
            "Epoch:  4 \t Rank:  14 \t Norm:  2.34E-01 \t Time:  1.219\n",
            "Epoch:  5 \t Rank:  14 \t Norm:  2.34E-01 \t Time:  1.494\n",
            "Epoch:  6 \t Rank:  14 \t Norm:  2.34E-01 \t Time:  1.53\n",
            "Epoch:  7 \t Rank:  14 \t Norm:  2.34E-01 \t Time:  1.472\n",
            "Epoch:  8 \t Rank:  14 \t Norm:  2.34E-01 \t Time:  1.515\n",
            "Epoch:  9 \t Rank:  14 \t Norm:  2.34E-01 \t Time:  1.497\n",
            "Epoch:  10 \t Rank:  14 \t Norm:  2.34E-01 \t Time:  1.445\n",
            "square of singular values: [0.615 0.35  0.022 0.013]\n",
            "Epoch:  1 \t Rank:  2 \t Norm:  9.88E-14 \t Time:  0.511\n",
            "Epoch:  2 \t Rank:  4 \t Norm:  1.04E-12 \t Time:  0.558\n",
            "Epoch:  3 \t Rank:  8 \t Norm:  9.08E-11 \t Time:  0.602\n",
            "Epoch:  4 \t Rank:  17 \t Norm:  4.61E-10 \t Time:  1.422\n",
            "Epoch:  5 \t Rank:  36 \t Norm:  6.32E-10 \t Time:  3.868\n",
            "Epoch:  6 \t Rank:  74 \t Norm:  6.61E-10 \t Time:  28.989\n",
            "Epoch:  7 \t Rank:  148 \t Norm:  6.68E-10 \t Time:  90.417\n",
            "Epoch:  8 \t Rank:  189 \t Norm:  6.73E-10 \t Time:  272.398\n",
            "Epoch:  9 \t Rank:  188 \t Norm:  6.76E-10 \t Time:  399.292\n",
            "Epoch:  10 \t Rank:  184 \t Norm:  6.78E-10 \t Time:  392.665\n",
            "square of singular values: [0.515 0.484 0.    0.   ]\n",
            "Epoch:  1 \t Rank:  2 \t Norm:  2.46E-10 \t Time:  0.493\n",
            "Epoch:  2 \t Rank:  4 \t Norm:  1.43E-09 \t Time:  0.583\n",
            "Epoch:  3 \t Rank:  8 \t Norm:  9.35E-09 \t Time:  0.655\n",
            "Epoch:  4 \t Rank:  16 \t Norm:  2.55E-08 \t Time:  1.49\n",
            "Epoch:  5 \t Rank:  33 \t Norm:  4.97E-08 \t Time:  3.77\n",
            "Epoch:  6 \t Rank:  69 \t Norm:  7.28E-08 \t Time:  14.662\n",
            "Epoch:  7 \t Rank:  142 \t Norm:  8.50E-08 \t Time:  94.135\n",
            "Epoch:  8 \t Rank:  265 \t Norm:  8.95E-08 \t Time:  404.288\n",
            "Epoch:  9 \t Rank:  357 \t Norm:  9.12E-08 \t Time:  943.854\n",
            "Epoch:  10 \t Rank:  382 \t Norm:  9.22E-08 \t Time:  940.235\n",
            "square of singular values: [0.862 0.098 0.036 0.004]\n",
            "Epoch:  1 \t Rank:  2 \t Norm:  6.12E-11 \t Time:  0.468\n",
            "Epoch:  2 \t Rank:  4 \t Norm:  6.65E-04 \t Time:  0.49\n",
            "Epoch:  3 \t Rank:  8 \t Norm:  2.56E-02 \t Time:  0.584\n",
            "Epoch:  4 \t Rank:  16 \t Norm:  7.51E-02 \t Time:  1.29\n",
            "Epoch:  5 \t Rank:  27 \t Norm:  9.48E-02 \t Time:  2.548\n",
            "Epoch:  6 \t Rank:  28 \t Norm:  9.75E-02 \t Time:  3.96\n",
            "Epoch:  7 \t Rank:  30 \t Norm:  9.78E-02 \t Time:  4.447\n",
            "Epoch:  8 \t Rank:  28 \t Norm:  9.79E-02 \t Time:  4.647\n",
            "Epoch:  9 \t Rank:  28 \t Norm:  9.79E-02 \t Time:  4.341\n",
            "Epoch:  10 \t Rank:  28 \t Norm:  9.79E-02 \t Time:  4.178\n",
            "square of singular values: [0.842 0.127 0.026 0.004]\n",
            "Epoch:  1 \t Rank:  3 \t Norm:  2.57E-13 \t Time:  0.492\n",
            "Epoch:  2 \t Rank:  6 \t Norm:  5.18E-05 \t Time:  0.54\n",
            "Epoch:  3 \t Rank:  13 \t Norm:  3.35E-03 \t Time:  1.101\n",
            "Epoch:  4 \t Rank:  26 \t Norm:  5.50E-03 \t Time:  2.251\n",
            "Epoch:  5 \t Rank:  34 \t Norm:  5.76E-03 \t Time:  4.709\n",
            "Epoch:  6 \t Rank:  33 \t Norm:  5.82E-03 \t Time:  5.97\n",
            "Epoch:  7 \t Rank:  32 \t Norm:  5.84E-03 \t Time:  5.57\n",
            "Epoch:  8 \t Rank:  31 \t Norm:  5.85E-03 \t Time:  5.279\n",
            "Epoch:  9 \t Rank:  31 \t Norm:  5.85E-03 \t Time:  5.623\n",
            "Epoch:  10 \t Rank:  31 \t Norm:  5.86E-03 \t Time:  5.153\n",
            "square of singular values: [0.807 0.172 0.017 0.004]\n",
            "Epoch:  1 \t Rank:  2 \t Norm:  7.34E-11 \t Time:  0.489\n",
            "Epoch:  2 \t Rank:  4 \t Norm:  1.98E-05 \t Time:  0.508\n",
            "Epoch:  3 \t Rank:  8 \t Norm:  9.47E-04 \t Time:  0.606\n",
            "Epoch:  4 \t Rank:  17 \t Norm:  4.41E-03 \t Time:  1.425\n",
            "Epoch:  5 \t Rank:  36 \t Norm:  8.16E-03 \t Time:  3.995\n",
            "Epoch:  6 \t Rank:  65 \t Norm:  1.01E-02 \t Time:  13.158\n",
            "Epoch:  7 \t Rank:  70 \t Norm:  1.08E-02 \t Time:  27.123\n",
            "Epoch:  8 \t Rank:  67 \t Norm:  1.11E-02 \t Time:  30.933\n",
            "Epoch:  9 \t Rank:  65 \t Norm:  1.12E-02 \t Time:  26.338\n",
            "Epoch:  10 \t Rank:  65 \t Norm:  1.13E-02 \t Time:  25.51\n",
            "square of singular values: [0.873 0.116 0.009 0.001]\n",
            "Epoch:  1 \t Rank:  2 \t Norm:  4.61E-11 \t Time:  0.516\n",
            "Epoch:  2 \t Rank:  4 \t Norm:  8.62E-04 \t Time:  0.553\n",
            "Epoch:  3 \t Rank:  8 \t Norm:  9.73E-02 \t Time:  0.605\n",
            "Epoch:  4 \t Rank:  16 \t Norm:  4.17E-01 \t Time:  1.446\n",
            "Epoch:  5 \t Rank:  30 \t Norm:  6.03E-01 \t Time:  3.048\n",
            "Epoch:  6 \t Rank:  33 \t Norm:  6.37E-01 \t Time:  5.191\n",
            "Epoch:  7 \t Rank:  32 \t Norm:  6.43E-01 \t Time:  5.56\n",
            "Epoch:  8 \t Rank:  30 \t Norm:  6.46E-01 \t Time:  5.462\n",
            "Epoch:  9 \t Rank:  29 \t Norm:  6.49E-01 \t Time:  4.765\n",
            "Epoch:  10 \t Rank:  26 \t Norm:  6.51E-01 \t Time:  4.192\n",
            "square of singular values: [0.772 0.217 0.008 0.002]\n",
            "Epoch:  1 \t Rank:  2 \t Norm:  1.40E-09 \t Time:  0.511\n",
            "Epoch:  2 \t Rank:  4 \t Norm:  5.74E-05 \t Time:  0.505\n",
            "Epoch:  3 \t Rank:  8 \t Norm:  1.44E-03 \t Time:  0.614\n",
            "Epoch:  4 \t Rank:  16 \t Norm:  4.49E-03 \t Time:  1.379\n",
            "Epoch:  5 \t Rank:  32 \t Norm:  6.66E-03 \t Time:  3.292\n",
            "Epoch:  6 \t Rank:  62 \t Norm:  7.61E-03 \t Time:  11.483\n",
            "Epoch:  7 \t Rank:  70 \t Norm:  7.99E-03 \t Time:  26.008\n",
            "Epoch:  8 \t Rank:  70 \t Norm:  8.14E-03 \t Time:  34.832\n",
            "Epoch:  9 \t Rank:  71 \t Norm:  8.20E-03 \t Time:  33.974\n",
            "Epoch:  10 \t Rank:  72 \t Norm:  8.23E-03 \t Time:  34.42\n",
            "square of singular values: [0.681 0.311 0.006 0.003]\n",
            "Epoch:  1 \t Rank:  2 \t Norm:  1.27E-10 \t Time:  0.504\n",
            "Epoch:  2 \t Rank:  4 \t Norm:  3.47E-06 \t Time:  0.581\n",
            "Epoch:  3 \t Rank:  8 \t Norm:  1.26E-04 \t Time:  0.64\n",
            "Epoch:  4 \t Rank:  16 \t Norm:  2.32E-04 \t Time:  1.398\n",
            "Epoch:  5 \t Rank:  31 \t Norm:  2.79E-04 \t Time:  3.143\n",
            "Epoch:  6 \t Rank:  44 \t Norm:  3.17E-04 \t Time:  7.096\n",
            "Epoch:  7 \t Rank:  51 \t Norm:  3.52E-04 \t Time:  12.37\n",
            "Epoch:  8 \t Rank:  56 \t Norm:  3.80E-04 \t Time:  16.597\n",
            "Epoch:  9 \t Rank:  62 \t Norm:  3.98E-04 \t Time:  19.664\n",
            "Epoch:  10 \t Rank:  66 \t Norm:  4.08E-04 \t Time:  25.082\n",
            "square of singular values: [0.763 0.218 0.015 0.004]\n",
            "Epoch:  1 \t Rank:  3 \t Norm:  1.04E-09 \t Time:  0.482\n",
            "Epoch:  2 \t Rank:  6 \t Norm:  2.03E-04 \t Time:  0.544\n",
            "Epoch:  3 \t Rank:  13 \t Norm:  1.49E-03 \t Time:  1.11\n",
            "Epoch:  4 \t Rank:  27 \t Norm:  2.96E-03 \t Time:  2.435\n",
            "Epoch:  5 \t Rank:  56 \t Norm:  4.17E-03 \t Time:  8.986\n",
            "Epoch:  6 \t Rank:  114 \t Norm:  5.11E-03 \t Time:  43.738\n",
            "Epoch:  7 \t Rank:  176 \t Norm:  5.84E-03 \t Time:  173.486\n",
            "Epoch:  8 \t Rank:  206 \t Norm:  6.42E-03 \t Time:  369.729\n",
            "Epoch:  9 \t Rank:  225 \t Norm:  6.88E-03 \t Time:  536.759\n",
            "Epoch:  10 \t Rank:  238 \t Norm:  7.26E-03 \t Time:  660.993\n",
            "square of singular values: [0.611 0.37  0.012 0.007]\n",
            "Epoch:  1 \t Rank:  2 \t Norm:  4.26E-13 \t Time:  0.493\n",
            "Epoch:  2 \t Rank:  4 \t Norm:  8.20E-11 \t Time:  0.496\n",
            "Epoch:  3 \t Rank:  8 \t Norm:  1.33E-09 \t Time:  0.57\n",
            "Epoch:  4 \t Rank:  17 \t Norm:  3.61E-09 \t Time:  1.382\n",
            "Epoch:  5 \t Rank:  36 \t Norm:  5.37E-09 \t Time:  3.79\n",
            "Epoch:  6 \t Rank:  75 \t Norm:  6.30E-09 \t Time:  15.974\n",
            "Epoch:  7 \t Rank:  150 \t Norm:  6.72E-09 \t Time:  88.863\n",
            "Epoch:  8 \t Rank:  209 \t Norm:  6.91E-09 \t Time:  295.512\n",
            "Epoch:  9 \t Rank:  223 \t Norm:  7.00E-09 \t Time:  542.052\n",
            "Epoch:  10 \t Rank:  228 \t Norm:  7.04E-09 \t Time:  650.376\n",
            "square of singular values: [0.869 0.082 0.044 0.004]\n",
            "Epoch:  1 \t Rank:  2 \t Norm:  7.62E-12 \t Time:  0.516\n",
            "Epoch:  2 \t Rank:  4 \t Norm:  2.40E-03 \t Time:  0.54\n",
            "Epoch:  3 \t Rank:  8 \t Norm:  5.04E-02 \t Time:  0.626\n",
            "Epoch:  4 \t Rank:  16 \t Norm:  1.54E-01 \t Time:  1.456\n",
            "Epoch:  5 \t Rank:  32 \t Norm:  2.50E-01 \t Time:  3.5\n",
            "Epoch:  6 \t Rank:  42 \t Norm:  2.95E-01 \t Time:  7.76\n",
            "Epoch:  7 \t Rank:  42 \t Norm:  3.11E-01 \t Time:  10.81\n",
            "Epoch:  8 \t Rank:  40 \t Norm:  3.19E-01 \t Time:  10.036\n",
            "Epoch:  9 \t Rank:  39 \t Norm:  3.27E-01 \t Time:  9.095\n",
            "Epoch:  10 \t Rank:  37 \t Norm:  3.35E-01 \t Time:  8.632\n",
            "square of singular values: [0.727 0.269 0.003 0.001]\n",
            "Epoch:  1 \t Rank:  2 \t Norm:  1.32E-10 \t Time:  0.503\n",
            "Epoch:  2 \t Rank:  4 \t Norm:  1.35E-05 \t Time:  0.566\n",
            "Epoch:  3 \t Rank:  9 \t Norm:  1.44E-04 \t Time:  0.625\n",
            "Epoch:  4 \t Rank:  19 \t Norm:  3.35E-04 \t Time:  1.731\n",
            "Epoch:  5 \t Rank:  39 \t Norm:  4.96E-04 \t Time:  4.955\n",
            "Epoch:  6 \t Rank:  76 \t Norm:  6.03E-04 \t Time:  19.072\n",
            "Epoch:  7 \t Rank:  105 \t Norm:  6.71E-04 \t Time:  69.25\n",
            "Epoch:  8 \t Rank:  122 \t Norm:  7.19E-04 \t Time:  116.598\n",
            "Epoch:  9 \t Rank:  132 \t Norm:  7.59E-04 \t Time:  146.341\n",
            "Epoch:  10 \t Rank:  139 \t Norm:  7.95E-04 \t Time:  175.004\n",
            "square of singular values: [0.782 0.198 0.016 0.004]\n",
            "Epoch:  1 \t Rank:  2 \t Norm:  2.71E-09 \t Time:  0.532\n",
            "Epoch:  2 \t Rank:  4 \t Norm:  4.99E-04 \t Time:  0.53\n",
            "Epoch:  3 \t Rank:  8 \t Norm:  4.16E-03 \t Time:  0.618\n",
            "Epoch:  4 \t Rank:  16 \t Norm:  8.76E-03 \t Time:  1.499\n",
            "Epoch:  5 \t Rank:  33 \t Norm:  1.28E-02 \t Time:  3.7\n",
            "Epoch:  6 \t Rank:  67 \t Norm:  1.62E-02 \t Time:  15.202\n",
            "Epoch:  7 \t Rank:  115 \t Norm:  1.90E-02 \t Time:  58.385\n",
            "Epoch:  8 \t Rank:  131 \t Norm:  2.13E-02 \t Time:  126.496\n",
            "Epoch:  9 \t Rank:  139 \t Norm:  2.31E-02 \t Time:  174.45\n",
            "Epoch:  10 \t Rank:  140 \t Norm:  2.46E-02 \t Time:  190.839\n",
            "square of singular values: [0.746 0.248 0.004 0.001]\n",
            "Epoch:  1 \t Rank:  2 \t Norm:  7.68E-12 \t Time:  0.509\n",
            "Epoch:  2 \t Rank:  4 \t Norm:  6.50E-06 \t Time:  0.517\n",
            "Epoch:  3 \t Rank:  8 \t Norm:  1.22E-04 \t Time:  0.608\n",
            "Epoch:  4 \t Rank:  17 \t Norm:  3.78E-04 \t Time:  1.53\n",
            "Epoch:  5 \t Rank:  35 \t Norm:  7.13E-04 \t Time:  4.158\n",
            "Epoch:  6 \t Rank:  72 \t Norm:  9.75E-04 \t Time:  16.401\n",
            "Epoch:  7 \t Rank:  101 \t Norm:  1.11E-03 \t Time:  55.198\n",
            "Epoch:  8 \t Rank:  109 \t Norm:  1.17E-03 \t Time:  87.042\n",
            "Epoch:  9 \t Rank:  112 \t Norm:  1.20E-03 \t Time:  100.372\n",
            "Epoch:  10 \t Rank:  111 \t Norm:  1.21E-03 \t Time:  104.67\n",
            "square of singular values: [0.879 0.103 0.016 0.002]\n",
            "Epoch:  1 \t Rank:  2 \t Norm:  8.28E-10 \t Time:  0.52\n",
            "Epoch:  2 \t Rank:  4 \t Norm:  7.54E-03 \t Time:  0.538\n",
            "Epoch:  3 \t Rank:  8 \t Norm:  1.17E-01 \t Time:  0.615\n",
            "Epoch:  4 \t Rank:  16 \t Norm:  2.78E-01 \t Time:  1.391\n",
            "Epoch:  5 \t Rank:  32 \t Norm:  4.33E-01 \t Time:  3.368\n",
            "Epoch:  6 \t Rank:  49 \t Norm:  5.26E-01 \t Time:  9.051\n",
            "Epoch:  7 \t Rank:  52 \t Norm:  5.61E-01 \t Time:  15.261\n",
            "Epoch:  8 \t Rank:  51 \t Norm:  5.71E-01 \t Time:  16.175\n",
            "Epoch:  9 \t Rank:  49 \t Norm:  5.74E-01 \t Time:  15.534\n",
            "Epoch:  10 \t Rank:  48 \t Norm:  5.75E-01 \t Time:  13.46\n",
            "square of singular values: [0.546 0.445 0.005 0.004]\n",
            "Epoch:  1 \t Rank:  2 \t Norm:  1.47E-11 \t Time:  0.488\n",
            "Epoch:  2 \t Rank:  4 \t Norm:  6.55E-09 \t Time:  0.501\n",
            "Epoch:  3 \t Rank:  8 \t Norm:  6.09E-08 \t Time:  0.59\n",
            "Epoch:  4 \t Rank:  17 \t Norm:  1.93E-07 \t Time:  1.396\n",
            "Epoch:  5 \t Rank:  36 \t Norm:  3.50E-07 \t Time:  3.761\n",
            "Epoch:  6 \t Rank:  74 \t Norm:  4.07E-07 \t Time:  16.24\n",
            "Epoch:  7 \t Rank:  128 \t Norm:  4.18E-07 \t Time:  67.807\n",
            "Epoch:  8 \t Rank:  152 \t Norm:  4.20E-07 \t Time:  165.788\n",
            "Epoch:  9 \t Rank:  164 \t Norm:  4.21E-07 \t Time:  234.133\n",
            "Epoch:  10 \t Rank:  169 \t Norm:  4.21E-07 \t Time:  275.477\n",
            "square of singular values: [0.734 0.244 0.016 0.005]\n",
            "Epoch:  1 \t Rank:  3 \t Norm:  3.74E-11 \t Time:  0.516\n",
            "Epoch:  2 \t Rank:  6 \t Norm:  7.86E-06 \t Time:  0.588\n",
            "Epoch:  3 \t Rank:  12 \t Norm:  9.42E-05 \t Time:  1.229\n",
            "Epoch:  4 \t Rank:  24 \t Norm:  2.52E-04 \t Time:  2.18\n",
            "Epoch:  5 \t Rank:  49 \t Norm:  4.27E-04 \t Time:  6.877\n",
            "Epoch:  6 \t Rank:  99 \t Norm:  5.63E-04 \t Time:  32.358\n",
            "Epoch:  7 \t Rank:  132 \t Norm:  6.47E-04 \t Time:  94.578\n",
            "Epoch:  8 \t Rank:  139 \t Norm:  6.93E-04 \t Time:  164.119\n",
            "Epoch:  9 \t Rank:  137 \t Norm:  7.16E-04 \t Time:  177.91\n",
            "Epoch:  10 \t Rank:  133 \t Norm:  7.28E-04 \t Time:  170.143\n",
            "square of singular values: [0.739 0.242 0.015 0.005]\n",
            "Epoch:  1 \t Rank:  2 \t Norm:  1.57E-12 \t Time:  0.502\n",
            "Epoch:  2 \t Rank:  4 \t Norm:  7.91E-06 \t Time:  0.529\n",
            "Epoch:  3 \t Rank:  8 \t Norm:  6.78E-05 \t Time:  0.627\n",
            "Epoch:  4 \t Rank:  16 \t Norm:  9.93E-05 \t Time:  1.352\n",
            "Epoch:  5 \t Rank:  32 \t Norm:  1.18E-04 \t Time:  3.167\n",
            "Epoch:  6 \t Rank:  57 \t Norm:  1.31E-04 \t Time:  9.979\n",
            "Epoch:  7 \t Rank:  70 \t Norm:  1.41E-04 \t Time:  22.386\n",
            "Epoch:  8 \t Rank:  79 \t Norm:  1.48E-04 \t Time:  34.256\n",
            "Epoch:  9 \t Rank:  85 \t Norm:  1.52E-04 \t Time:  45.656\n",
            "Epoch:  10 \t Rank:  93 \t Norm:  1.55E-04 \t Time:  55.362\n",
            "square of singular values: [0.84  0.156 0.003 0.001]\n",
            "Epoch:  1 \t Rank:  3 \t Norm:  5.88E-11 \t Time:  0.481\n",
            "Epoch:  2 \t Rank:  6 \t Norm:  4.47E-04 \t Time:  0.552\n",
            "Epoch:  3 \t Rank:  12 \t Norm:  1.92E-02 \t Time:  1.188\n",
            "Epoch:  4 \t Rank:  24 \t Norm:  3.45E-02 \t Time:  2.04\n",
            "Epoch:  5 \t Rank:  36 \t Norm:  3.70E-02 \t Time:  4.616\n",
            "Epoch:  6 \t Rank:  35 \t Norm:  3.77E-02 \t Time:  7.069\n",
            "Epoch:  7 \t Rank:  33 \t Norm:  3.82E-02 \t Time:  6.084\n",
            "Epoch:  8 \t Rank:  32 \t Norm:  3.85E-02 \t Time:  5.595\n",
            "Epoch:  9 \t Rank:  33 \t Norm:  3.88E-02 \t Time:  5.44\n",
            "Epoch:  10 \t Rank:  31 \t Norm:  3.90E-02 \t Time:  5.577\n",
            "square of singular values: [0.752 0.24  0.006 0.002]\n",
            "Epoch:  1 \t Rank:  2 \t Norm:  1.17E-11 \t Time:  0.543\n",
            "Epoch:  2 \t Rank:  4 \t Norm:  5.93E-04 \t Time:  0.546\n",
            "Epoch:  3 \t Rank:  8 \t Norm:  1.26E-02 \t Time:  0.584\n",
            "Epoch:  4 \t Rank:  16 \t Norm:  2.46E-02 \t Time:  1.31\n",
            "Epoch:  5 \t Rank:  32 \t Norm:  2.92E-02 \t Time:  3.271\n",
            "Epoch:  6 \t Rank:  57 \t Norm:  3.09E-02 \t Time:  10.267\n",
            "Epoch:  7 \t Rank:  66 \t Norm:  3.18E-02 \t Time:  21.512\n",
            "Epoch:  8 \t Rank:  74 \t Norm:  3.23E-02 \t Time:  28.689\n",
            "Epoch:  9 \t Rank:  79 \t Norm:  3.26E-02 \t Time:  37.52\n",
            "Epoch:  10 \t Rank:  84 \t Norm:  3.29E-02 \t Time:  46.23\n",
            "square of singular values: [0.771 0.217 0.009 0.003]\n",
            "Epoch:  1 \t Rank:  2 \t Norm:  6.92E-11 \t Time:  0.473\n",
            "Epoch:  2 \t Rank:  4 \t Norm:  5.95E-05 \t Time:  0.53\n",
            "Epoch:  3 \t Rank:  9 \t Norm:  2.35E-03 \t Time:  0.685\n",
            "Epoch:  4 \t Rank:  19 \t Norm:  4.39E-03 \t Time:  1.629\n",
            "Epoch:  5 \t Rank:  37 \t Norm:  4.70E-03 \t Time:  4.632\n",
            "Epoch:  6 \t Rank:  42 \t Norm:  4.73E-03 \t Time:  8.76\n",
            "Epoch:  7 \t Rank:  41 \t Norm:  4.73E-03 \t Time:  9.947\n",
            "Epoch:  8 \t Rank:  40 \t Norm:  4.73E-03 \t Time:  9.431\n",
            "Epoch:  9 \t Rank:  38 \t Norm:  4.73E-03 \t Time:  8.994\n",
            "Epoch:  10 \t Rank:  38 \t Norm:  4.73E-03 \t Time:  7.866\n",
            "square of singular values: [0.839 0.111 0.044 0.006]\n",
            "Epoch:  1 \t Rank:  2 \t Norm:  1.03E-09 \t Time:  0.493\n",
            "Epoch:  2 \t Rank:  4 \t Norm:  1.27E-02 \t Time:  0.496\n",
            "Epoch:  3 \t Rank:  8 \t Norm:  1.32E-01 \t Time:  0.6\n",
            "Epoch:  4 \t Rank:  17 \t Norm:  2.27E-01 \t Time:  1.426\n",
            "Epoch:  5 \t Rank:  35 \t Norm:  2.98E-01 \t Time:  3.952\n",
            "Epoch:  6 \t Rank:  69 \t Norm:  3.53E-01 \t Time:  14.301\n",
            "Epoch:  7 \t Rank:  93 \t Norm:  3.96E-01 \t Time:  41.243\n",
            "Epoch:  8 \t Rank:  99 \t Norm:  4.29E-01 \t Time:  64.419\n",
            "Epoch:  9 \t Rank:  102 \t Norm:  4.54E-01 \t Time:  76.166\n",
            "Epoch:  10 \t Rank:  104 \t Norm:  4.72E-01 \t Time:  79.481\n",
            "square of singular values: [0.886 0.11  0.004 0.   ]\n",
            "Epoch:  1 \t Rank:  2 \t Norm:  1.31E-12 \t Time:  0.497\n",
            "Epoch:  2 \t Rank:  4 \t Norm:  3.65E-04 \t Time:  0.541\n",
            "Epoch:  3 \t Rank:  8 \t Norm:  1.89E-02 \t Time:  0.58\n",
            "Epoch:  4 \t Rank:  16 \t Norm:  4.63E-02 \t Time:  1.329\n",
            "Epoch:  5 \t Rank:  24 \t Norm:  5.39E-02 \t Time:  2.288\n",
            "Epoch:  6 \t Rank:  26 \t Norm:  5.47E-02 \t Time:  3.508\n",
            "Epoch:  7 \t Rank:  27 \t Norm:  5.48E-02 \t Time:  3.78\n",
            "Epoch:  8 \t Rank:  26 \t Norm:  5.48E-02 \t Time:  3.718\n",
            "Epoch:  9 \t Rank:  25 \t Norm:  5.48E-02 \t Time:  3.611\n",
            "Epoch:  10 \t Rank:  25 \t Norm:  5.48E-02 \t Time:  3.439\n",
            "square of singular values: [0.866 0.126 0.007 0.001]\n",
            "Epoch:  1 \t Rank:  2 \t Norm:  6.50E-12 \t Time:  0.507\n",
            "Epoch:  2 \t Rank:  4 \t Norm:  7.76E-04 \t Time:  0.563\n",
            "Epoch:  3 \t Rank:  8 \t Norm:  3.88E-02 \t Time:  0.647\n",
            "Epoch:  4 \t Rank:  16 \t Norm:  5.64E-02 \t Time:  1.398\n",
            "Epoch:  5 \t Rank:  26 \t Norm:  5.84E-02 \t Time:  2.473\n",
            "Epoch:  6 \t Rank:  31 \t Norm:  5.87E-02 \t Time:  4.156\n",
            "Epoch:  7 \t Rank:  31 \t Norm:  5.88E-02 \t Time:  5.427\n",
            "Epoch:  8 \t Rank:  32 \t Norm:  5.89E-02 \t Time:  5.654\n",
            "Epoch:  9 \t Rank:  30 \t Norm:  5.89E-02 \t Time:  5.068\n",
            "Epoch:  10 \t Rank:  30 \t Norm:  5.90E-02 \t Time:  5.256\n",
            "square of singular values: [0.588 0.41  0.001 0.001]\n",
            "Epoch:  1 \t Rank:  2 \t Norm:  1.03E-10 \t Time:  0.48\n",
            "Epoch:  2 \t Rank:  4 \t Norm:  1.08E-07 \t Time:  0.519\n",
            "Epoch:  3 \t Rank:  8 \t Norm:  3.12E-07 \t Time:  0.578\n",
            "Epoch:  4 \t Rank:  17 \t Norm:  4.59E-07 \t Time:  1.436\n",
            "Epoch:  5 \t Rank:  36 \t Norm:  5.49E-07 \t Time:  3.883\n",
            "Epoch:  6 \t Rank:  75 \t Norm:  6.06E-07 \t Time:  17.087\n",
            "Epoch:  7 \t Rank:  153 \t Norm:  6.43E-07 \t Time:  91.529\n",
            "Epoch:  8 \t Rank:  299 \t Norm:  6.69E-07 \t Time:  425.577\n",
            "Epoch:  9 \t Rank:  455 \t Norm:  6.89E-07 \t Time:  948.198\n",
            "Epoch:  10 \t Rank:  491 \t Norm:  7.04E-07 \t Time:  942.873\n",
            "square of singular values: [0.766 0.221 0.01  0.003]\n",
            "Epoch:  1 \t Rank:  2 \t Norm:  2.12E-12 \t Time:  0.489\n",
            "Epoch:  2 \t Rank:  4 \t Norm:  2.10E-06 \t Time:  0.564\n",
            "Epoch:  3 \t Rank:  8 \t Norm:  1.58E-05 \t Time:  0.656\n",
            "Epoch:  4 \t Rank:  17 \t Norm:  2.55E-05 \t Time:  1.474\n",
            "Epoch:  5 \t Rank:  33 \t Norm:  3.47E-05 \t Time:  3.49\n",
            "Epoch:  6 \t Rank:  44 \t Norm:  3.93E-05 \t Time:  7.572\n",
            "Epoch:  7 \t Rank:  49 \t Norm:  4.07E-05 \t Time:  11.331\n",
            "Epoch:  8 \t Rank:  51 \t Norm:  4.10E-05 \t Time:  13.598\n",
            "Epoch:  9 \t Rank:  53 \t Norm:  4.12E-05 \t Time:  15.088\n",
            "Epoch:  10 \t Rank:  56 \t Norm:  4.13E-05 \t Time:  16.892\n",
            "square of singular values: [0.837 0.162 0.001 0.   ]\n",
            "Epoch:  1 \t Rank:  2 \t Norm:  4.54E-17 \t Time:  0.519\n",
            "Epoch:  2 \t Rank:  4 \t Norm:  8.01E-08 \t Time:  0.514\n",
            "Epoch:  3 \t Rank:  8 \t Norm:  1.12E-07 \t Time:  0.578\n",
            "Epoch:  4 \t Rank:  11 \t Norm:  1.20E-07 \t Time:  1.151\n",
            "Epoch:  5 \t Rank:  11 \t Norm:  1.24E-07 \t Time:  1.298\n",
            "Epoch:  6 \t Rank:  11 \t Norm:  1.26E-07 \t Time:  1.276\n",
            "Epoch:  7 \t Rank:  11 \t Norm:  1.27E-07 \t Time:  1.355\n",
            "Epoch:  8 \t Rank:  11 \t Norm:  1.27E-07 \t Time:  1.305\n",
            "Epoch:  9 \t Rank:  11 \t Norm:  1.27E-07 \t Time:  1.374\n",
            "Epoch:  10 \t Rank:  11 \t Norm:  1.27E-07 \t Time:  1.333\n",
            "square of singular values: [0.901 0.069 0.027 0.002]\n",
            "Epoch:  1 \t Rank:  2 \t Norm:  5.69E-12 \t Time:  0.533\n",
            "Epoch:  2 \t Rank:  4 \t Norm:  2.42E-05 \t Time:  0.546\n",
            "Epoch:  3 \t Rank:  8 \t Norm:  7.94E-03 \t Time:  0.701\n",
            "Epoch:  4 \t Rank:  16 \t Norm:  1.23E-02 \t Time:  1.435\n",
            "Epoch:  5 \t Rank:  20 \t Norm:  1.38E-02 \t Time:  2.125\n",
            "Epoch:  6 \t Rank:  19 \t Norm:  1.42E-02 \t Time:  2.387\n",
            "Epoch:  7 \t Rank:  21 \t Norm:  1.43E-02 \t Time:  2.465\n",
            "Epoch:  8 \t Rank:  21 \t Norm:  1.44E-02 \t Time:  2.657\n",
            "Epoch:  9 \t Rank:  20 \t Norm:  1.44E-02 \t Time:  2.565\n",
            "Epoch:  10 \t Rank:  20 \t Norm:  1.45E-02 \t Time:  2.455\n",
            "square of singular values: [0.85  0.111 0.034 0.004]\n",
            "Epoch:  1 \t Rank:  2 \t Norm:  3.46E-10 \t Time:  0.479\n",
            "Epoch:  2 \t Rank:  4 \t Norm:  8.79E-03 \t Time:  0.516\n",
            "Epoch:  3 \t Rank:  8 \t Norm:  1.34E-01 \t Time:  0.6\n",
            "Epoch:  4 \t Rank:  16 \t Norm:  2.95E-01 \t Time:  1.393\n",
            "Epoch:  5 \t Rank:  32 \t Norm:  4.82E-01 \t Time:  3.252\n",
            "Epoch:  6 \t Rank:  54 \t Norm:  6.92E-01 \t Time:  9.392\n",
            "Epoch:  7 \t Rank:  56 \t Norm:  8.40E-01 \t Time:  16.789\n",
            "Epoch:  8 \t Rank:  54 \t Norm:  9.07E-01 \t Time:  16.752\n",
            "Epoch:  9 \t Rank:  52 \t Norm:  9.31E-01 \t Time:  15.603\n",
            "Epoch:  10 \t Rank:  49 \t Norm:  9.38E-01 \t Time:  14.219\n",
            "square of singular values: [0.593 0.399 0.005 0.003]\n",
            "Epoch:  1 \t Rank:  2 \t Norm:  2.95E-12 \t Time:  0.482\n",
            "Epoch:  2 \t Rank:  4 \t Norm:  1.79E-08 \t Time:  0.547\n",
            "Epoch:  3 \t Rank:  9 \t Norm:  3.68E-07 \t Time:  0.669\n",
            "Epoch:  4 \t Rank:  18 \t Norm:  6.56E-07 \t Time:  1.583\n",
            "Epoch:  5 \t Rank:  37 \t Norm:  7.74E-07 \t Time:  4.237\n",
            "Epoch:  6 \t Rank:  74 \t Norm:  8.29E-07 \t Time:  19.361\n",
            "Epoch:  7 \t Rank:  109 \t Norm:  8.56E-07 \t Time:  52.221\n",
            "Epoch:  8 \t Rank:  128 \t Norm:  8.68E-07 \t Time:  104.727\n",
            "Epoch:  9 \t Rank:  140 \t Norm:  8.74E-07 \t Time:  158.906\n",
            "Epoch:  10 \t Rank:  147 \t Norm:  8.77E-07 \t Time:  186.03\n",
            "square of singular values: [0.662 0.331 0.004 0.002]\n",
            "Epoch:  1 \t Rank:  2 \t Norm:  8.79E-11 \t Time:  0.483\n",
            "Epoch:  2 \t Rank:  5 \t Norm:  8.61E-05 \t Time:  0.522\n",
            "Epoch:  3 \t Rank:  11 \t Norm:  7.48E-04 \t Time:  0.657\n",
            "Epoch:  4 \t Rank:  23 \t Norm:  1.30E-03 \t Time:  1.947\n",
            "Epoch:  5 \t Rank:  48 \t Norm:  1.62E-03 \t Time:  6.442\n",
            "Epoch:  6 \t Rank:  77 \t Norm:  1.83E-03 \t Time:  21.002\n",
            "Epoch:  7 \t Rank:  93 \t Norm:  1.97E-03 \t Time:  49.032\n",
            "Epoch:  8 \t Rank:  107 \t Norm:  2.07E-03 \t Time:  70.219\n",
            "Epoch:  9 \t Rank:  118 \t Norm:  2.13E-03 \t Time:  92.929\n",
            "Epoch:  10 \t Rank:  128 \t Norm:  2.18E-03 \t Time:  118.935\n",
            "square of singular values: [0.933 0.055 0.011 0.001]\n",
            "Epoch:  1 \t Rank:  2 \t Norm:  1.28E-11 \t Time:  0.468\n",
            "Epoch:  2 \t Rank:  4 \t Norm:  1.64E-02 \t Time:  0.517\n",
            "Epoch:  3 \t Rank:  8 \t Norm:  5.03E-02 \t Time:  0.586\n",
            "Epoch:  4 \t Rank:  14 \t Norm:  5.09E-02 \t Time:  1.197\n",
            "Epoch:  5 \t Rank:  15 \t Norm:  5.11E-02 \t Time:  1.576\n",
            "Epoch:  6 \t Rank:  15 \t Norm:  5.13E-02 \t Time:  1.586\n",
            "Epoch:  7 \t Rank:  15 \t Norm:  5.15E-02 \t Time:  1.618\n",
            "Epoch:  8 \t Rank:  15 \t Norm:  5.17E-02 \t Time:  1.595\n",
            "Epoch:  9 \t Rank:  15 \t Norm:  5.18E-02 \t Time:  1.624\n",
            "Epoch:  10 \t Rank:  15 \t Norm:  5.19E-02 \t Time:  1.551\n",
            "square of singular values: [0.546 0.396 0.034 0.025]\n",
            "Epoch:  1 \t Rank:  2 \t Norm:  2.28E-15 \t Time:  0.492\n",
            "Epoch:  2 \t Rank:  4 \t Norm:  5.42E-14 \t Time:  0.515\n",
            "Epoch:  3 \t Rank:  8 \t Norm:  1.55E-12 \t Time:  0.578\n",
            "Epoch:  4 \t Rank:  16 \t Norm:  1.55E-11 \t Time:  1.328\n",
            "Epoch:  5 \t Rank:  33 \t Norm:  2.72E-11 \t Time:  3.326\n",
            "Epoch:  6 \t Rank:  68 \t Norm:  2.83E-11 \t Time:  13.762\n",
            "Epoch:  7 \t Rank:  138 \t Norm:  2.84E-11 \t Time:  68.437\n",
            "Epoch:  8 \t Rank:  183 \t Norm:  2.84E-11 \t Time:  226.401\n",
            "Epoch:  9 \t Rank:  172 \t Norm:  2.84E-11 \t Time:  341.5\n",
            "Epoch:  10 \t Rank:  163 \t Norm:  2.85E-11 \t Time:  293.294\n",
            "square of singular values: [0.738 0.237 0.018 0.006]\n",
            "Epoch:  1 \t Rank:  2 \t Norm:  8.34E-12 \t Time:  0.481\n",
            "Epoch:  2 \t Rank:  4 \t Norm:  8.23E-05 \t Time:  0.481\n",
            "Epoch:  3 \t Rank:  8 \t Norm:  7.87E-04 \t Time:  0.585\n",
            "Epoch:  4 \t Rank:  16 \t Norm:  1.31E-03 \t Time:  1.304\n",
            "Epoch:  5 \t Rank:  32 \t Norm:  1.58E-03 \t Time:  3.177\n",
            "Epoch:  6 \t Rank:  66 \t Norm:  1.74E-03 \t Time:  12.542\n",
            "Epoch:  7 \t Rank:  95 \t Norm:  1.84E-03 \t Time:  41.651\n",
            "Epoch:  8 \t Rank:  109 \t Norm:  1.91E-03 \t Time:  74.846\n",
            "Epoch:  9 \t Rank:  121 \t Norm:  1.97E-03 \t Time:  101.035\n",
            "Epoch:  10 \t Rank:  130 \t Norm:  2.00E-03 \t Time:  128.607\n",
            "square of singular values: [0.841 0.15  0.008 0.001]\n",
            "Epoch:  1 \t Rank:  3 \t Norm:  1.28E-13 \t Time:  0.559\n",
            "Epoch:  2 \t Rank:  7 \t Norm:  2.04E-04 \t Time:  0.626\n",
            "Epoch:  3 \t Rank:  13 \t Norm:  3.27E-04 \t Time:  1.158\n",
            "Epoch:  4 \t Rank:  19 \t Norm:  3.57E-04 \t Time:  1.874\n",
            "Epoch:  5 \t Rank:  21 \t Norm:  1.42E-03 \t Time:  2.275\n",
            "Epoch:  6 \t Rank:  17 \t Norm:  3.41E-03 \t Time:  2.202\n",
            "Epoch:  7 \t Rank:  18 \t Norm:  3.49E-03 \t Time:  1.934\n",
            "Epoch:  8 \t Rank:  17 \t Norm:  3.49E-03 \t Time:  1.899\n",
            "Epoch:  9 \t Rank:  16 \t Norm:  3.49E-03 \t Time:  1.787\n",
            "Epoch:  10 \t Rank:  15 \t Norm:  3.49E-03 \t Time:  1.675\n",
            "square of singular values: [0.751 0.236 0.01  0.003]\n",
            "Epoch:  1 \t Rank:  2 \t Norm:  4.77E-10 \t Time:  0.498\n",
            "Epoch:  2 \t Rank:  4 \t Norm:  6.97E-04 \t Time:  0.515\n",
            "Epoch:  3 \t Rank:  9 \t Norm:  4.11E-03 \t Time:  0.63\n",
            "Epoch:  4 \t Rank:  18 \t Norm:  6.52E-03 \t Time:  1.51\n",
            "Epoch:  5 \t Rank:  37 \t Norm:  8.12E-03 \t Time:  4.047\n",
            "Epoch:  6 \t Rank:  63 \t Norm:  9.09E-03 \t Time:  12.708\n",
            "Epoch:  7 \t Rank:  74 \t Norm:  9.67E-03 \t Time:  26.847\n",
            "Epoch:  8 \t Rank:  81 \t Norm:  1.00E-02 \t Time:  40.009\n",
            "Epoch:  9 \t Rank:  88 \t Norm:  1.03E-02 \t Time:  47.909\n",
            "Epoch:  10 \t Rank:  94 \t Norm:  1.04E-02 \t Time:  58.41\n",
            "square of singular values: [0.716 0.283 0.001 0.   ]\n",
            "Epoch:  1 \t Rank:  2 \t Norm:  1.82E-11 \t Time:  0.501\n",
            "Epoch:  2 \t Rank:  5 \t Norm:  1.27E-08 \t Time:  0.581\n",
            "Epoch:  3 \t Rank:  11 \t Norm:  1.67E-05 \t Time:  0.723\n",
            "Epoch:  4 \t Rank:  22 \t Norm:  1.22E-04 \t Time:  2.105\n",
            "Epoch:  5 \t Rank:  45 \t Norm:  1.46E-04 \t Time:  6.226\n",
            "Epoch:  6 \t Rank:  69 \t Norm:  1.48E-04 \t Time:  17.462\n",
            "Epoch:  7 \t Rank:  69 \t Norm:  1.48E-04 \t Time:  29.685\n",
            "Epoch:  8 \t Rank:  60 \t Norm:  1.48E-04 \t Time:  25.223\n",
            "Epoch:  9 \t Rank:  56 \t Norm:  1.48E-04 \t Time:  19.713\n",
            "Epoch:  10 \t Rank:  54 \t Norm:  1.48E-04 \t Time:  16.884\n",
            "square of singular values: [0.789 0.204 0.005 0.001]\n",
            "Epoch:  1 \t Rank:  2 \t Norm:  9.18E-11 \t Time:  0.522\n",
            "Epoch:  2 \t Rank:  4 \t Norm:  8.40E-05 \t Time:  0.526\n",
            "Epoch:  3 \t Rank:  8 \t Norm:  1.38E-03 \t Time:  0.634\n",
            "Epoch:  4 \t Rank:  16 \t Norm:  3.24E-03 \t Time:  1.486\n",
            "Epoch:  5 \t Rank:  32 \t Norm:  4.87E-03 \t Time:  3.455\n",
            "Epoch:  6 \t Rank:  64 \t Norm:  6.27E-03 \t Time:  11.538\n",
            "Epoch:  7 \t Rank:  78 \t Norm:  7.44E-03 \t Time:  29.778\n",
            "Epoch:  8 \t Rank:  84 \t Norm:  8.27E-03 \t Time:  45.444\n",
            "Epoch:  9 \t Rank:  87 \t Norm:  8.75E-03 \t Time:  48.822\n",
            "Epoch:  10 \t Rank:  89 \t Norm:  8.99E-03 \t Time:  52.254\n",
            "square of singular values: [0.901 0.098 0.001 0.   ]\n",
            "Epoch:  1 \t Rank:  2 \t Norm:  2.13E-13 \t Time:  0.472\n",
            "Epoch:  2 \t Rank:  4 \t Norm:  1.05E-03 \t Time:  0.473\n",
            "Epoch:  3 \t Rank:  8 \t Norm:  1.60E-03 \t Time:  0.564\n",
            "Epoch:  4 \t Rank:  11 \t Norm:  1.61E-03 \t Time:  1.062\n",
            "Epoch:  5 \t Rank:  11 \t Norm:  1.61E-03 \t Time:  1.159\n",
            "Epoch:  6 \t Rank:  11 \t Norm:  1.61E-03 \t Time:  1.152\n",
            "Epoch:  7 \t Rank:  11 \t Norm:  1.61E-03 \t Time:  1.171\n",
            "Epoch:  8 \t Rank:  11 \t Norm:  1.61E-03 \t Time:  1.2\n",
            "Epoch:  9 \t Rank:  11 \t Norm:  1.61E-03 \t Time:  1.185\n",
            "Epoch:  10 \t Rank:  11 \t Norm:  1.62E-03 \t Time:  1.187\n",
            "square of singular values: [0.884 0.109 0.006 0.001]\n",
            "Epoch:  1 \t Rank:  2 \t Norm:  3.41E-13 \t Time:  0.516\n",
            "Epoch:  2 \t Rank:  4 \t Norm:  1.35E-04 \t Time:  0.559\n",
            "Epoch:  3 \t Rank:  8 \t Norm:  1.42E-02 \t Time:  0.601\n",
            "Epoch:  4 \t Rank:  16 \t Norm:  2.52E-02 \t Time:  1.399\n",
            "Epoch:  5 \t Rank:  22 \t Norm:  2.62E-02 \t Time:  2.106\n",
            "Epoch:  6 \t Rank:  23 \t Norm:  2.62E-02 \t Time:  2.834\n",
            "Epoch:  7 \t Rank:  23 \t Norm:  2.62E-02 \t Time:  2.963\n",
            "Epoch:  8 \t Rank:  24 \t Norm:  2.63E-02 \t Time:  3.011\n",
            "Epoch:  9 \t Rank:  24 \t Norm:  2.63E-02 \t Time:  3.065\n",
            "Epoch:  10 \t Rank:  24 \t Norm:  2.63E-02 \t Time:  3.023\n",
            "square of singular values: [0.854 0.088 0.052 0.005]\n",
            "Epoch:  1 \t Rank:  2 \t Norm:  2.64E-11 \t Time:  0.482\n",
            "Epoch:  2 \t Rank:  4 \t Norm:  1.74E-02 \t Time:  0.507\n",
            "Epoch:  3 \t Rank:  8 \t Norm:  2.36E-01 \t Time:  0.592\n",
            "Epoch:  4 \t Rank:  16 \t Norm:  4.72E-01 \t Time:  1.432\n",
            "Epoch:  5 \t Rank:  32 \t Norm:  6.45E-01 \t Time:  3.19\n",
            "Epoch:  6 \t Rank:  60 \t Norm:  7.65E-01 \t Time:  10.716\n",
            "Epoch:  7 \t Rank:  73 \t Norm:  8.42E-01 \t Time:  25.147\n",
            "Epoch:  8 \t Rank:  75 \t Norm:  8.86E-01 \t Time:  35.921\n",
            "Epoch:  9 \t Rank:  75 \t Norm:  9.11E-01 \t Time:  37.084\n",
            "Epoch:  10 \t Rank:  75 \t Norm:  9.24E-01 \t Time:  37.015\n",
            "square of singular values: [0.909 0.088 0.003 0.   ]\n",
            "Epoch:  1 \t Rank:  2 \t Norm:  1.18E-10 \t Time:  0.487\n",
            "Epoch:  2 \t Rank:  4 \t Norm:  5.79E-04 \t Time:  0.525\n",
            "Epoch:  3 \t Rank:  8 \t Norm:  7.43E-02 \t Time:  0.68\n",
            "Epoch:  4 \t Rank:  16 \t Norm:  8.96E-02 \t Time:  1.453\n",
            "Epoch:  5 \t Rank:  18 \t Norm:  9.37E-02 \t Time:  1.92\n",
            "Epoch:  6 \t Rank:  23 \t Norm:  9.72E-02 \t Time:  2.415\n",
            "Epoch:  7 \t Rank:  21 \t Norm:  1.00E-01 \t Time:  2.701\n",
            "Epoch:  8 \t Rank:  21 \t Norm:  1.02E-01 \t Time:  2.539\n",
            "Epoch:  9 \t Rank:  22 \t Norm:  1.03E-01 \t Time:  2.495\n",
            "Epoch:  10 \t Rank:  23 \t Norm:  1.04E-01 \t Time:  2.711\n",
            "square of singular values: [0.77  0.225 0.004 0.001]\n",
            "Epoch:  1 \t Rank:  2 \t Norm:  2.30E-09 \t Time:  0.496\n",
            "Epoch:  2 \t Rank:  5 \t Norm:  4.34E-05 \t Time:  0.525\n",
            "Epoch:  3 \t Rank:  10 \t Norm:  1.49E-03 \t Time:  0.646\n",
            "Epoch:  4 \t Rank:  20 \t Norm:  5.24E-03 \t Time:  1.743\n",
            "Epoch:  5 \t Rank:  41 \t Norm:  7.66E-03 \t Time:  4.777\n",
            "Epoch:  6 \t Rank:  67 \t Norm:  8.33E-03 \t Time:  16.271\n",
            "Epoch:  7 \t Rank:  66 \t Norm:  8.47E-03 \t Time:  26.76\n",
            "Epoch:  8 \t Rank:  60 \t Norm:  8.49E-03 \t Time:  23.336\n",
            "Epoch:  9 \t Rank:  57 \t Norm:  8.50E-03 \t Time:  19.497\n",
            "Epoch:  10 \t Rank:  56 \t Norm:  8.50E-03 \t Time:  17.854\n",
            "square of singular values: [0.828 0.148 0.02  0.004]\n",
            "Epoch:  1 \t Rank:  2 \t Norm:  1.11E-09 \t Time:  0.499\n",
            "Epoch:  2 \t Rank:  4 \t Norm:  5.77E-03 \t Time:  0.49\n",
            "Epoch:  3 \t Rank:  8 \t Norm:  7.01E-02 \t Time:  0.621\n",
            "Epoch:  4 \t Rank:  16 \t Norm:  1.17E-01 \t Time:  1.39\n",
            "Epoch:  5 \t Rank:  32 \t Norm:  1.45E-01 \t Time:  3.451\n",
            "Epoch:  6 \t Rank:  63 \t Norm:  1.64E-01 \t Time:  11.312\n",
            "Epoch:  7 \t Rank:  82 \t Norm:  1.77E-01 \t Time:  30.283\n",
            "Epoch:  8 \t Rank:  89 \t Norm:  1.86E-01 \t Time:  47.789\n",
            "Epoch:  9 \t Rank:  95 \t Norm:  1.92E-01 \t Time:  57.312\n",
            "Epoch:  10 \t Rank:  98 \t Norm:  1.96E-01 \t Time:  68.094\n",
            "square of singular values: [0.92  0.078 0.002 0.   ]\n",
            "Epoch:  1 \t Rank:  2 \t Norm:  1.67E-14 \t Time:  0.48\n",
            "Epoch:  2 \t Rank:  4 \t Norm:  7.04E-06 \t Time:  0.495\n",
            "Epoch:  3 \t Rank:  9 \t Norm:  1.37E-05 \t Time:  0.649\n",
            "Epoch:  4 \t Rank:  13 \t Norm:  1.43E-05 \t Time:  1.251\n",
            "Epoch:  5 \t Rank:  14 \t Norm:  1.46E-05 \t Time:  1.409\n",
            "Epoch:  6 \t Rank:  13 \t Norm:  1.48E-05 \t Time:  1.416\n",
            "Epoch:  7 \t Rank:  13 \t Norm:  1.50E-05 \t Time:  1.499\n",
            "Epoch:  8 \t Rank:  13 \t Norm:  1.51E-05 \t Time:  1.366\n",
            "Epoch:  9 \t Rank:  13 \t Norm:  1.52E-05 \t Time:  1.407\n",
            "Epoch:  10 \t Rank:  14 \t Norm:  1.52E-05 \t Time:  1.414\n",
            "square of singular values: [0.798 0.199 0.002 0.001]\n",
            "Epoch:  1 \t Rank:  2 \t Norm:  3.15E-10 \t Time:  0.476\n",
            "Epoch:  2 \t Rank:  4 \t Norm:  1.30E-04 \t Time:  0.526\n",
            "Epoch:  3 \t Rank:  8 \t Norm:  2.04E-03 \t Time:  0.591\n",
            "Epoch:  4 \t Rank:  16 \t Norm:  4.25E-03 \t Time:  1.317\n",
            "Epoch:  5 \t Rank:  32 \t Norm:  5.14E-03 \t Time:  3.133\n",
            "Epoch:  6 \t Rank:  50 \t Norm:  5.39E-03 \t Time:  8.461\n",
            "Epoch:  7 \t Rank:  54 \t Norm:  5.45E-03 \t Time:  15.534\n",
            "Epoch:  8 \t Rank:  54 \t Norm:  5.47E-03 \t Time:  16.064\n",
            "Epoch:  9 \t Rank:  54 \t Norm:  5.48E-03 \t Time:  16.657\n",
            "Epoch:  10 \t Rank:  53 \t Norm:  5.48E-03 \t Time:  16.656\n",
            "square of singular values: [0.624 0.369 0.004 0.003]\n",
            "Epoch:  1 \t Rank:  2 \t Norm:  1.44E-11 \t Time:  0.52\n",
            "Epoch:  2 \t Rank:  4 \t Norm:  2.78E-09 \t Time:  0.54\n",
            "Epoch:  3 \t Rank:  8 \t Norm:  3.80E-08 \t Time:  0.653\n",
            "Epoch:  4 \t Rank:  17 \t Norm:  1.11E-07 \t Time:  1.455\n",
            "Epoch:  5 \t Rank:  36 \t Norm:  1.91E-07 \t Time:  3.894\n",
            "Epoch:  6 \t Rank:  75 \t Norm:  2.50E-07 \t Time:  17.437\n",
            "Epoch:  7 \t Rank:  151 \t Norm:  2.90E-07 \t Time:  89.637\n",
            "Epoch:  8 \t Rank:  218 \t Norm:  3.21E-07 \t Time:  321.398\n",
            "Epoch:  9 \t Rank:  251 \t Norm:  3.47E-07 \t Time:  669.784\n",
            "Epoch:  10 \t Rank:  264 \t Norm:  3.68E-07 \t Time:  892.975\n",
            "square of singular values: [0.592 0.398 0.006 0.004]\n",
            "Epoch:  1 \t Rank:  2 \t Norm:  2.49E-12 \t Time:  0.469\n",
            "Epoch:  2 \t Rank:  4 \t Norm:  2.62E-11 \t Time:  0.564\n",
            "Epoch:  3 \t Rank:  9 \t Norm:  5.02E-10 \t Time:  0.655\n",
            "Epoch:  4 \t Rank:  19 \t Norm:  2.09E-09 \t Time:  1.73\n",
            "Epoch:  5 \t Rank:  40 \t Norm:  3.78E-09 \t Time:  5.211\n",
            "Epoch:  6 \t Rank:  82 \t Norm:  4.72E-09 \t Time:  22.154\n",
            "Epoch:  7 \t Rank:  167 \t Norm:  5.20E-09 \t Time:  109.229\n",
            "Epoch:  8 \t Rank:  322 \t Norm:  5.46E-09 \t Time:  471.768\n",
            "Epoch:  9 \t Rank:  400 \t Norm:  5.61E-09 \t Time:  953.158\n",
            "Epoch:  10 \t Rank:  405 \t Norm:  5.69E-09 \t Time:  937.295\n",
            "square of singular values: [0.885 0.107 0.007 0.001]\n",
            "Epoch:  1 \t Rank:  2 \t Norm:  2.91E-11 \t Time:  0.497\n",
            "Epoch:  2 \t Rank:  4 \t Norm:  8.06E-04 \t Time:  0.515\n",
            "Epoch:  3 \t Rank:  8 \t Norm:  5.43E-02 \t Time:  0.577\n",
            "Epoch:  4 \t Rank:  16 \t Norm:  5.81E-02 \t Time:  1.292\n",
            "Epoch:  5 \t Rank:  20 \t Norm:  5.82E-02 \t Time:  1.947\n",
            "Epoch:  6 \t Rank:  28 \t Norm:  5.82E-02 \t Time:  3.024\n",
            "Epoch:  7 \t Rank:  27 \t Norm:  5.82E-02 \t Time:  3.929\n",
            "Epoch:  8 \t Rank:  28 \t Norm:  5.82E-02 \t Time:  3.979\n",
            "Epoch:  9 \t Rank:  25 \t Norm:  5.82E-02 \t Time:  3.817\n",
            "Epoch:  10 \t Rank:  28 \t Norm:  5.82E-02 \t Time:  3.608\n",
            "square of singular values: [0.857 0.135 0.007 0.001]\n",
            "Epoch:  1 \t Rank:  2 \t Norm:  1.80E-11 \t Time:  0.496\n",
            "Epoch:  2 \t Rank:  4 \t Norm:  2.09E-04 \t Time:  0.507\n",
            "Epoch:  3 \t Rank:  8 \t Norm:  7.86E-03 \t Time:  0.582\n",
            "Epoch:  4 \t Rank:  17 \t Norm:  1.14E-02 \t Time:  1.43\n",
            "Epoch:  5 \t Rank:  31 \t Norm:  1.17E-02 \t Time:  3.243\n",
            "Epoch:  6 \t Rank:  32 \t Norm:  1.18E-02 \t Time:  5.183\n",
            "Epoch:  7 \t Rank:  33 \t Norm:  1.18E-02 \t Time:  5.461\n",
            "Epoch:  8 \t Rank:  31 \t Norm:  1.18E-02 \t Time:  5.435\n",
            "Epoch:  9 \t Rank:  31 \t Norm:  1.18E-02 \t Time:  5.128\n",
            "Epoch:  10 \t Rank:  31 \t Norm:  1.18E-02 \t Time:  5.079\n",
            "square of singular values: [0.746 0.254 0.    0.   ]\n",
            "Epoch:  1 \t Rank:  2 \t Norm:  1.09E-10 \t Time:  0.514\n",
            "Epoch:  2 \t Rank:  5 \t Norm:  2.21E-05 \t Time:  0.563\n",
            "Epoch:  3 \t Rank:  10 \t Norm:  9.90E-03 \t Time:  0.652\n",
            "Epoch:  4 \t Rank:  16 \t Norm:  1.08E-01 \t Time:  1.374\n",
            "Epoch:  5 \t Rank:  18 \t Norm:  1.33E-01 \t Time:  1.871\n",
            "Epoch:  6 \t Rank:  17 \t Norm:  1.40E-01 \t Time:  1.96\n",
            "Epoch:  7 \t Rank:  16 \t Norm:  1.41E-01 \t Time:  1.82\n",
            "Epoch:  8 \t Rank:  15 \t Norm:  1.41E-01 \t Time:  1.62\n",
            "Epoch:  9 \t Rank:  15 \t Norm:  1.41E-01 \t Time:  1.608\n",
            "Epoch:  10 \t Rank:  13 \t Norm:  1.41E-01 \t Time:  1.458\n",
            "square of singular values: [0.96  0.039 0.001 0.   ]\n",
            "Epoch:  1 \t Rank:  2 \t Norm:  4.74E-14 \t Time:  0.502\n",
            "Epoch:  2 \t Rank:  4 \t Norm:  3.78E-02 \t Time:  0.479\n",
            "Epoch:  3 \t Rank:  8 \t Norm:  5.83E-02 \t Time:  0.576\n",
            "Epoch:  4 \t Rank:  10 \t Norm:  5.84E-02 \t Time:  1.036\n",
            "Epoch:  5 \t Rank:  10 \t Norm:  5.84E-02 \t Time:  1.139\n",
            "Epoch:  6 \t Rank:  10 \t Norm:  5.85E-02 \t Time:  1.126\n",
            "Epoch:  7 \t Rank:  10 \t Norm:  5.85E-02 \t Time:  1.144\n",
            "Epoch:  8 \t Rank:  10 \t Norm:  5.85E-02 \t Time:  1.155\n",
            "Epoch:  9 \t Rank:  10 \t Norm:  5.86E-02 \t Time:  1.107\n",
            "Epoch:  10 \t Rank:  10 \t Norm:  5.86E-02 \t Time:  1.196\n",
            "square of singular values: [0.759 0.218 0.018 0.005]\n",
            "Epoch:  1 \t Rank:  2 \t Norm:  6.47E-10 \t Time:  0.515\n",
            "Epoch:  2 \t Rank:  4 \t Norm:  3.27E-03 \t Time:  0.515\n",
            "Epoch:  3 \t Rank:  8 \t Norm:  3.32E-02 \t Time:  0.625\n",
            "Epoch:  4 \t Rank:  16 \t Norm:  5.57E-02 \t Time:  1.364\n",
            "Epoch:  5 \t Rank:  32 \t Norm:  6.67E-02 \t Time:  3.095\n",
            "Epoch:  6 \t Rank:  60 \t Norm:  7.26E-02 \t Time:  10.473\n",
            "Epoch:  7 \t Rank:  74 \t Norm:  7.64E-02 \t Time:  25.668\n",
            "Epoch:  8 \t Rank:  81 \t Norm:  7.96E-02 \t Time:  38.005\n",
            "Epoch:  9 \t Rank:  85 \t Norm:  8.26E-02 \t Time:  44.62\n",
            "Epoch:  10 \t Rank:  88 \t Norm:  8.55E-02 \t Time:  48.352\n",
            "square of singular values: [0.844 0.132 0.021 0.003]\n",
            "Epoch:  1 \t Rank:  2 \t Norm:  4.86E-13 \t Time:  0.471\n",
            "Epoch:  2 \t Rank:  4 \t Norm:  1.04E-05 \t Time:  0.483\n",
            "Epoch:  3 \t Rank:  8 \t Norm:  2.05E-04 \t Time:  0.578\n",
            "Epoch:  4 \t Rank:  16 \t Norm:  2.20E-04 \t Time:  1.276\n",
            "Epoch:  5 \t Rank:  27 \t Norm:  2.21E-04 \t Time:  2.526\n",
            "Epoch:  6 \t Rank:  31 \t Norm:  2.21E-04 \t Time:  4.197\n",
            "Epoch:  7 \t Rank:  30 \t Norm:  2.21E-04 \t Time:  4.819\n",
            "Epoch:  8 \t Rank:  30 \t Norm:  2.21E-04 \t Time:  4.493\n",
            "Epoch:  9 \t Rank:  31 \t Norm:  2.21E-04 \t Time:  4.536\n",
            "Epoch:  10 \t Rank:  30 \t Norm:  2.21E-04 \t Time:  4.626\n",
            "square of singular values: [0.721 0.261 0.013 0.005]\n",
            "Epoch:  1 \t Rank:  2 \t Norm:  1.38E-12 \t Time:  0.487\n",
            "Epoch:  2 \t Rank:  4 \t Norm:  1.39E-07 \t Time:  0.506\n",
            "Epoch:  3 \t Rank:  8 \t Norm:  1.69E-05 \t Time:  0.572\n",
            "Epoch:  4 \t Rank:  16 \t Norm:  5.03E-05 \t Time:  1.31\n",
            "Epoch:  5 \t Rank:  33 \t Norm:  6.06E-05 \t Time:  3.152\n",
            "Epoch:  6 \t Rank:  66 \t Norm:  6.24E-05 \t Time:  12.238\n",
            "Epoch:  7 \t Rank:  73 \t Norm:  6.28E-05 \t Time:  27.242\n",
            "Epoch:  8 \t Rank:  71 \t Norm:  6.29E-05 \t Time:  32.477\n",
            "Epoch:  9 \t Rank:  69 \t Norm:  6.30E-05 \t Time:  30.736\n",
            "Epoch:  10 \t Rank:  66 \t Norm:  6.30E-05 \t Time:  27.974\n",
            "square of singular values: [0.862 0.118 0.018 0.002]\n",
            "Epoch:  1 \t Rank:  3 \t Norm:  1.35E-13 \t Time:  0.501\n",
            "Epoch:  2 \t Rank:  6 \t Norm:  2.35E-06 \t Time:  0.547\n",
            "Epoch:  3 \t Rank:  12 \t Norm:  2.28E-04 \t Time:  1.108\n",
            "Epoch:  4 \t Rank:  23 \t Norm:  2.64E-04 \t Time:  2.016\n",
            "Epoch:  5 \t Rank:  25 \t Norm:  2.67E-04 \t Time:  3.132\n",
            "Epoch:  6 \t Rank:  26 \t Norm:  2.68E-04 \t Time:  3.513\n",
            "Epoch:  7 \t Rank:  27 \t Norm:  2.68E-04 \t Time:  3.666\n",
            "Epoch:  8 \t Rank:  27 \t Norm:  2.69E-04 \t Time:  3.837\n",
            "Epoch:  9 \t Rank:  27 \t Norm:  2.69E-04 \t Time:  3.795\n",
            "Epoch:  10 \t Rank:  27 \t Norm:  2.69E-04 \t Time:  3.807\n",
            "square of singular values: [0.86  0.11  0.026 0.003]\n",
            "Epoch:  1 \t Rank:  2 \t Norm:  2.46E-10 \t Time:  0.487\n",
            "Epoch:  2 \t Rank:  4 \t Norm:  7.80E-04 \t Time:  0.528\n",
            "Epoch:  3 \t Rank:  8 \t Norm:  1.37E-01 \t Time:  0.584\n",
            "Epoch:  4 \t Rank:  16 \t Norm:  4.33E-01 \t Time:  1.307\n",
            "Epoch:  5 \t Rank:  32 \t Norm:  5.20E-01 \t Time:  3.14\n",
            "Epoch:  6 \t Rank:  40 \t Norm:  5.37E-01 \t Time:  6.514\n",
            "Epoch:  7 \t Rank:  39 \t Norm:  5.41E-01 \t Time:  8.189\n",
            "Epoch:  8 \t Rank:  38 \t Norm:  5.43E-01 \t Time:  7.83\n",
            "Epoch:  9 \t Rank:  35 \t Norm:  5.44E-01 \t Time:  7.101\n",
            "Epoch:  10 \t Rank:  34 \t Norm:  5.44E-01 \t Time:  6.472\n",
            "square of singular values: [0.914 0.081 0.005 0.   ]\n",
            "Epoch:  1 \t Rank:  3 \t Norm:  9.65E-12 \t Time:  0.51\n",
            "Epoch:  2 \t Rank:  6 \t Norm:  8.61E-04 \t Time:  0.546\n",
            "Epoch:  3 \t Rank:  12 \t Norm:  2.70E-01 \t Time:  1.057\n",
            "Epoch:  4 \t Rank:  22 \t Norm:  6.17E-01 \t Time:  1.818\n",
            "Epoch:  5 \t Rank:  20 \t Norm:  6.51E-01 \t Time:  2.505\n",
            "Epoch:  6 \t Rank:  19 \t Norm:  6.68E-01 \t Time:  2.195\n",
            "Epoch:  7 \t Rank:  17 \t Norm:  6.84E-01 \t Time:  1.946\n",
            "Epoch:  8 \t Rank:  16 \t Norm:  6.99E-01 \t Time:  1.798\n",
            "Epoch:  9 \t Rank:  16 \t Norm:  7.11E-01 \t Time:  1.717\n",
            "Epoch:  10 \t Rank:  15 \t Norm:  7.20E-01 \t Time:  1.585\n",
            "square of singular values: [0.752 0.243 0.004 0.001]\n",
            "Epoch:  1 \t Rank:  2 \t Norm:  1.89E-11 \t Time:  0.492\n",
            "Epoch:  2 \t Rank:  4 \t Norm:  1.66E-06 \t Time:  0.502\n",
            "Epoch:  3 \t Rank:  8 \t Norm:  4.18E-05 \t Time:  0.572\n",
            "Epoch:  4 \t Rank:  16 \t Norm:  6.55E-05 \t Time:  1.343\n",
            "Epoch:  5 \t Rank:  33 \t Norm:  6.98E-05 \t Time:  3.277\n",
            "Epoch:  6 \t Rank:  51 \t Norm:  7.06E-05 \t Time:  8.85\n",
            "Epoch:  7 \t Rank:  56 \t Norm:  7.08E-05 \t Time:  15.44\n",
            "Epoch:  8 \t Rank:  58 \t Norm:  7.09E-05 \t Time:  18.062\n",
            "Epoch:  9 \t Rank:  61 \t Norm:  7.09E-05 \t Time:  19.767\n",
            "Epoch:  10 \t Rank:  62 \t Norm:  7.09E-05 \t Time:  21.636\n",
            "square of singular values: [0.832 0.116 0.045 0.006]\n",
            "Epoch:  1 \t Rank:  2 \t Norm:  7.87E-10 \t Time:  0.514\n",
            "Epoch:  2 \t Rank:  4 \t Norm:  1.51E-03 \t Time:  0.559\n",
            "Epoch:  3 \t Rank:  8 \t Norm:  2.82E-02 \t Time:  0.607\n",
            "Epoch:  4 \t Rank:  16 \t Norm:  7.91E-02 \t Time:  1.402\n",
            "Epoch:  5 \t Rank:  32 \t Norm:  1.38E-01 \t Time:  3.221\n",
            "Epoch:  6 \t Rank:  63 \t Norm:  1.91E-01 \t Time:  14.345\n",
            "Epoch:  7 \t Rank:  84 \t Norm:  2.31E-01 \t Time:  32.419\n",
            "Epoch:  8 \t Rank:  87 \t Norm:  2.58E-01 \t Time:  48.048\n",
            "Epoch:  9 \t Rank:  88 \t Norm:  2.75E-01 \t Time:  50.801\n",
            "Epoch:  10 \t Rank:  88 \t Norm:  2.84E-01 \t Time:  51.638\n",
            "square of singular values: [0.708 0.292 0.    0.   ]\n",
            "Epoch:  1 \t Rank:  2 \t Norm:  2.09E-13 \t Time:  0.504\n",
            "Epoch:  2 \t Rank:  4 \t Norm:  1.44E-01 \t Time:  0.506\n",
            "Epoch:  3 \t Rank:  8 \t Norm:  2.42E-01 \t Time:  0.595\n",
            "Epoch:  4 \t Rank:  11 \t Norm:  2.43E-01 \t Time:  1.076\n",
            "Epoch:  5 \t Rank:  10 \t Norm:  2.43E-01 \t Time:  1.155\n",
            "Epoch:  6 \t Rank:  10 \t Norm:  2.43E-01 \t Time:  1.078\n",
            "Epoch:  7 \t Rank:  10 \t Norm:  2.43E-01 \t Time:  1.082\n",
            "Epoch:  8 \t Rank:  10 \t Norm:  2.43E-01 \t Time:  1.115\n",
            "Epoch:  9 \t Rank:  9 \t Norm:  2.43E-01 \t Time:  1.058\n",
            "Epoch:  10 \t Rank:  9 \t Norm:  2.43E-01 \t Time:  1.028\n",
            "square of singular values: [0.915 0.074 0.01  0.001]\n",
            "Epoch:  1 \t Rank:  2 \t Norm:  3.92E-11 \t Time:  0.531\n",
            "Epoch:  2 \t Rank:  4 \t Norm:  1.81E-02 \t Time:  0.483\n",
            "Epoch:  3 \t Rank:  8 \t Norm:  3.66E-01 \t Time:  0.569\n",
            "Epoch:  4 \t Rank:  16 \t Norm:  4.20E-01 \t Time:  1.294\n",
            "Epoch:  5 \t Rank:  20 \t Norm:  4.24E-01 \t Time:  1.925\n",
            "Epoch:  6 \t Rank:  21 \t Norm:  4.26E-01 \t Time:  2.286\n",
            "Epoch:  7 \t Rank:  19 \t Norm:  4.27E-01 \t Time:  2.246\n",
            "Epoch:  8 \t Rank:  19 \t Norm:  4.27E-01 \t Time:  2.095\n",
            "Epoch:  9 \t Rank:  20 \t Norm:  4.28E-01 \t Time:  2.143\n",
            "Epoch:  10 \t Rank:  20 \t Norm:  4.28E-01 \t Time:  2.269\n",
            "square of singular values: [0.802 0.18  0.014 0.003]\n",
            "Epoch:  1 \t Rank:  2 \t Norm:  8.64E-12 \t Time:  0.479\n",
            "Epoch:  2 \t Rank:  4 \t Norm:  9.87E-06 \t Time:  0.489\n",
            "Epoch:  3 \t Rank:  8 \t Norm:  7.69E-05 \t Time:  0.575\n",
            "Epoch:  4 \t Rank:  16 \t Norm:  8.34E-05 \t Time:  1.285\n",
            "Epoch:  5 \t Rank:  27 \t Norm:  8.37E-05 \t Time:  2.604\n",
            "Epoch:  6 \t Rank:  31 \t Norm:  8.38E-05 \t Time:  4.305\n",
            "Epoch:  7 \t Rank:  31 \t Norm:  8.38E-05 \t Time:  5.15\n",
            "Epoch:  8 \t Rank:  32 \t Norm:  8.38E-05 \t Time:  5.023\n",
            "Epoch:  9 \t Rank:  31 \t Norm:  8.38E-05 \t Time:  5.231\n",
            "Epoch:  10 \t Rank:  31 \t Norm:  8.38E-05 \t Time:  4.848\n",
            "square of singular values: [0.76  0.211 0.022 0.006]\n",
            "Epoch:  1 \t Rank:  2 \t Norm:  8.81E-15 \t Time:  0.496\n",
            "Epoch:  2 \t Rank:  4 \t Norm:  4.19E-09 \t Time:  0.496\n",
            "Epoch:  3 \t Rank:  8 \t Norm:  5.36E-06 \t Time:  0.578\n",
            "Epoch:  4 \t Rank:  16 \t Norm:  1.63E-05 \t Time:  1.297\n",
            "Epoch:  5 \t Rank:  32 \t Norm:  1.90E-05 \t Time:  3.052\n",
            "Epoch:  6 \t Rank:  53 \t Norm:  1.94E-05 \t Time:  8.739\n",
            "Epoch:  7 \t Rank:  53 \t Norm:  1.95E-05 \t Time:  15.631\n",
            "Epoch:  8 \t Rank:  54 \t Norm:  1.95E-05 \t Time:  15.713\n",
            "Epoch:  9 \t Rank:  53 \t Norm:  1.95E-05 \t Time:  15.732\n",
            "Epoch:  10 \t Rank:  53 \t Norm:  1.95E-05 \t Time:  15.59\n",
            "square of singular values: [0.787 0.187 0.021 0.005]\n",
            "Epoch:  1 \t Rank:  2 \t Norm:  7.07E-12 \t Time:  0.462\n",
            "Epoch:  2 \t Rank:  4 \t Norm:  3.17E-04 \t Time:  0.501\n",
            "Epoch:  3 \t Rank:  8 \t Norm:  4.47E-03 \t Time:  0.583\n",
            "Epoch:  4 \t Rank:  17 \t Norm:  1.16E-02 \t Time:  1.374\n",
            "Epoch:  5 \t Rank:  35 \t Norm:  1.88E-02 \t Time:  3.899\n",
            "Epoch:  6 \t Rank:  72 \t Norm:  2.47E-02 \t Time:  15.268\n",
            "Epoch:  7 \t Rank:  132 \t Norm:  2.97E-02 \t Time:  65.349\n",
            "Epoch:  8 \t Rank:  157 \t Norm:  3.41E-02 \t Time:  179.724\n",
            "Epoch:  9 \t Rank:  165 \t Norm:  3.81E-02 \t Time:  254.148\n",
            "Epoch:  10 \t Rank:  167 \t Norm:  4.18E-02 \t Time:  276.487\n",
            "square of singular values: [0.742 0.235 0.018 0.006]\n",
            "Epoch:  1 \t Rank:  2 \t Norm:  6.70E-10 \t Time:  0.467\n",
            "Epoch:  2 \t Rank:  4 \t Norm:  1.50E-05 \t Time:  0.511\n",
            "Epoch:  3 \t Rank:  8 \t Norm:  1.90E-04 \t Time:  0.598\n",
            "Epoch:  4 \t Rank:  16 \t Norm:  4.38E-04 \t Time:  1.513\n",
            "Epoch:  5 \t Rank:  33 \t Norm:  6.77E-04 \t Time:  3.436\n",
            "Epoch:  6 \t Rank:  67 \t Norm:  8.94E-04 \t Time:  13.461\n",
            "Epoch:  7 \t Rank:  125 \t Norm:  1.08E-03 \t Time:  59.521\n",
            "Epoch:  8 \t Rank:  144 \t Norm:  1.22E-03 \t Time:  149.594\n",
            "Epoch:  9 \t Rank:  148 \t Norm:  1.31E-03 \t Time:  196.063\n",
            "Epoch:  10 \t Rank:  149 \t Norm:  1.38E-03 \t Time:  208.407\n",
            "square of singular values: [0.833 0.12  0.041 0.006]\n",
            "Epoch:  1 \t Rank:  2 \t Norm:  1.65E-09 \t Time:  0.47\n",
            "Epoch:  2 \t Rank:  4 \t Norm:  7.49E-03 \t Time:  0.478\n",
            "Epoch:  3 \t Rank:  8 \t Norm:  5.47E-02 \t Time:  0.585\n",
            "Epoch:  4 \t Rank:  16 \t Norm:  9.86E-02 \t Time:  1.298\n",
            "Epoch:  5 \t Rank:  33 \t Norm:  1.34E-01 \t Time:  3.322\n",
            "Epoch:  6 \t Rank:  66 \t Norm:  1.59E-01 \t Time:  13.066\n",
            "Epoch:  7 \t Rank:  84 \t Norm:  1.75E-01 \t Time:  34.484\n",
            "Epoch:  8 \t Rank:  85 \t Norm:  1.85E-01 \t Time:  49.721\n",
            "Epoch:  9 \t Rank:  85 \t Norm:  1.90E-01 \t Time:  47.74\n",
            "Epoch:  10 \t Rank:  85 \t Norm:  1.94E-01 \t Time:  47.678\n",
            "square of singular values: [0.917 0.054 0.027 0.002]\n",
            "Epoch:  1 \t Rank:  2 \t Norm:  2.42E-10 \t Time:  0.493\n",
            "Epoch:  2 \t Rank:  4 \t Norm:  6.80E-03 \t Time:  0.506\n",
            "Epoch:  3 \t Rank:  8 \t Norm:  3.95E-01 \t Time:  0.615\n",
            "Epoch:  4 \t Rank:  17 \t Norm:  4.47E-01 \t Time:  1.458\n",
            "Epoch:  5 \t Rank:  20 \t Norm:  4.49E-01 \t Time:  2.241\n",
            "Epoch:  6 \t Rank:  19 \t Norm:  4.50E-01 \t Time:  2.345\n",
            "Epoch:  7 \t Rank:  20 \t Norm:  4.50E-01 \t Time:  2.359\n",
            "Epoch:  8 \t Rank:  19 \t Norm:  4.50E-01 \t Time:  2.215\n",
            "Epoch:  9 \t Rank:  19 \t Norm:  4.50E-01 \t Time:  2.294\n",
            "Epoch:  10 \t Rank:  19 \t Norm:  4.50E-01 \t Time:  2.118\n",
            "square of singular values: [0.861 0.092 0.042 0.004]\n",
            "Epoch:  1 \t Rank:  2 \t Norm:  2.61E-10 \t Time:  0.475\n",
            "Epoch:  2 \t Rank:  4 \t Norm:  9.34E-03 \t Time:  0.556\n",
            "Epoch:  3 \t Rank:  8 \t Norm:  1.20E-01 \t Time:  0.645\n",
            "Epoch:  4 \t Rank:  16 \t Norm:  2.89E-01 \t Time:  1.4\n",
            "Epoch:  5 \t Rank:  32 \t Norm:  4.46E-01 \t Time:  3.078\n",
            "Epoch:  6 \t Rank:  61 \t Norm:  5.69E-01 \t Time:  11.185\n",
            "Epoch:  7 \t Rank:  73 \t Norm:  6.59E-01 \t Time:  25.169\n",
            "Epoch:  8 \t Rank:  75 \t Norm:  7.24E-01 \t Time:  35.282\n",
            "Epoch:  9 \t Rank:  78 \t Norm:  7.71E-01 \t Time:  37.389\n",
            "Epoch:  10 \t Rank:  78 \t Norm:  8.02E-01 \t Time:  40.058\n",
            "square of singular values: [0.777 0.209 0.011 0.003]\n",
            "Epoch:  1 \t Rank:  2 \t Norm:  1.65E-10 \t Time:  0.473\n",
            "Epoch:  2 \t Rank:  4 \t Norm:  5.58E-04 \t Time:  0.5\n",
            "Epoch:  3 \t Rank:  8 \t Norm:  4.34E-03 \t Time:  0.56\n",
            "Epoch:  4 \t Rank:  17 \t Norm:  7.84E-03 \t Time:  1.406\n",
            "Epoch:  5 \t Rank:  36 \t Norm:  1.06E-02 \t Time:  4.248\n",
            "Epoch:  6 \t Rank:  73 \t Norm:  1.28E-02 \t Time:  15.757\n",
            "Epoch:  7 \t Rank:  120 \t Norm:  1.45E-02 \t Time:  61.361\n",
            "Epoch:  8 \t Rank:  141 \t Norm:  1.58E-02 \t Time:  137.185\n",
            "Epoch:  9 \t Rank:  156 \t Norm:  1.69E-02 \t Time:  206.471\n",
            "Epoch:  10 \t Rank:  164 \t Norm:  1.77E-02 \t Time:  247.603\n",
            "square of singular values: [0.976 0.022 0.002 0.   ]\n",
            "Epoch:  1 \t Rank:  2 \t Norm:  6.45E-12 \t Time:  0.461\n",
            "Epoch:  2 \t Rank:  4 \t Norm:  1.03E-01 \t Time:  0.5\n",
            "Epoch:  3 \t Rank:  8 \t Norm:  7.77E-01 \t Time:  0.545\n",
            "Epoch:  4 \t Rank:  11 \t Norm:  7.81E-01 \t Time:  1.073\n",
            "Epoch:  5 \t Rank:  10 \t Norm:  7.81E-01 \t Time:  1.145\n",
            "Epoch:  6 \t Rank:  10 \t Norm:  7.82E-01 \t Time:  1.102\n",
            "Epoch:  7 \t Rank:  10 \t Norm:  7.82E-01 \t Time:  1.087\n",
            "Epoch:  8 \t Rank:  10 \t Norm:  7.82E-01 \t Time:  1.098\n",
            "Epoch:  9 \t Rank:  10 \t Norm:  7.83E-01 \t Time:  1.077\n",
            "Epoch:  10 \t Rank:  10 \t Norm:  7.83E-01 \t Time:  1.078\n"
          ]
        }
      ]
    },
    {
      "cell_type": "markdown",
      "metadata": {
        "id": "opCKud9JTFmo"
      },
      "source": [
        "### Plots"
      ]
    },
    {
      "cell_type": "code",
      "metadata": {
        "id": "Ax03FBdTFaRA",
        "colab": {
          "base_uri": "https://localhost:8080/",
          "height": 52
        },
        "outputId": "262acc84-e29c-420f-ba63-600b7fd18da2"
      },
      "source": [
        "#Loading Results\n",
        "\n",
        "sample_size = 100\n",
        "n_iter=10\n",
        "\n",
        "S_hist=np.zeros((sample_size,d*max_rank,n_iter))\n",
        "EE_hist=np.zeros((sample_size,n_iter))\n",
        "norm_hist=np.zeros((sample_size,n_iter))\n",
        "\n",
        "for i in range(sample_size):\n",
        "  S_hist[i]=load('S'+str(i))\n",
        "  EE_hist[i]=load('EE'+str(i))\n",
        "  norm_hist[i]=load('norm'+str(i))\n"
      ],
      "execution_count": null,
      "outputs": [
        {
          "output_type": "execute_result",
          "data": {
            "application/vnd.google.colaboratory.intrinsic+json": {
              "type": "string"
            },
            "text/plain": [
              "\"\\nsample_size = 24\\nn_iter=5\\n\\nS_hist=np.zeros((sample_size,d*max_rank,n_iter))\\nEE_hist=np.zeros((sample_size,n_iter))\\nnorm_hist=np.zeros((sample_size,n_iter))\\n\\nfor i in range(sample_size):\\n  S_hist[i]=load('S'+str(i))\\n  EE_hist[i]=load('EE'+str(i))\\n  norm_hist[i]=load('norm'+str(i))\\n\""
            ]
          },
          "metadata": {},
          "execution_count": 17
        }
      ]
    },
    {
      "cell_type": "code",
      "metadata": {
        "id": "T-uP8xgs8flG"
      },
      "source": [
        "x,y,z=S_hist[0,:3,1:]\n",
        "\n",
        "x=np.log2(x)\n",
        "y=np.log2(y)\n",
        "z=np.log2(z)"
      ],
      "execution_count": null,
      "outputs": []
    },
    {
      "cell_type": "code",
      "metadata": {
        "colab": {
          "base_uri": "https://localhost:8080/",
          "height": 411
        },
        "id": "npx9KDZ881jB",
        "outputId": "5e121970-25e5-4e03-d6e5-2b3d89224cf3"
      },
      "source": [
        "fig = plt.figure(figsize = (10, 7))\n",
        "ax = plt.axes(projection =\"3d\")\n",
        "\n",
        "ax.scatter3D(x, y, z, color = \"green\")\n",
        "ax.scatter3D(x[0], y[0], z[0], color = \"blue\",marker='s')\n",
        "#ax.scatter3D(np.log2(S[0]),np.log2(S[1]),np.log2(S[2]), color = \"r\")\n",
        "\n",
        "plt.show()"
      ],
      "execution_count": null,
      "outputs": [
        {
          "output_type": "display_data",
          "data": {
            "image/png": "[encoded data removed]",
            "text/plain": [
              "<Figure size 720x504 with 1 Axes>"
            ]
          },
          "metadata": {
            "needs_background": "light"
          }
        }
      ]
    },
    {
      "cell_type": "code",
      "metadata": {
        "colab": {
          "base_uri": "https://localhost:8080/",
          "height": 283
        },
        "id": "t634nuSG81yt",
        "outputId": "0f3530e6-089d-4ea1-da6b-7047ecf08816"
      },
      "source": [
        "plt.scatter(x[:],y[:],c='green')\n",
        "plt.scatter(x[0],y[0],marker='s')\n",
        "#plt.scatter(np.log2(S[0]),np.log2(S[1]),marker='*',c='r')"
      ],
      "execution_count": null,
      "outputs": [
        {
          "output_type": "execute_result",
          "data": {
            "text/plain": [
              "<matplotlib.collections.PathCollection at 0x7f4d17955690>"
            ]
          },
          "metadata": {},
          "execution_count": 20
        },
        {
          "output_type": "display_data",
          "data": {
            "image/png": "[encoded data removed]",
            "text/plain": [
              "<Figure size 432x288 with 1 Axes>"
            ]
          },
          "metadata": {
            "needs_background": "light"
          }
        }
      ]
    },
    {
      "cell_type": "code",
      "metadata": {
        "colab": {
          "base_uri": "https://localhost:8080/",
          "height": 285
        },
        "id": "Y7KmLtGM80MS",
        "outputId": "4574697d-b153-482f-d3c5-451721e7b40f"
      },
      "source": [
        "plt.title('(Schmidt coefficients)$^2$')\n",
        "plt.plot(np.arange(4),S_hist[0,:4,:6]**2)\n",
        "plt.show()"
      ],
      "execution_count": null,
      "outputs": [
        {
          "output_type": "display_data",
          "data": {
            "image/png": "[encoded data removed]",
            "text/plain": [
              "<Figure size 432x288 with 1 Axes>"
            ]
          },
          "metadata": {
            "needs_background": "light"
          }
        }
      ]
    },
    {
      "cell_type": "code",
      "metadata": {
        "colab": {
          "base_uri": "https://localhost:8080/",
          "height": 1000
        },
        "id": "HvXqb9q2_PeO",
        "outputId": "82eb73ec-36fe-4f2e-e69d-9a107ec92958"
      },
      "source": [
        "for i in range(5):\n",
        "  plt.semilogy(S_hist[:,:,i].T)\n",
        "  plt.title('Schmidt coefficients')\n",
        "  plt.ylim((1e-16,1))\n",
        "  #plt.legend(np.arange(6,12))\n",
        "  plt.show()"
      ],
      "execution_count": null,
      "outputs": [
        {
          "output_type": "display_data",
          "data": {
            "image/png": "[encoded data removed]",
            "text/plain": [
              "<Figure size 432x288 with 1 Axes>"
            ]
          },
          "metadata": {
            "needs_background": "light"
          }
        },
        {
          "output_type": "display_data",
          "data": {
            "image/png": "[encoded data removed]",
            "text/plain": [
              "<Figure size 432x288 with 1 Axes>"
            ]
          },
          "metadata": {
            "needs_background": "light"
          }
        },
        {
          "output_type": "display_data",
          "data": {
            "image/png": "[encoded data removed]",
            "text/plain": [
              "<Figure size 432x288 with 1 Axes>"
            ]
          },
          "metadata": {
            "needs_background": "light"
          }
        },
        {
          "output_type": "display_data",
          "data": {
            "image/png": "[encoded data removed]",
            "text/plain": [
              "<Figure size 432x288 with 1 Axes>"
            ]
          },
          "metadata": {
            "needs_background": "light"
          }
        },
        {
          "output_type": "display_data",
          "data": {
            "image/png": "[encoded data removed]",
            "text/plain": [
              "<Figure size 432x288 with 1 Axes>"
            ]
          },
          "metadata": {
            "needs_background": "light"
          }
        }
      ]
    },
    {
      "cell_type": "code",
      "metadata": {
        "colab": {
          "base_uri": "https://localhost:8080/",
          "height": 281
        },
        "id": "G_DFJaoUKGy9",
        "outputId": "4d7c5e46-9468-44f6-ef7a-61d578273f24"
      },
      "source": [
        "plt.semilogy(S_hist[13,:max_rank//4,:20])\n",
        "plt.title('Schmidt coefficients')\n",
        "plt.ylim((1e-16,1))\n",
        "#plt.legend(np.arange(6,12))\n",
        "plt.show()"
      ],
      "execution_count": null,
      "outputs": [
        {
          "output_type": "display_data",
          "data": {
            "image/png": "[encoded data removed]",
            "text/plain": [
              "<Figure size 432x288 with 1 Axes>"
            ]
          },
          "metadata": {
            "needs_background": "light"
          }
        }
      ]
    },
    {
      "cell_type": "code",
      "metadata": {
        "id": "O1h7YuCfGrdn"
      },
      "source": [
        "ER=np.count_nonzero(S_hist>1e-16, axis=1)"
      ],
      "execution_count": null,
      "outputs": []
    },
    {
      "cell_type": "code",
      "metadata": {
        "id": "DWQ14a1ApRtF"
      },
      "source": [
        "for i in range(sample_size):\n",
        "  plt.semilogy(ER[i].T)\n",
        "plt.title('Entanglement Rank')\n",
        "plt.show()"
      ],
      "execution_count": null,
      "outputs": []
    },
    {
      "cell_type": "code",
      "metadata": {
        "id": "7-2OI48A4UD7"
      },
      "source": [
        "for i in range(sample_size):\n",
        "  plt.plot(EE_hist[i].T)\n",
        "  #plt.plot(np.log2(ER[i].T),'k-')\n",
        "  #plt.hlines(EE,0,len(EE_hist)-1,colors='r',linestyles='dashed')\n",
        "  plt.title('Entanglement Entropy')\n",
        "plt.show()"
      ],
      "execution_count": null,
      "outputs": []
    },
    {
      "cell_type": "code",
      "metadata": {
        "id": "GGHijitMK4Xh"
      },
      "source": [
        "for i in range(sample_size):\n",
        "  plt.plot(EE_hist[i].T)\n",
        "  #plt.plot(np.log2(ER[i].T))\n",
        "  #plt.hlines(EE,0,len(EE_hist)-1,colors='r',linestyles='dashed')\n",
        "  plt.title('Entanglement Entropy')\n",
        "  plt.show()"
      ],
      "execution_count": null,
      "outputs": []
    },
    {
      "cell_type": "code",
      "metadata": {
        "id": "aQLhj0WTWBLD"
      },
      "source": [
        "#norm_hist=norm_hist/np.max(norm_hist,axis=1).reshape(sample_size,1)"
      ],
      "execution_count": null,
      "outputs": []
    },
    {
      "cell_type": "markdown",
      "metadata": {
        "id": "DgnTsXm76Z7m"
      },
      "source": [
        "$(XY)^N$\n",
        "\n",
        "$X^{1/2} Y X^{1/2}$\n",
        "\n",
        "$X^{1/2} YXYXYXY X^{1/2}$"
      ]
    },
    {
      "cell_type": "code",
      "metadata": {
        "id": "Q9Rk3lGwSsQA"
      },
      "source": [
        "for i in range(sample_size):\n",
        "  plt.semilogy(norm_hist[i,:6].T)\n",
        "plt.title('Normalization Constant')\n",
        "plt.show()"
      ],
      "execution_count": null,
      "outputs": []
    },
    {
      "cell_type": "code",
      "metadata": {
        "id": "6oJyqBqGuXwF"
      },
      "source": [
        "plt.scatter(np.log10(norm_hist), ER) "
      ],
      "execution_count": null,
      "outputs": []
    },
    {
      "cell_type": "code",
      "metadata": {
        "id": "V9pp0Y7mUINz"
      },
      "source": [
        "for i in range(5):\n",
        "  plt.scatter(np.log10(norm_hist[:,i]), ER[:,i])\n",
        "plt.show()"
      ],
      "execution_count": null,
      "outputs": []
    },
    {
      "cell_type": "code",
      "metadata": {
        "id": "CeW5wrEwcp0U"
      },
      "source": [
        "for i in range(10):\n",
        "  plt.scatter(np.log10(norm_hist[:,i]/norm_hist[:,-1]), EE_hist[:,i])\n",
        "plt.show()"
      ],
      "execution_count": null,
      "outputs": []
    },
    {
      "cell_type": "code",
      "metadata": {
        "id": "QDgtCBkuU5uF"
      },
      "source": [
        "for i in range(sample_size):\n",
        "  plt.scatter(norm_hist[i,:], ER[i,:])\n",
        "  plt.show()"
      ],
      "execution_count": null,
      "outputs": []
    },
    {
      "cell_type": "code",
      "metadata": {
        "id": "bvzXgZPafEQi"
      },
      "source": [
        ""
      ],
      "execution_count": null,
      "outputs": []
    },
    {
      "cell_type": "markdown",
      "metadata": {
        "id": "i-Puq3sCfEgD"
      },
      "source": [
        "### Special Cases"
      ]
    },
    {
      "cell_type": "code",
      "metadata": {
        "id": "44y3h1noen3Z"
      },
      "source": [
        "plt.plot(EE_hist[-3,:])"
      ],
      "execution_count": null,
      "outputs": []
    },
    {
      "cell_type": "code",
      "metadata": {
        "id": "fe0WOfs7fGui"
      },
      "source": [
        "plt.plot(S_hist[-3,:4,:10])\n",
        "plt.title('Schmidt coefficients')\n",
        "plt.ylim((1e-16,1))\n",
        "#plt.legend(np.arange(6,12))\n",
        "plt.show()\n",
        "\n",
        "plt.semilogy(S_hist[-3,:max_rank,:10])\n",
        "plt.title('Schmidt coefficients')\n",
        "plt.ylim((1e-16,1))\n",
        "#plt.legend(np.arange(6,12))\n",
        "plt.show()"
      ],
      "execution_count": null,
      "outputs": []
    },
    {
      "cell_type": "code",
      "metadata": {
        "id": "uRuvmocvfDbx"
      },
      "source": [
        "log_norm=np.log2(norm_hist)"
      ],
      "execution_count": null,
      "outputs": []
    },
    {
      "cell_type": "code",
      "metadata": {
        "id": "tBouKNh68_WX"
      },
      "source": [
        "norm_sum = np.cumsum(log_norm, axis=1)"
      ],
      "execution_count": null,
      "outputs": []
    },
    {
      "cell_type": "code",
      "metadata": {
        "id": "6sjGZ3OA9EZX"
      },
      "source": [
        "plt.figure(figsize=(8,8))\n",
        "plt.scatter(norm_sum, ER, s=10)"
      ],
      "execution_count": null,
      "outputs": []
    },
    {
      "cell_type": "code",
      "metadata": {
        "id": "bOhnd-tF-Os2"
      },
      "source": [
        "plt.scatter(norm_sum[:,10], ER[:,10], s=10)"
      ],
      "execution_count": null,
      "outputs": []
    },
    {
      "cell_type": "code",
      "metadata": {
        "id": "V_0X-JzC-orC"
      },
      "source": [
        "for i in range(5):\n",
        "  plt.scatter(norm_sum[:,i], ER[:,i], s=10)"
      ],
      "execution_count": null,
      "outputs": []
    },
    {
      "cell_type": "code",
      "metadata": {
        "id": "VD070Xri_J4L"
      },
      "source": [
        "for i in range(2,3):\n",
        "  plt.scatter(norm_sum[:,i], EE_hist[:,i], s=10)"
      ],
      "execution_count": null,
      "outputs": []
    },
    {
      "cell_type": "code",
      "metadata": {
        "id": "nNSL0tn3_mhB"
      },
      "source": [
        ""
      ],
      "execution_count": null,
      "outputs": []
    }
  ]
}